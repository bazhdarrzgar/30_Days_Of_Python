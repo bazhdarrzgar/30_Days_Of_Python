{
 "cells": [
  {
   "cell_type": "code",
   "execution_count": 1,
   "id": "44ed1e44",
   "metadata": {},
   "outputs": [],
   "source": [
    "import pickle\n",
    "import statistics as sts\n",
    "import seaborn as sns"
   ]
  },
  {
   "cell_type": "code",
   "execution_count": 3,
   "id": "fe94c540",
   "metadata": {},
   "outputs": [
    {
     "name": "stdout",
     "output_type": "stream",
     "text": [
      "enter link  https://www.amazon.in/Rockerz-370-Headphone-Bluetooth-Lightweight/product-reviews/B0856HNMR7/ref=cm_cr_arp_d_paging_btm_next\n",
      "Done\n"
     ]
    },
    {
     "data": {
      "text/plain": [
       "0      I am very happy to buy this product... Nice pr...\n",
       "1      Amazingly Amazon It says 8 hrs but since I use...\n",
       "2      base king the base is really good. it a value ...\n",
       "3      The head phone plastic band broken out. This p...\n",
       "4      Cheap Plastic, Average product.  Sound is dist...\n",
       "                             ...                        \n",
       "795    Value for the money Sound is very crystal clea...\n",
       "796    Don't buy it please... Bass is disgusting... R...\n",
       "797    Cheap Quality I have used it for 1 month after...\n",
       "798    After 2 month review Marvelous performanceIf y...\n",
       "799    Broken within one month!!! I have been a huge ...\n",
       "Name: reviews, Length: 800, dtype: object"
      ]
     },
     "execution_count": 3,
     "metadata": {},
     "output_type": "execute_result"
    }
   ],
   "source": [
    "import pandas as pd\n",
    "from bs4 import BeautifulSoup\n",
    "import urllib.request as url\n",
    "import requests\n",
    "#import streamlit as st\n",
    "\n",
    "# so we can see the output side by side\n",
    "#st.set_page_config(layout=\"wide\")\n",
    "\n",
    "\n",
    "def get_soup(url):\n",
    "    url = url\n",
    "    page =requests.get(url)\n",
    "    soup = BeautifulSoup(page.content, 'html.parser')\n",
    "    return soup\n",
    "   \n",
    "reviewlist = []\n",
    "#fetching only data which is necessary like rating title and content given by the customers\n",
    "def get_reviews(soup):\n",
    "    reviews = soup.find_all('div', {'data-hook': 'review'})\n",
    "    try:\n",
    "        for item in reviews:\n",
    "            review = {\n",
    "            'title': item.find('a', {'data-hook': 'review-title'}).text.strip(),\n",
    "            'rating':  float(item.find('i', {'data-hook': 'review-star-rating'}).text.replace('out of 5 stars', '').strip()),\n",
    "            'content': item.find('span', {'data-hook': 'review-body'}).text.strip(),\n",
    "            }\n",
    "            reviewlist.append(review)\n",
    "    except:\n",
    "        pass\n",
    "    \n",
    "# compare easier\n",
    "#col1,col2 = st.columns(2)\n",
    "#with col2:\n",
    "    #url = input('URL link to scrape')\n",
    "urls = input(\"enter link \")\n",
    "    #creating a loop from 1 to 100 reviews pages of the product\n",
    "for x in range(1,100):\n",
    "    soup = get_soup(urls)\n",
    "    get_reviews(soup)\n",
    "    if not soup.find('li', {'class': 'a-disabled a-last'}):\n",
    "        pass\n",
    "    else:\n",
    "        break\n",
    "print('Done')\n",
    "import pandas as pd\n",
    "df = pd.DataFrame(reviewlist)\n",
    "df['reviews'] = df['title']+\" \"+df[\"content\"]\n",
    "df['reviews']"
   ]
  },
  {
   "cell_type": "code",
   "execution_count": 5,
   "id": "3b13416a",
   "metadata": {},
   "outputs": [],
   "source": [
    "def load_model():\n",
    "    with open('C:/Users/91960/Downloads/amazon_review/model.pkl', 'rb') as file:\n",
    "      model = pickle.load(file)\n",
    "    return model\n",
    "model = load_model()\n",
    "\n",
    "\n",
    "#load tf_idf vectorizer\n",
    "vectorizer = pickle.load(open('C:/Users/91960/Downloads/amazon_review/vectorizer.pkl', \"rb\"))\n"
   ]
  },
  {
   "cell_type": "markdown",
   "id": "4a602fdf",
   "metadata": {},
   "source": [
    "import requests\n",
    "from bs4 import *\n",
    "from urllib import request\n",
    "\n",
    "\n",
    "url1 = input(\"Enter url you want to crawl:\")\n",
    "max_pages1 = int(input(\"Enter no. of pages you want to crawl:\"))\n",
    "\n",
    "\n",
    "def web_crawler(max_pages,url):\n",
    "   page = 1\n",
    "   while page <= max_pages:\n",
    "      url4 = str(url) + str(page)\n",
    "      url_get = requests.get(url4)\n",
    "      plain_text = url_get.text\n",
    "      soup = BeautifulSoup(plain_text,\"html.parser\")\n",
    "      for a in soup.findAll('a',{'rel':'bookmark'}):\n",
    "          href = a.get('href')\n",
    "          title = a.string\n",
    "          #print(title)\n",
    "          print(href)\n",
    "          #info_about_web_pages(href)\n",
    "      page +=1\n",
    "\n",
    "def info_about_web_pages(url):\n",
    "   url_get = requests.get(url)\n",
    "   plain_text = url_get.text\n",
    "   soup = BeautifulSoup(plain_text,\"html.parser\" )\n",
    "   links = set()\n",
    "   for about in soup.findAll('a'):\n",
    "       href = about.get('href')\n",
    "       links.update([href])\n",
    "\n",
    "   print(links)\n",
    "\n",
    "web_crawler(max_pages1,url1)"
   ]
  },
  {
   "cell_type": "code",
   "execution_count": 6,
   "id": "0a30bf52",
   "metadata": {},
   "outputs": [
    {
     "name": "stdout",
     "output_type": "stream",
     "text": [
      "positive sentiment\n"
     ]
    }
   ],
   "source": [
    "test = vectorizer.transform(df['reviews'])\n",
    "prediction = model.predict(test)\n",
    "result = sts.mode(prediction)\n",
    "if  result == 2:\n",
    "    print(\"positive sentiment\")\n",
    "elif result == 1:\n",
    "    print(\"nutral sentiment\")\n",
    "else :\n",
    "    print(\"negative sentiment\")\n",
    "    \n",
    "\n",
    "\n",
    "    "
   ]
  },
  {
   "cell_type": "code",
   "execution_count": 7,
   "id": "ba179d5f",
   "metadata": {},
   "outputs": [],
   "source": [
    "d = {'results':prediction}\n",
    "pred = pd.DataFrame(data=d)\n",
    "def lable(score):\n",
    "    if score == 0:\n",
    "        return 'Negative'\n",
    "    elif score == 1:\n",
    "        return 'Neutral'\n",
    "    else:\n",
    "        return 'Positive'\n",
    "pred['lable'] = pred['results'].apply(lable)    "
   ]
  },
  {
   "cell_type": "code",
   "execution_count": 8,
   "id": "882782f7",
   "metadata": {},
   "outputs": [
    {
     "name": "stderr",
     "output_type": "stream",
     "text": [
      "C:\\Users\\91960\\anaconda3\\lib\\site-packages\\seaborn\\_decorators.py:36: FutureWarning: Pass the following variable as a keyword arg: x. From version 0.12, the only valid positional argument will be `data`, and passing other arguments without an explicit keyword will result in an error or misinterpretation.\n",
      "  warnings.warn(\n"
     ]
    },
    {
     "data": {
      "text/plain": [
       "<AxesSubplot:xlabel='lable', ylabel='count'>"
      ]
     },
     "execution_count": 8,
     "metadata": {},
     "output_type": "execute_result"
    },
    {
     "data": {
      "image/png": "[encoded data removed]",
      "text/plain": [
       "<Figure size 432x288 with 1 Axes>"
      ]
     },
     "metadata": {
      "needs_background": "light"
     },
     "output_type": "display_data"
    }
   ],
   "source": [
    "sns.countplot(pred['lable'])"
   ]
  },
  {
   "cell_type": "code",
   "execution_count": 9,
   "id": "0011a5d5",
   "metadata": {},
   "outputs": [
    {
     "data": {
      "text/plain": [
       "Positive    560\n",
       "Negative    240\n",
       "Name: lable, dtype: int64"
      ]
     },
     "execution_count": 9,
     "metadata": {},
     "output_type": "execute_result"
    }
   ],
   "source": [
    "pred['lable'].value_counts()"
   ]
  },
  {
   "cell_type": "code",
   "execution_count": 10,
   "id": "329a9d52",
   "metadata": {},
   "outputs": [
    {
     "data": {
      "text/plain": [
       "array([2, 2, 2, 0, 2, 2, 0, 2, 2, 0, 2, 2, 2, 0, 2, 2, 0, 2, 2, 0, 2, 2,\n",
       "       2, 0, 2, 2, 0, 2, 2, 0, 2, 2, 2, 0, 2, 2, 0, 2, 2, 0, 2, 2, 2, 0,\n",
       "       2, 2, 0, 2, 2, 0, 2, 2, 2, 0, 2, 2, 0, 2, 2, 0, 2, 2, 2, 0, 2, 2,\n",
       "       0, 2, 2, 0, 2, 2, 2, 0, 2, 2, 0, 2, 2, 0, 2, 2, 2, 0, 2, 2, 0, 2,\n",
       "       2, 0, 2, 2, 2, 0, 2, 2, 0, 2, 2, 0, 2, 2, 2, 0, 2, 2, 0, 2, 2, 0,\n",
       "       2, 2, 2, 0, 2, 2, 0, 2, 2, 0, 2, 2, 2, 0, 2, 2, 0, 2, 2, 0, 2, 2,\n",
       "       2, 0, 2, 2, 0, 2, 2, 0, 2, 2, 2, 0, 2, 2, 0, 2, 2, 0, 2, 2, 2, 0,\n",
       "       2, 2, 0, 2, 2, 0, 2, 2, 2, 0, 2, 2, 0, 2, 2, 0, 2, 2, 2, 0, 2, 2,\n",
       "       0, 2, 2, 0, 2, 2, 2, 0, 2, 2, 0, 2, 2, 0, 2, 2, 2, 0, 2, 2, 0, 2,\n",
       "       2, 0, 2, 2, 2, 0, 2, 2, 0, 2, 2, 0, 2, 2, 2, 0, 2, 2, 0, 2, 2, 0,\n",
       "       2, 2, 2, 0, 2, 2, 0, 2, 2, 0, 2, 2, 2, 0, 2, 2, 0, 2, 2, 0, 2, 2,\n",
       "       2, 0, 2, 2, 0, 2, 2, 0, 2, 2, 2, 0, 2, 2, 0, 2, 2, 0, 2, 2, 2, 0,\n",
       "       2, 2, 0, 2, 2, 0, 2, 2, 2, 0, 2, 2, 0, 2, 2, 0, 2, 2, 2, 0, 2, 2,\n",
       "       0, 2, 2, 0, 2, 2, 2, 0, 2, 2, 0, 2, 2, 0, 2, 2, 2, 0, 2, 2, 0, 2,\n",
       "       2, 0, 2, 2, 2, 0, 2, 2, 0, 2, 2, 0, 2, 2, 2, 0, 2, 2, 0, 2, 2, 0,\n",
       "       2, 2, 2, 0, 2, 2, 0, 2, 2, 0, 2, 2, 2, 0, 2, 2, 0, 2, 2, 0, 2, 2,\n",
       "       2, 0, 2, 2, 0, 2, 2, 0, 2, 2, 2, 0, 2, 2, 0, 2, 2, 0, 2, 2, 2, 0,\n",
       "       2, 2, 0, 2, 2, 0, 2, 2, 2, 0, 2, 2, 0, 2, 2, 0, 2, 2, 2, 0, 2, 2,\n",
       "       0, 2, 2, 0, 2, 2, 2, 0, 2, 2, 0, 2, 2, 0, 2, 2, 2, 0, 2, 2, 0, 2,\n",
       "       2, 0, 2, 2, 2, 0, 2, 2, 0, 2, 2, 0, 2, 2, 2, 0, 2, 2, 0, 2, 2, 0,\n",
       "       2, 2, 2, 0, 2, 2, 0, 2, 2, 0, 2, 2, 2, 0, 2, 2, 0, 2, 2, 0, 2, 2,\n",
       "       2, 0, 2, 2, 0, 2, 2, 0, 2, 2, 2, 0, 2, 2, 0, 2, 2, 0, 2, 2, 2, 0,\n",
       "       2, 2, 0, 2, 2, 0, 2, 2, 2, 0, 2, 2, 0, 2, 2, 0, 2, 2, 2, 0, 2, 2,\n",
       "       0, 2, 2, 0, 2, 2, 2, 0, 2, 2, 0, 2, 2, 0, 2, 2, 2, 0, 2, 2, 0, 2,\n",
       "       2, 0, 2, 2, 2, 0, 2, 2, 0, 2, 2, 0, 2, 2, 2, 0, 2, 2, 0, 2, 2, 0,\n",
       "       2, 2, 2, 0, 2, 2, 0, 2, 2, 0, 2, 2, 2, 0, 2, 2, 0, 2, 2, 0, 2, 2,\n",
       "       2, 0, 2, 2, 0, 2, 2, 0, 2, 2, 2, 0, 2, 2, 0, 2, 2, 0, 2, 2, 2, 0,\n",
       "       2, 2, 0, 2, 2, 0, 2, 2, 2, 0, 2, 2, 0, 2, 2, 0, 2, 2, 2, 0, 2, 2,\n",
       "       0, 2, 2, 0, 2, 2, 2, 0, 2, 2, 0, 2, 2, 0, 2, 2, 2, 0, 2, 2, 0, 2,\n",
       "       2, 0, 2, 2, 2, 0, 2, 2, 0, 2, 2, 0, 2, 2, 2, 0, 2, 2, 0, 2, 2, 0,\n",
       "       2, 2, 2, 0, 2, 2, 0, 2, 2, 0, 2, 2, 2, 0, 2, 2, 0, 2, 2, 0, 2, 2,\n",
       "       2, 0, 2, 2, 0, 2, 2, 0, 2, 2, 2, 0, 2, 2, 0, 2, 2, 0, 2, 2, 2, 0,\n",
       "       2, 2, 0, 2, 2, 0, 2, 2, 2, 0, 2, 2, 0, 2, 2, 0, 2, 2, 2, 0, 2, 2,\n",
       "       0, 2, 2, 0, 2, 2, 2, 0, 2, 2, 0, 2, 2, 0, 2, 2, 2, 0, 2, 2, 0, 2,\n",
       "       2, 0, 2, 2, 2, 0, 2, 2, 0, 2, 2, 0, 2, 2, 2, 0, 2, 2, 0, 2, 2, 0,\n",
       "       2, 2, 2, 0, 2, 2, 0, 2, 2, 0, 2, 2, 2, 0, 2, 2, 0, 2, 2, 0, 2, 2,\n",
       "       2, 0, 2, 2, 0, 2, 2, 0])"
      ]
     },
     "execution_count": 10,
     "metadata": {},
     "output_type": "execute_result"
    }
   ],
   "source": [
    "prediction"
   ]
  },
  {
   "cell_type": "code",
   "execution_count": 11,
   "id": "2240e2f1",
   "metadata": {},
   "outputs": [
    {
     "name": "stderr",
     "output_type": "stream",
     "text": [
      "C:\\Users\\91960\\anaconda3\\lib\\site-packages\\seaborn\\_decorators.py:36: FutureWarning: Pass the following variable as a keyword arg: x. From version 0.12, the only valid positional argument will be `data`, and passing other arguments without an explicit keyword will result in an error or misinterpretation.\n",
      "  warnings.warn(\n"
     ]
    },
    {
     "data": {
      "text/plain": [
       "<AxesSubplot:xlabel='rating', ylabel='count'>"
      ]
     },
     "execution_count": 11,
     "metadata": {},
     "output_type": "execute_result"
    },
    {
     "data": {
      "image/png": "[encoded data removed]",
      "text/plain": [
       "<Figure size 432x288 with 1 Axes>"
      ]
     },
     "metadata": {
      "needs_background": "light"
     },
     "output_type": "display_data"
    }
   ],
   "source": [
    "sns.countplot(df['rating'])"
   ]
  },
  {
   "cell_type": "markdown",
   "id": "19f186e5",
   "metadata": {},
   "source": [
    "https://www.amazon.in/Rockerz-370-Headphone-Bluetooth-Lightweight/product-reviews/B0856HNMR7/ref=cm_cr_arp_d_paging_btm_next"
   ]
  },
  {
   "cell_type": "code",
   "execution_count": null,
   "id": "cda3a4d0",
   "metadata": {},
   "outputs": [],
   "source": []
  }
 ],
 "metadata": {
  "kernelspec": {
   "display_name": "Python 3 (ipykernel)",
   "language": "python",
   "name": "python3"
  },
  "language_info": {
   "codemirror_mode": {
    "name": "ipython",
    "version": 3
   },
   "file_extension": ".py",
   "mimetype": "text/x-python",
   "name": "python",
   "nbconvert_exporter": "python",
   "pygments_lexer": "ipython3",
   "version": "3.9.12"
  }
 },
 "nbformat": 4,
 "nbformat_minor": 5
}
