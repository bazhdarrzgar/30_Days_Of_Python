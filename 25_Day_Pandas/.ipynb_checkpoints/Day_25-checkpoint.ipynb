{
 "cells": [
  {
   "cell_type": "markdown",
   "metadata": {},
   "source": [
    " # What is panda\n",
    " \n",
    "```python\n",
    "\n",
    "* Pandas is an open source, high-performance, easy-to-use data structures and data analysis tools for the Python programming language. Pandas adds data structures and tools designed to work with table-like data which is Series and Data Frames. Pandas provides tools for data manipulation:\n",
    "\n",
    "*    reshaping\n",
    "*    merging\n",
    "*    sorting\n",
    "*    slicing\n",
    "*    aggregation\n",
    "*    imputation. If you are using anaconda, you do not have install pandas.\n",
    "\n",
    "\n",
    "```"
   ]
  },
  {
   "cell_type": "markdown",
   "metadata": {},
   "source": [
    "# Install panda \n",
    "\n",
    "```sh\n",
    "\n",
    "## for linux & mac user\n",
    "\n",
    "# 1. install conda\n",
    "\n",
    "pip install conda\n",
    "\n",
    "# 2. install panda\n",
    "\n",
    "conda install pandas\n",
    "\n",
    "\n",
    "\n",
    "## for windows user\n",
    "\n",
    "# 1. install conda\n",
    "\n",
    "pip install conda\n",
    "\n",
    "# 1. install panda\n",
    "\n",
    "pip install pandas\n",
    "\n",
    "```"
   ]
  },
  {
   "cell_type": "markdown",
   "metadata": {},
   "source": [
    "# Import pandas"
   ]
  },
  {
   "cell_type": "code",
   "execution_count": 3,
   "metadata": {},
   "outputs": [],
   "source": [
    "import pandas as pd # importing pandas as pd\n",
    "import numpy  as np # importing numpy as np"
   ]
  },
  {
   "cell_type": "markdown",
   "metadata": {},
   "source": [
    "### Creating Pandas Series with Default Index"
   ]
  },
  {
   "cell_type": "code",
   "execution_count": 63,
   "metadata": {},
   "outputs": [
    {
     "name": "stdout",
     "output_type": "stream",
     "text": [
      "0    1\n",
      "1    2\n",
      "2    3\n",
      "3    4\n",
      "4    5\n",
      "dtype: int64\n"
     ]
    }
   ],
   "source": [
    "'''\n",
    "## Series()   funciton will return the index and the data type of the list or tuple but not set\n",
    "'''\n",
    "\n",
    "nums = [1, 2, 3, 4,5]\n",
    "# nums = (1, 2, 3, 4,5)\n",
    "# nums = {1, 2, 3, 4,5} # 'set' type is unordered\n",
    "s = pd.Series(nums)\n",
    "\n",
    "print(s)"
   ]
  },
  {
   "cell_type": "markdown",
   "metadata": {},
   "source": [
    "### Creating Pandas Series with custom index"
   ]
  },
  {
   "cell_type": "code",
   "execution_count": 66,
   "metadata": {},
   "outputs": [
    {
     "name": "stdout",
     "output_type": "stream",
     "text": [
      "1    1\n",
      "2    2\n",
      "3    3\n",
      "4    4\n",
      "5    5\n",
      "dtype: int64\n"
     ]
    }
   ],
   "source": [
    "nums = [1, 2, 3, 4, 5]\n",
    "s = pd.Series(nums, index=[1, 2, 3, 4, 5]) # manually change the index of list or tuple that use by   Series()   function using ( index ) parameter \n",
    "\n",
    "print(s)"
   ]
  },
  {
   "cell_type": "code",
   "execution_count": 8,
   "metadata": {},
   "outputs": [
    {
     "name": "stdout",
     "output_type": "stream",
     "text": [
      "1    Orange\n",
      "2    Banana\n",
      "3     Mango\n",
      "dtype: object\n"
     ]
    }
   ],
   "source": [
    "fruits = ['Orange','Banana','Mango']\n",
    "fruits = pd.Series(fruits, index=[1, 2, 3])\n",
    "\n",
    "print(fruits)"
   ]
  },
  {
   "cell_type": "markdown",
   "metadata": {},
   "source": [
    "### Creating Pandas Series from a Dictionary"
   ]
  },
  {
   "cell_type": "code",
   "execution_count": 68,
   "metadata": {},
   "outputs": [
    {
     "name": "stdout",
     "output_type": "stream",
     "text": [
      "name       Asabeneh\n",
      "country     Finland\n",
      "city       Helsinki\n",
      "dtype: object\n"
     ]
    }
   ],
   "source": [
    "dct = {'name':'Asabeneh','country':'Finland','city':'Helsinki'} # dictionary   or   object\n",
    "s = pd.Series(dct) # Series()   function will return the key of the value instaid of index if you are use dictionary\n",
    "\n",
    "print(s)"
   ]
  },
  {
   "cell_type": "markdown",
   "metadata": {},
   "source": [
    "### Creating a Constant Pandas Series"
   ]
  },
  {
   "cell_type": "code",
   "execution_count": 69,
   "metadata": {},
   "outputs": [
    {
     "name": "stdout",
     "output_type": "stream",
     "text": [
      "1    10\n",
      "2    10\n",
      "3    10\n",
      "dtype: int64\n"
     ]
    }
   ],
   "source": [
    "s = pd.Series(10, index = [1, 2, 3]) # taking index value for value of value of 10\n",
    "'''\n",
    "1    10\n",
    "2    10\n",
    "3    10\n",
    "'''\n",
    "print(s)"
   ]
  },
  {
   "cell_type": "markdown",
   "metadata": {},
   "source": [
    "### Creating a Pandas Series Using Linspace\n",
    "\n",
    "```python\n",
    "\n",
    "# Syntax\n",
    "\n",
    "panda.Series(numpy.linspace(starting, end, number_of_value))\n",
    "\n",
    "```"
   ]
  },
  {
   "cell_type": "code",
   "execution_count": 70,
   "metadata": {},
   "outputs": [
    {
     "name": "stdout",
     "output_type": "stream",
     "text": [
      "0     5.000000\n",
      "1     6.666667\n",
      "2     8.333333\n",
      "3    10.000000\n",
      "4    11.666667\n",
      "5    13.333333\n",
      "6    15.000000\n",
      "7    16.666667\n",
      "8    18.333333\n",
      "9    20.000000\n",
      "dtype: float64\n"
     ]
    }
   ],
   "source": [
    "s = pd.Series(np.linspace(5, 20, 10)) # linspace(starting, end, number_of_value)\n",
    "\n",
    "print(s)"
   ]
  },
  {
   "cell_type": "markdown",
   "metadata": {},
   "source": [
    "# DataFrames\n",
    "\n",
    "### Creating DataFrames from List of Lists\n",
    "\n",
    "```python\n",
    "\n",
    "# Syntax\n",
    "\n",
    "panda.DataFrame(data..., columns=[column1, column2, column3, ...])\n",
    "\n",
    "\n",
    "## DataFrame()   function will return the column name if you specify and the index of the value\n",
    "\n",
    "\n",
    "```"
   ]
  },
  {
   "cell_type": "code",
   "execution_count": 71,
   "metadata": {},
   "outputs": [
    {
     "name": "stdout",
     "output_type": "stream",
     "text": [
      "      Names  Country       City\n",
      "0  Asabeneh  Finland    Helsink\n",
      "1     David       UK     London\n",
      "2      John   Sweden  Stockholm\n"
     ]
    }
   ],
   "source": [
    "data = [\n",
    "    ['Asabeneh', 'Finland', 'Helsink'], \n",
    "    ['David', 'UK', 'London'],\n",
    "    ['John', 'Sweden', 'Stockholm']\n",
    "]\n",
    "\n",
    "df = pd.DataFrame(data, columns=['Names','Country','City']) \n",
    "\n",
    "print(df)"
   ]
  },
  {
   "cell_type": "markdown",
   "metadata": {},
   "source": [
    "### Creating a Constant Pandas Series"
   ]
  },
  {
   "cell_type": "code",
   "execution_count": 72,
   "metadata": {},
   "outputs": [
    {
     "name": "stdout",
     "output_type": "stream",
     "text": [
      "1    10\n",
      "2    10\n",
      "3    10\n",
      "dtype: int64\n"
     ]
    }
   ],
   "source": [
    "s = pd.Series(10, index = [1, 2, 3]) # taking index to the value of 10\n",
    "'''\n",
    "1    10\n",
    "2    10\n",
    "3    10\n",
    "'''\n",
    "\n",
    "print(s)"
   ]
  },
  {
   "cell_type": "markdown",
   "metadata": {},
   "source": [
    "### Creating a Pandas Series Using Linspace"
   ]
  },
  {
   "cell_type": "code",
   "execution_count": 15,
   "metadata": {},
   "outputs": [
    {
     "name": "stdout",
     "output_type": "stream",
     "text": [
      "0     5.000000\n",
      "1     6.666667\n",
      "2     8.333333\n",
      "3    10.000000\n",
      "4    11.666667\n",
      "5    13.333333\n",
      "6    15.000000\n",
      "7    16.666667\n",
      "8    18.333333\n",
      "9    20.000000\n",
      "dtype: float64\n"
     ]
    }
   ],
   "source": [
    "s = pd.Series(np.linspace(5, 20, 10)) # linspace(starting, end, number_of_value)\n",
    "\n",
    "print(s)"
   ]
  },
  {
   "cell_type": "markdown",
   "metadata": {},
   "source": [
    "# DataFrames\n",
    "\n",
    "### Creating DataFrames from List of Lists "
   ]
  },
  {
   "cell_type": "code",
   "execution_count": 73,
   "metadata": {},
   "outputs": [
    {
     "name": "stdout",
     "output_type": "stream",
     "text": [
      "      Names  Country       City\n",
      "0  Asabeneh  Finland    Helsink\n",
      "1     David       UK     London\n",
      "2      John   Sweden  Stockholm\n"
     ]
    }
   ],
   "source": [
    "data = [\n",
    "    ['Asabeneh', 'Finland', 'Helsink'], \n",
    "    ['David', 'UK', 'London'],\n",
    "    ['John', 'Sweden', 'Stockholm']\n",
    "]\n",
    "\n",
    "df = pd.DataFrame(data, columns=['Names','Country','City'])\n",
    "\n",
    "print(df)"
   ]
  },
  {
   "cell_type": "markdown",
   "metadata": {},
   "source": [
    "### Creating DataFrame Using Dictionary"
   ]
  },
  {
   "cell_type": "code",
   "execution_count": 80,
   "metadata": {},
   "outputs": [
    {
     "name": "stdout",
     "output_type": "stream",
     "text": [
      "       Name  Country       City\n",
      "0  Asabeneh  Finland    Helsiki\n",
      "1     David       UK     London\n",
      "2      John   Sweden  Stockholm\n"
     ]
    }
   ],
   "source": [
    "data = {\n",
    "        'Name': ['Asabeneh', 'David', 'John'], \n",
    "        'Country':['Finland', 'UK', 'Sweden'], \n",
    "        'City': ['Helsiki', 'London', 'Stockholm']\n",
    "}\n",
    "\n",
    "df = pd.DataFrame(data) # for dictionary you don't need to specify the columns name because the key is the column name for the value\n",
    "\n",
    "print(df)"
   ]
  },
  {
   "cell_type": "code",
   "execution_count": 85,
   "metadata": {},
   "outputs": [
    {
     "name": "stdout",
     "output_type": "stream",
     "text": [
      "       Name  Country       City\n",
      "0  Asabeneh  Finland   Helsinki\n",
      "1     David       UK     London\n",
      "2      John   Sweden  Stockholm\n",
      "<class 'list'>\n"
     ]
    }
   ],
   "source": [
    "data = [\n",
    "    {'Name': 'Asabeneh', 'Country': 'Finland', 'City': 'Helsinki'},\n",
    "    {'Name': 'David', 'Country': 'UK', 'City': 'London'},\n",
    "    {'Name': 'John', 'Country': 'Sweden', 'City': 'Stockholm'}\n",
    "]\n",
    "\n",
    "df = pd.DataFrame(data) # if you have list that has dictionary inside it then you don't need to specify the column name for the value because the key will be the column name for there value\n",
    "\n",
    "print(df)\n",
    "\n",
    "print(type(data)) # list"
   ]
  },
  {
   "cell_type": "markdown",
   "metadata": {},
   "source": [
    "# Reading CSV File Using Pandas\n",
    "\n",
    "```sh\n",
    "\n",
    "# To download the CSV file, what is needed in this example, console/command line is enough:\n",
    "\n",
    "curl -O https://raw.githubusercontent.com/Asabeneh/30-Days-Of-Python/master/data/weight-height.csv\n",
    "\n",
    "```\n",
    "\n",
    "```python\n",
    "\n",
    "## reading csv file using read_csv() function with pandas module\n",
    "\n",
    "pandas.read_csv('file_name.csv')\n",
    "\n",
    "```"
   ]
  },
  {
   "cell_type": "code",
   "execution_count": 86,
   "metadata": {},
   "outputs": [
    {
     "name": "stdout",
     "output_type": "stream",
     "text": [
      "      Gender     Height      Weight\n",
      "0       Male  73.847017  241.893563\n",
      "1       Male  68.781904  162.310473\n",
      "2       Male  74.110105  212.740856\n",
      "3       Male  71.730978  220.042470\n",
      "4       Male  69.881796  206.349801\n",
      "...      ...        ...         ...\n",
      "9995  Female  66.172652  136.777454\n",
      "9996  Female  67.067155  170.867906\n",
      "9997  Female  63.867992  128.475319\n",
      "9998  Female  69.034243  163.852461\n",
      "9999  Female  61.944246  113.649103\n",
      "\n",
      "[10000 rows x 3 columns]\n"
     ]
    }
   ],
   "source": [
    "import pandas as pd\n",
    "\n",
    "df = pd.read_csv('weight-height.csv')\n",
    "\n",
    "print(df)"
   ]
  },
  {
   "cell_type": "markdown",
   "metadata": {},
   "source": [
    "### Data Exploration"
   ]
  },
  {
   "cell_type": "code",
   "execution_count": 89,
   "metadata": {},
   "outputs": [
    {
     "name": "stdout",
     "output_type": "stream",
     "text": [
      "  Gender     Height      Weight\n",
      "0   Male  73.847017  241.893563\n",
      "1   Male  68.781904  162.310473\n",
      "2   Male  74.110105  212.740856\n",
      "3   Male  71.730978  220.042470\n",
      "4   Male  69.881796  206.349801\n"
     ]
    }
   ],
   "source": [
    "print(df.head()) # by default head() function will back 5 row in top, just type number of row if you want go back to you in the file from top"
   ]
  },
  {
   "cell_type": "code",
   "execution_count": 93,
   "metadata": {},
   "outputs": [
    {
     "name": "stdout",
     "output_type": "stream",
     "text": [
      "  Gender     Height      Weight\n",
      "0   Male  73.847017  241.893563\n",
      "1   Male  68.781904  162.310473\n",
      "2   Male  74.110105  212.740856\n",
      "3   Male  71.730978  220.042470\n",
      "4   Male  69.881796  206.349801\n",
      "5   Male  67.253016  152.212156\n",
      "6   Male  68.785081  183.927889\n",
      "7   Male  68.348516  167.971110\n",
      "8   Male  67.018950  175.929440\n",
      "9   Male  63.456494  156.399676\n"
     ]
    }
   ],
   "source": [
    "print(df.head(10)) # calling 10 row in top of the csv file"
   ]
  },
  {
   "cell_type": "code",
   "execution_count": 92,
   "metadata": {},
   "outputs": [
    {
     "name": "stdout",
     "output_type": "stream",
     "text": [
      "      Gender     Height      Weight\n",
      "9995  Female  66.172652  136.777454\n",
      "9996  Female  67.067155  170.867906\n",
      "9997  Female  63.867992  128.475319\n",
      "9998  Female  69.034243  163.852461\n",
      "9999  Female  61.944246  113.649103\n"
     ]
    }
   ],
   "source": [
    "print(df.tail()) # by default tail() function will back 5 row in bottom, just type number of row if you want go back to you in the file from bottom"
   ]
  },
  {
   "cell_type": "code",
   "execution_count": null,
   "metadata": {},
   "outputs": [],
   "source": [
    "print(df.tail(10)) # calling 10 row in bottom of the csv file "
   ]
  },
  {
   "cell_type": "code",
   "execution_count": 95,
   "metadata": {},
   "outputs": [
    {
     "name": "stdout",
     "output_type": "stream",
     "text": [
      "(10000, 3)\n"
     ]
    }
   ],
   "source": [
    "print(df.shape) # get the shape of the csv using ( shape ) keyword # 10000 rows and 3 columns"
   ]
  },
  {
   "cell_type": "code",
   "execution_count": 96,
   "metadata": {},
   "outputs": [
    {
     "name": "stdout",
     "output_type": "stream",
     "text": [
      "Index(['Gender', 'Height', 'Weight'], dtype='object')\n"
     ]
    }
   ],
   "source": [
    "print(df.columns) # get the name of columns and data type of the csv file using ( columns ) keyword"
   ]
  },
  {
   "cell_type": "code",
   "execution_count": 97,
   "metadata": {},
   "outputs": [
    {
     "name": "stdout",
     "output_type": "stream",
     "text": [
      "0       73.847017\n",
      "1       68.781904\n",
      "2       74.110105\n",
      "3       71.730978\n",
      "4       69.881796\n",
      "          ...    \n",
      "9995    66.172652\n",
      "9996    67.067155\n",
      "9997    63.867992\n",
      "9998    69.034243\n",
      "9999    61.944246\n",
      "Name: Height, Length: 10000, dtype: float64\n"
     ]
    }
   ],
   "source": [
    "'''\n",
    "# Syntax\n",
    "\n",
    "variable_name = pandas.read_csv('weight-height.csv')\n",
    "\n",
    "variable_name['column_name']\n",
    "\n",
    "\n",
    "## get all the data of 'Height' column, just by specifying columns name inside this bracket []\n",
    "## we get the (data of this colmuns) and the (index number) also the (length) and (data type) of this columns\n",
    "'''\n",
    "\n",
    "heights = df['Height'] \n",
    "\n",
    "print(heights)"
   ]
  },
  {
   "cell_type": "code",
   "execution_count": 99,
   "metadata": {},
   "outputs": [
    {
     "name": "stdout",
     "output_type": "stream",
     "text": [
      "0       241.893563\n",
      "1       162.310473\n",
      "2       212.740856\n",
      "3       220.042470\n",
      "4       206.349801\n",
      "           ...    \n",
      "9995    136.777454\n",
      "9996    170.867906\n",
      "9997    128.475319\n",
      "9998    163.852461\n",
      "9999    113.649103\n",
      "Name: Weight, Length: 10000, dtype: float64\n"
     ]
    }
   ],
   "source": [
    "weights = df['Weight'] # get the value of this column with index number and length and data type by specifying the column name inside this bracket [] \n",
    "\n",
    "print(weights)"
   ]
  },
  {
   "cell_type": "code",
   "execution_count": 100,
   "metadata": {},
   "outputs": [
    {
     "name": "stdout",
     "output_type": "stream",
     "text": [
      "True\n"
     ]
    }
   ],
   "source": [
    "print(len(heights) == len(weights)) # compare length of this two column with each other if match (True) if not (False)"
   ]
  },
  {
   "cell_type": "code",
   "execution_count": 102,
   "metadata": {},
   "outputs": [
    {
     "name": "stdout",
     "output_type": "stream",
     "text": [
      "count    10000.000000\n",
      "mean        66.367560\n",
      "std          3.847528\n",
      "min         54.263133\n",
      "25%         63.505620\n",
      "50%         66.318070\n",
      "75%         69.174262\n",
      "max         78.998742\n",
      "Name: Height, dtype: float64\n"
     ]
    }
   ],
   "source": [
    "'''\n",
    "## information that   describe()   function is return for specific columns is\n",
    "\n",
    "count  # number of row\n",
    "mean   # mean of all row\n",
    "std    # standard divition of all row\n",
    "min    # minimum number of all row\n",
    "%      # percentage of this row that has the same\n",
    "max    # maximum number of all row\n",
    "Name: ... # name of columns\n",
    "dtype  # data type of all row\n",
    "\n",
    "'''\n",
    "\n",
    "print(heights.describe()) # give statisical information about height data"
   ]
  },
  {
   "cell_type": "code",
   "execution_count": 103,
   "metadata": {},
   "outputs": [
    {
     "name": "stdout",
     "output_type": "stream",
     "text": [
      "count    10000.000000\n",
      "mean       161.440357\n",
      "std         32.108439\n",
      "min         64.700127\n",
      "25%        135.818051\n",
      "50%        161.212928\n",
      "75%        187.169525\n",
      "max        269.989699\n",
      "Name: Weight, dtype: float64\n"
     ]
    }
   ],
   "source": [
    "print(weights.describe()) # give statisical information about weight data"
   ]
  },
  {
   "cell_type": "code",
   "execution_count": 104,
   "metadata": {},
   "outputs": [
    {
     "name": "stdout",
     "output_type": "stream",
     "text": [
      "             Height        Weight\n",
      "count  10000.000000  10000.000000\n",
      "mean      66.367560    161.440357\n",
      "std        3.847528     32.108439\n",
      "min       54.263133     64.700127\n",
      "25%       63.505620    135.818051\n",
      "50%       66.318070    161.212928\n",
      "75%       69.174262    187.169525\n",
      "max       78.998742    269.989699\n"
     ]
    }
   ],
   "source": [
    "print(df.describe())  # describe can also give statistical information from a dataFrame means all the columns data"
   ]
  },
  {
   "cell_type": "markdown",
   "metadata": {},
   "source": [
    "# Modifying a DataFrame\n",
    "\n",
    "### Creating a DataFrame"
   ]
  },
  {
   "cell_type": "code",
   "execution_count": 106,
   "metadata": {},
   "outputs": [
    {
     "name": "stdout",
     "output_type": "stream",
     "text": [
      "       Name  Country       City\n",
      "0  Asabeneh  Finland   Helsinki\n",
      "1     David       UK     London\n",
      "2      John   Sweden  Stockholm\n"
     ]
    }
   ],
   "source": [
    "import pandas as pd\n",
    "import numpy as np\n",
    "\n",
    "data = [\n",
    "    {\"Name\": \"Asabeneh\", \"Country\":\"Finland\",\"City\":\"Helsinki\"},\n",
    "    {\"Name\": \"David\", \"Country\":\"UK\",\"City\":\"London\"},\n",
    "    {\"Name\": \"John\", \"Country\":\"Sweden\",\"City\":\"Stockholm\"}\n",
    "]\n",
    "\n",
    "df = pd.DataFrame(data) # you don't need specifying the columns name for this list that have dictionary inside it because the key of the value in dictionary is column name for there value\n",
    "\n",
    "print(df)"
   ]
  },
  {
   "cell_type": "markdown",
   "metadata": {},
   "source": [
    "### Adding a New Column\n",
    "\n",
    "```python\n",
    "\n",
    "data_variable = ....\n",
    "\n",
    "DataFrame_variable['column_name'] = data_variable\n",
    "\n",
    "## Note: this column with this data is add in the end of this column DataFrame had\n",
    "\n",
    "```"
   ]
  },
  {
   "cell_type": "code",
   "execution_count": 111,
   "metadata": {},
   "outputs": [
    {
     "data": {
      "text/html": [
       "<div>\n",
       "<style scoped>\n",
       "    .dataframe tbody tr th:only-of-type {\n",
       "        vertical-align: middle;\n",
       "    }\n",
       "\n",
       "    .dataframe tbody tr th {\n",
       "        vertical-align: top;\n",
       "    }\n",
       "\n",
       "    .dataframe thead th {\n",
       "        text-align: right;\n",
       "    }\n",
       "</style>\n",
       "<table border=\"1\" class=\"dataframe\">\n",
       "  <thead>\n",
       "    <tr style=\"text-align: right;\">\n",
       "      <th></th>\n",
       "      <th>Name</th>\n",
       "      <th>Country</th>\n",
       "      <th>City</th>\n",
       "      <th>Weight</th>\n",
       "      <th>Height</th>\n",
       "    </tr>\n",
       "  </thead>\n",
       "  <tbody>\n",
       "    <tr>\n",
       "      <th>0</th>\n",
       "      <td>Asabeneh</td>\n",
       "      <td>Finland</td>\n",
       "      <td>Helsinki</td>\n",
       "      <td>74</td>\n",
       "      <td>173</td>\n",
       "    </tr>\n",
       "    <tr>\n",
       "      <th>1</th>\n",
       "      <td>David</td>\n",
       "      <td>UK</td>\n",
       "      <td>London</td>\n",
       "      <td>78</td>\n",
       "      <td>175</td>\n",
       "    </tr>\n",
       "    <tr>\n",
       "      <th>2</th>\n",
       "      <td>John</td>\n",
       "      <td>Sweden</td>\n",
       "      <td>Stockholm</td>\n",
       "      <td>69</td>\n",
       "      <td>169</td>\n",
       "    </tr>\n",
       "  </tbody>\n",
       "</table>\n",
       "</div>"
      ],
      "text/plain": [
       "       Name  Country       City  Weight  Height\n",
       "0  Asabeneh  Finland   Helsinki      74     173\n",
       "1     David       UK     London      78     175\n",
       "2      John   Sweden  Stockholm      69     169"
      ]
     },
     "execution_count": 111,
     "metadata": {},
     "output_type": "execute_result"
    }
   ],
   "source": [
    "weights = [74, 78, 69]\n",
    "\n",
    "df['Weight'] = weights\n",
    "    \n",
    "df"
   ]
  },
  {
   "cell_type": "code",
   "execution_count": 112,
   "metadata": {},
   "outputs": [
    {
     "name": "stdout",
     "output_type": "stream",
     "text": [
      "       Name  Country       City  Weight  Height\n",
      "0  Asabeneh  Finland   Helsinki      74     173\n",
      "1     David       UK     London      78     175\n",
      "2      John   Sweden  Stockholm      69     169\n"
     ]
    }
   ],
   "source": [
    "heights = [173, 175, 169]\n",
    "\n",
    "df['Height'] = heights\n",
    "\n",
    "print(df)"
   ]
  },
  {
   "cell_type": "markdown",
   "metadata": {},
   "source": [
    "### Modifying column values\n",
    "\n",
    "```python\n",
    "\n",
    "DataFrame['column_name'] = DataFrame['column_name'] + value - value / value * value ** value % value // value ... # anything you like\n",
    "...\n",
    "...\n",
    "\n",
    "```"
   ]
  },
  {
   "cell_type": "code",
   "execution_count": 114,
   "metadata": {},
   "outputs": [
    {
     "data": {
      "text/html": [
       "<div>\n",
       "<style scoped>\n",
       "    .dataframe tbody tr th:only-of-type {\n",
       "        vertical-align: middle;\n",
       "    }\n",
       "\n",
       "    .dataframe tbody tr th {\n",
       "        vertical-align: top;\n",
       "    }\n",
       "\n",
       "    .dataframe thead th {\n",
       "        text-align: right;\n",
       "    }\n",
       "</style>\n",
       "<table border=\"1\" class=\"dataframe\">\n",
       "  <thead>\n",
       "    <tr style=\"text-align: right;\">\n",
       "      <th></th>\n",
       "      <th>Name</th>\n",
       "      <th>Country</th>\n",
       "      <th>City</th>\n",
       "      <th>Weight</th>\n",
       "      <th>Height</th>\n",
       "    </tr>\n",
       "  </thead>\n",
       "  <tbody>\n",
       "    <tr>\n",
       "      <th>0</th>\n",
       "      <td>Asabeneh</td>\n",
       "      <td>Finland</td>\n",
       "      <td>Helsinki</td>\n",
       "      <td>74</td>\n",
       "      <td>0.0173</td>\n",
       "    </tr>\n",
       "    <tr>\n",
       "      <th>1</th>\n",
       "      <td>David</td>\n",
       "      <td>UK</td>\n",
       "      <td>London</td>\n",
       "      <td>78</td>\n",
       "      <td>0.0175</td>\n",
       "    </tr>\n",
       "    <tr>\n",
       "      <th>2</th>\n",
       "      <td>John</td>\n",
       "      <td>Sweden</td>\n",
       "      <td>Stockholm</td>\n",
       "      <td>69</td>\n",
       "      <td>0.0169</td>\n",
       "    </tr>\n",
       "  </tbody>\n",
       "</table>\n",
       "</div>"
      ],
      "text/plain": [
       "       Name  Country       City  Weight  Height\n",
       "0  Asabeneh  Finland   Helsinki      74  0.0173\n",
       "1     David       UK     London      78  0.0175\n",
       "2      John   Sweden  Stockholm      69  0.0169"
      ]
     },
     "execution_count": 114,
     "metadata": {},
     "output_type": "execute_result"
    }
   ],
   "source": [
    "df['Height'] = df['Height'] * 0.01 # \n",
    "\n",
    "df"
   ]
  },
  {
   "cell_type": "code",
   "execution_count": 117,
   "metadata": {},
   "outputs": [],
   "source": [
    "# Using functions makes our code clean, but you can calculate the bmi without one\n",
    "def calculate_bmi ():\n",
    "    # define the column to there own variable\n",
    "    weights = df['Weight']\n",
    "    heights = df['Height']\n",
    "    # empty list in outside for loop because we put the value to it\n",
    "    bmi = []\n",
    "    # for loop that we used for looping throw all the value\n",
    "    # we use   zip()   function because if we have column that has less row or more row to other column and we don't get error for this\n",
    "    for w,h in zip(weights, heights):\n",
    "        # math for calculate the bmi between ( heights ) and ( weights )\n",
    "        b = w/(h*h)\n",
    "        # put value to bmi list using   append()  function\n",
    "        bmi.append(b)\n",
    "    # in the end return one by one this value to the bmi list \n",
    "    # we use list for bmi variable in outside for loop because we want store all the value in bmi list variable before get it by function\n",
    "    return bmi\n",
    "\n",
    "# calling the function\n",
    "bmi = calculate_bmi()"
   ]
  },
  {
   "cell_type": "code",
   "execution_count": 120,
   "metadata": {},
   "outputs": [
    {
     "data": {
      "text/html": [
       "<div>\n",
       "<style scoped>\n",
       "    .dataframe tbody tr th:only-of-type {\n",
       "        vertical-align: middle;\n",
       "    }\n",
       "\n",
       "    .dataframe tbody tr th {\n",
       "        vertical-align: top;\n",
       "    }\n",
       "\n",
       "    .dataframe thead th {\n",
       "        text-align: right;\n",
       "    }\n",
       "</style>\n",
       "<table border=\"1\" class=\"dataframe\">\n",
       "  <thead>\n",
       "    <tr style=\"text-align: right;\">\n",
       "      <th></th>\n",
       "      <th>Name</th>\n",
       "      <th>Country</th>\n",
       "      <th>City</th>\n",
       "      <th>Weight</th>\n",
       "      <th>Height</th>\n",
       "      <th>BMI</th>\n",
       "    </tr>\n",
       "  </thead>\n",
       "  <tbody>\n",
       "    <tr>\n",
       "      <th>0</th>\n",
       "      <td>Asabeneh</td>\n",
       "      <td>Finland</td>\n",
       "      <td>Helsinki</td>\n",
       "      <td>74</td>\n",
       "      <td>0.0173</td>\n",
       "      <td>247251.829329</td>\n",
       "    </tr>\n",
       "    <tr>\n",
       "      <th>1</th>\n",
       "      <td>David</td>\n",
       "      <td>UK</td>\n",
       "      <td>London</td>\n",
       "      <td>78</td>\n",
       "      <td>0.0175</td>\n",
       "      <td>254693.877551</td>\n",
       "    </tr>\n",
       "    <tr>\n",
       "      <th>2</th>\n",
       "      <td>John</td>\n",
       "      <td>Sweden</td>\n",
       "      <td>Stockholm</td>\n",
       "      <td>69</td>\n",
       "      <td>0.0169</td>\n",
       "      <td>241588.179686</td>\n",
       "    </tr>\n",
       "  </tbody>\n",
       "</table>\n",
       "</div>"
      ],
      "text/plain": [
       "       Name  Country       City  Weight  Height            BMI\n",
       "0  Asabeneh  Finland   Helsinki      74  0.0173  247251.829329\n",
       "1     David       UK     London      78  0.0175  254693.877551\n",
       "2      John   Sweden  Stockholm      69  0.0169  241588.179686"
      ]
     },
     "execution_count": 120,
     "metadata": {},
     "output_type": "execute_result"
    }
   ],
   "source": [
    "# putting new column for the DataFrame and this column is handle the data of (bmi) variable\n",
    "df['BMI'] = bmi\n",
    "# if you call the DataFrame like this you get beutiful table\n",
    "# but if you call the DataFrame with   print()   funciton the table is not clean like table DataFrame\n",
    "df"
   ]
  },
  {
   "cell_type": "markdown",
   "metadata": {},
   "source": [
    "### Formating DataFrame columns"
   ]
  },
  {
   "cell_type": "code",
   "execution_count": 122,
   "metadata": {},
   "outputs": [
    {
     "data": {
      "text/html": [
       "<div>\n",
       "<style scoped>\n",
       "    .dataframe tbody tr th:only-of-type {\n",
       "        vertical-align: middle;\n",
       "    }\n",
       "\n",
       "    .dataframe tbody tr th {\n",
       "        vertical-align: top;\n",
       "    }\n",
       "\n",
       "    .dataframe thead th {\n",
       "        text-align: right;\n",
       "    }\n",
       "</style>\n",
       "<table border=\"1\" class=\"dataframe\">\n",
       "  <thead>\n",
       "    <tr style=\"text-align: right;\">\n",
       "      <th></th>\n",
       "      <th>Name</th>\n",
       "      <th>Country</th>\n",
       "      <th>City</th>\n",
       "      <th>Weight</th>\n",
       "      <th>Height</th>\n",
       "      <th>BMI</th>\n",
       "    </tr>\n",
       "  </thead>\n",
       "  <tbody>\n",
       "    <tr>\n",
       "      <th>0</th>\n",
       "      <td>Asabeneh</td>\n",
       "      <td>Finland</td>\n",
       "      <td>Helsinki</td>\n",
       "      <td>74</td>\n",
       "      <td>0.0173</td>\n",
       "      <td>247251.8</td>\n",
       "    </tr>\n",
       "    <tr>\n",
       "      <th>1</th>\n",
       "      <td>David</td>\n",
       "      <td>UK</td>\n",
       "      <td>London</td>\n",
       "      <td>78</td>\n",
       "      <td>0.0175</td>\n",
       "      <td>254693.9</td>\n",
       "    </tr>\n",
       "    <tr>\n",
       "      <th>2</th>\n",
       "      <td>John</td>\n",
       "      <td>Sweden</td>\n",
       "      <td>Stockholm</td>\n",
       "      <td>69</td>\n",
       "      <td>0.0169</td>\n",
       "      <td>241588.2</td>\n",
       "    </tr>\n",
       "  </tbody>\n",
       "</table>\n",
       "</div>"
      ],
      "text/plain": [
       "       Name  Country       City  Weight  Height       BMI\n",
       "0  Asabeneh  Finland   Helsinki      74  0.0173  247251.8\n",
       "1     David       UK     London      78  0.0175  254693.9\n",
       "2      John   Sweden  Stockholm      69  0.0169  241588.2"
      ]
     },
     "execution_count": 122,
     "metadata": {},
     "output_type": "execute_result"
    }
   ],
   "source": [
    "'''\n",
    "round(Data_Frame['column_name'], number_of_point)\n",
    "\n",
    "'''\n",
    "\n",
    "df['BMI'] = round(df['BMI'], 1) # we want one number after dot (.) in column   'BMI'\n",
    "df"
   ]
  },
  {
   "cell_type": "code",
   "execution_count": 138,
   "metadata": {},
   "outputs": [
    {
     "data": {
      "text/html": [
       "<div>\n",
       "<style scoped>\n",
       "    .dataframe tbody tr th:only-of-type {\n",
       "        vertical-align: middle;\n",
       "    }\n",
       "\n",
       "    .dataframe tbody tr th {\n",
       "        vertical-align: top;\n",
       "    }\n",
       "\n",
       "    .dataframe thead th {\n",
       "        text-align: right;\n",
       "    }\n",
       "</style>\n",
       "<table border=\"1\" class=\"dataframe\">\n",
       "  <thead>\n",
       "    <tr style=\"text-align: right;\">\n",
       "      <th></th>\n",
       "      <th>Name</th>\n",
       "      <th>Country</th>\n",
       "      <th>City</th>\n",
       "      <th>Weight</th>\n",
       "      <th>Height</th>\n",
       "      <th>BMI</th>\n",
       "      <th>Birth_Year</th>\n",
       "      <th>Current_Year</th>\n",
       "    </tr>\n",
       "  </thead>\n",
       "  <tbody>\n",
       "    <tr>\n",
       "      <th>0</th>\n",
       "      <td>Asabeneh</td>\n",
       "      <td>Finland</td>\n",
       "      <td>Helsinki</td>\n",
       "      <td>74</td>\n",
       "      <td>0.0173</td>\n",
       "      <td>247251.8</td>\n",
       "      <td>1769</td>\n",
       "      <td>2020</td>\n",
       "    </tr>\n",
       "    <tr>\n",
       "      <th>1</th>\n",
       "      <td>David</td>\n",
       "      <td>UK</td>\n",
       "      <td>London</td>\n",
       "      <td>78</td>\n",
       "      <td>0.0175</td>\n",
       "      <td>254693.9</td>\n",
       "      <td>1985</td>\n",
       "      <td>2020</td>\n",
       "    </tr>\n",
       "    <tr>\n",
       "      <th>2</th>\n",
       "      <td>John</td>\n",
       "      <td>Sweden</td>\n",
       "      <td>Stockholm</td>\n",
       "      <td>69</td>\n",
       "      <td>0.0169</td>\n",
       "      <td>241588.2</td>\n",
       "      <td>1990</td>\n",
       "      <td>2020</td>\n",
       "    </tr>\n",
       "  </tbody>\n",
       "</table>\n",
       "</div>"
      ],
      "text/plain": [
       "       Name  Country       City  Weight  Height       BMI Birth_Year  \\\n",
       "0  Asabeneh  Finland   Helsinki      74  0.0173  247251.8       1769   \n",
       "1     David       UK     London      78  0.0175  254693.9       1985   \n",
       "2      John   Sweden  Stockholm      69  0.0169  241588.2       1990   \n",
       "\n",
       "   Current_Year  \n",
       "0          2020  \n",
       "1          2020  \n",
       "2          2020  "
      ]
     },
     "execution_count": 138,
     "metadata": {},
     "output_type": "execute_result"
    }
   ],
   "source": [
    "birth_year = ['1769', '1985', '1990'] # list of value\n",
    "\n",
    "current_year = pd.Series(2020, index=[0, 1, 2]) # putting index to value of 2020\n",
    "\n",
    "df['Birth_Year'] = birth_year     # create new column that handle data of (Birth_Year)\n",
    "df['Current_Year'] = current_year # create new column that handle data of (Current_Year)\n",
    "df"
   ]
  },
  {
   "cell_type": "markdown",
   "metadata": {},
   "source": [
    "### Checking data types of Column values\n",
    "\n",
    "```python\n",
    "\n",
    "## using dtype keyword for checking the data type column or value or ...\n",
    "\n",
    "DataFrame['column_name'].dtype\n",
    "\n",
    "\n",
    "# variable_name in this case is handle the (column name) and the (data) of this column\n",
    "\n",
    "DataFrame.variable_name.dtype\n",
    "\n",
    "\n",
    "```"
   ]
  },
  {
   "cell_type": "code",
   "execution_count": 130,
   "metadata": {},
   "outputs": [
    {
     "name": "stdout",
     "output_type": "stream",
     "text": [
      "int64\n"
     ]
    },
    {
     "data": {
      "text/plain": [
       "dtype('int64')"
      ]
     },
     "execution_count": 130,
     "metadata": {},
     "output_type": "execute_result"
    }
   ],
   "source": [
    "print(df.Weight.dtype) # int64\n",
    "\n",
    "df['Weight'].dtype # dtype('int64')"
   ]
  },
  {
   "cell_type": "code",
   "execution_count": 139,
   "metadata": {},
   "outputs": [
    {
     "data": {
      "text/plain": [
       "dtype('O')"
      ]
     },
     "execution_count": 139,
     "metadata": {},
     "output_type": "execute_result"
    }
   ],
   "source": [
    "## Note: if the name of column has more than one word and the word has space between them you may get error\n",
    "# for solving that just make sure the column is contain one word or make it one word by using underscore like this is below\n",
    "\n",
    "df['Birth_Year'].dtype # it gives string object, we should change this to number \n",
    "## dtype('O') # means   string   data type"
   ]
  },
  {
   "cell_type": "code",
   "execution_count": 142,
   "metadata": {},
   "outputs": [
    {
     "name": "stdout",
     "output_type": "stream",
     "text": [
      "int64\n"
     ]
    }
   ],
   "source": [
    "'''\n",
    "## change data type of column\n",
    "\n",
    "DataFrame['column_name'] = DataFrame['column_name'].astype('data_type')\n",
    "\n",
    "'''\n",
    "\n",
    "df['Birth_Year'] = df['Birth_Year'].astype('int') # if you just say (int) then (int64) with 64 bit will return\n",
    "# df['Birth_Year'] = df['Birth_Year'].astype('int32') # spcifying the number of bit\n",
    "\n",
    "print(df['Birth_Year'].dtype) # let's check the data type now"
   ]
  },
  {
   "cell_type": "code",
   "execution_count": 144,
   "metadata": {},
   "outputs": [
    {
     "data": {
      "text/plain": [
       "dtype('int64')"
      ]
     },
     "execution_count": 144,
     "metadata": {},
     "output_type": "execute_result"
    }
   ],
   "source": [
    "df['Current_Year'] = df['Current_Year'].astype('int')\n",
    "\n",
    "df['Current_Year'].dtype"
   ]
  },
  {
   "cell_type": "code",
   "execution_count": 145,
   "metadata": {},
   "outputs": [
    {
     "data": {
      "text/plain": [
       "0    251\n",
       "1     35\n",
       "2     30\n",
       "dtype: int64"
      ]
     },
     "execution_count": 145,
     "metadata": {},
     "output_type": "execute_result"
    }
   ],
   "source": [
    "ages = df['Current_Year'] - df['Birth_Year'] # subract two column with each other\n",
    "\n",
    "ages"
   ]
  },
  {
   "cell_type": "code",
   "execution_count": 146,
   "metadata": {},
   "outputs": [
    {
     "name": "stdout",
     "output_type": "stream",
     "text": [
      "       Name  Country       City  Weight  Height       BMI  Birth_Year  \\\n",
      "0  Asabeneh  Finland   Helsinki      74  0.0173  247251.8        1769   \n",
      "1     David       UK     London      78  0.0175  254693.9        1985   \n",
      "2      John   Sweden  Stockholm      69  0.0169  241588.2        1990   \n",
      "\n",
      "   Current_Year  Ages  \n",
      "0          2020   251  \n",
      "1          2020    35  \n",
      "2          2020    30  \n"
     ]
    }
   ],
   "source": [
    "# putting this data that we get from this two column that we subtract with each other to new column  'Ages'\n",
    "df['Ages'] = ages\n",
    "\n",
    "print(df)"
   ]
  },
  {
   "cell_type": "code",
   "execution_count": 147,
   "metadata": {},
   "outputs": [
    {
     "name": "stdout",
     "output_type": "stream",
     "text": [
      "Mean:  32.5\n"
     ]
    }
   ],
   "source": [
    "mean = (35 + 30) / 2\n",
    "\n",
    "print('Mean: ',mean)    # it is good to add some description to the output"
   ]
  },
  {
   "cell_type": "markdown",
   "metadata": {},
   "source": [
    "### Boolean Indexing\n",
    "\n",
    "```python\n",
    "\n",
    "## get this data that match your condition\n",
    "\n",
    "DataFrame[DataFrame['column_name'] > value]\n",
    "DataFrame[DataFrame['column_name'] < value]\n",
    "DataFrame[DataFrame['column_name'] = value]\n",
    "DataFrame[DataFrame['column_name'] == value]\n",
    "...\n",
    "\n",
    "DataFrame[DataFrame['column_name'] > value or DataFrame['column_name'] = value]]\n",
    "DataFrame[DataFrame['column_name'] >= value and DataFrame[DataFrame['column_name'] == value]]\n",
    "...\n",
    "...\n",
    "\n",
    "```"
   ]
  },
  {
   "cell_type": "code",
   "execution_count": 55,
   "metadata": {},
   "outputs": [
    {
     "name": "stdout",
     "output_type": "stream",
     "text": [
      "       Name  Country      City  Weight  Height   BMI  Birth Year  \\\n",
      "0  Asabeneh  Finland  Helsinki      74    1.73  24.7        1769   \n",
      "\n",
      "   Current Year  Ages  \n",
      "0          2020   251  \n"
     ]
    }
   ],
   "source": [
    "print(df[df['Ages'] > 120])"
   ]
  },
  {
   "cell_type": "code",
   "execution_count": 56,
   "metadata": {},
   "outputs": [
    {
     "name": "stdout",
     "output_type": "stream",
     "text": [
      "    Name Country       City  Weight  Height   BMI  Birth Year  Current Year  \\\n",
      "1  David      UK     London      78    1.75  25.5        1985          2020   \n",
      "2   John  Sweden  Stockholm      69    1.69  24.2        1990          2020   \n",
      "\n",
      "   Ages  \n",
      "1    35  \n",
      "2    30  \n"
     ]
    }
   ],
   "source": [
    "print(df[df['Ages'] < 120])"
   ]
  }
 ],
 "metadata": {
  "kernelspec": {
   "display_name": "Python 3 (ipykernel)",
   "language": "python",
   "name": "python3"
  },
  "language_info": {
   "codemirror_mode": {
    "name": "ipython",
    "version": 3
   },
   "file_extension": ".py",
   "mimetype": "text/x-python",
   "name": "python",
   "nbconvert_exporter": "python",
   "pygments_lexer": "ipython3",
   "version": "3.9.12"
  }
 },
 "nbformat": 4,
 "nbformat_minor": 4
}
