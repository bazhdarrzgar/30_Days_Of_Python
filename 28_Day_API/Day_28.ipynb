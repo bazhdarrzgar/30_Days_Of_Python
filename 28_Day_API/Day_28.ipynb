{
 "cells": [
  {
   "cell_type": "markdown",
   "id": "f282b9cf-aedd-49df-98f3-c7dde7d67ceb",
   "metadata": {},
   "source": [
    "# Application Programming Interface(API)\n",
    "\n",
    "### API\n",
    "\n",
    "* API stands for Application Programming Interface. The kind of API we will cover in this section is going to be Web APIs.\n",
    "\n",
    "![image](../images/webapi-overview.png)\n",
    "\n",
    "* For example, Twitter's REST API allows developers to access core Twitter data and the Search API provides methods for developers to interact with Twitter Search and trends data.\n",
    "\n",
    "* some example of api provider [from thecatapi.com]( https://api.thecatapi.com/v1/breeds ), [from restcountries.com]( https://restcountries.com/v3.1/all )"
   ]
  },
  {
   "cell_type": "markdown",
   "id": "55bcce24-97f2-45db-9b08-15e0043eeaa3",
   "metadata": {
    "tags": []
   },
   "source": [
    "### Building API\n",
    "\n",
    "* RESTful API is an application program interface (API) that uses HTTP requests to GET, PUT, POST and DELETE data.\n",
    "\n",
    "![image](../images/restapi.png)"
   ]
  },
  {
   "cell_type": "markdown",
   "id": "9a1ae298-1463-4fc4-9fde-b18b7d47ff9c",
   "metadata": {},
   "source": [
    "### HTTP ( Hypertext Transfer Protocol )\n",
    "\n",
    "* HTTP is an established communication protocol between a client and a server. A client in this case is a browser and server is the place where you access data. HTTP is a network protocol used to deliver resources which could be files on the World Wide Web, whether they are HTML files, image files, query results, scripts, or other file types.\n",
    "\n",
    "* A browser is an HTTP client because it sends requests to an HTTP server (Web server), which then sends responses back to the client.\n",
    "\n",
    "![image](../images/image-38.jpeg)"
   ]
  },
  {
   "cell_type": "markdown",
   "id": "3a72fc6e-7393-411a-b82b-7c27ce9d34b9",
   "metadata": {},
   "source": [
    "### Structure of HTTP\n",
    "\n",
    "* HTTP uses client-server model. An HTTP client opens a connection and sends a request message to an HTTP server and the HTTP server returns response message which is the requested resources. When the request response cycle completes the server closes the connection.\n",
    "\n",
    "![image](../images/http_request_response_cycle.png)\n",
    "\n",
    "\n",
    "\n",
    "* Let us an example of request and response messages by navigating this site:https://thirtydaysofpython-v1-final.herokuapp.com/. This site has been deployed on Heroku free dyno and in some months may not work because of high request. Support this work to make the server run all the time.\n",
    "\n",
    "* firefox\n",
    "\n",
    "<img src=\"../images/Screenshot from 2022-09-12 22-04-42.png\">\n",
    "\n",
    "* chrome\n",
    "\n",
    "<img src=\"../images/Screenshot from 2022-09-12 22-08-10.png\">"
   ]
  },
  {
   "cell_type": "markdown",
   "id": "f9649617-1e7e-455c-8f5d-5bbc9d05e491",
   "metadata": {},
   "source": [
    "### Initial Request Line(Status Line)\n",
    "\n",
    "* The initial request line is different from the response. A request line has three parts, separated by spaces:\n",
    "\n",
    "    * method name(GET, POST, HEAD)\n",
    "    * path of the requested resource,\n",
    "    * the version of HTTP being used. eg GET / HTTP/1.1\n",
    "    * GET is the most common HTTP that helps to get or read resource and POST is a common request method to create resource.\n",
    "\n",
    "\n",
    "#### Initial Response Line(Status Line)\n",
    "\n",
    "* The initial response line, called the status line, also has three parts separated by spaces:\n",
    "\n",
    "    * HTTP version\n",
    "    * Response status code that gives the result of the request, and a reason which describes the status code. Example of status lines are: HTTP/1.0 200 OK or HTTP/1.0 404 Not Found Notes:\n",
    "    \n",
    "* The most common status codes are: 200 OK: The request succeeded, and the resulting resource (e.g. file or script output) is returned in the message body. 500 Server Error\n",
    "\n",
    "\n",
    "#### Header Fields\n",
    "\n",
    "* As you have seen in the above screenshot, header lines provide information about the request or response, or about the object sent in the message body.\n",
    "\n",
    "```\n",
    "GET / HTTP/1.1\n",
    "Host: thirtydaysofpython-v1-final.herokuapp.com\n",
    "Connection: keep-alive\n",
    "Pragma: no-cache\n",
    "Cache-Control: no-cache\n",
    "Upgrade-Insecure-Requests: 1\n",
    "User-Agent: Mozilla/5.0 (Macintosh; Intel Mac OS X 10_14_6) AppleWebKit/537.36 (KHTML, like Gecko) Chrome/79.0.3945.79 Safari/537.36\n",
    "Sec-Fetch-User: ?1\n",
    "Accept: text/html,application/xhtml+xml,application/xml;q=0.9,image/webp,image/apng,*/*;q=0.8,application/signed-exchange;v=b3;q=0.9\n",
    "Sec-Fetch-Site: same-origin\n",
    "Sec-Fetch-Mode: navigate\n",
    "Referer: https://thirtydaysofpython-v1-final.herokuapp.com/post\n",
    "Accept-Encoding: gzip, deflate, br\n",
    "Accept-Language: en-GB,en;q=0.9,fi-FI;q=0.8,fi;q=0.7,en-CA;q=0.6,en-US;q=0.5,fr;q=0.4\n",
    "```\n",
    "\n",
    "\n",
    "#### The message body\n",
    "\n",
    "* An HTTP message may have a body of data sent after the header lines. In a response, this is where the requested resource is returned to the client (the most common use of the message body), or perhaps explanatory text if there's an error. In a request, this is where user-entered data or uploaded files are sent to the server.\n",
    "\n",
    "\n",
    "#### Request Methods\n",
    "\n",
    "* The GET, POST, PUT and DELETE are the HTTP request methods which we are going to implement an API or a CRUD operation application.\n",
    "\n",
    "    1. GET: GET method is used to retrieve and get information from the given server using a given URI. Requests using GET should only retrieve data and should have no other effect on the data.\n",
    "\n",
    "    2. POST: POST request is used to create data and send data to the server, for example, creating a new post, file upload, etc. using HTML forms.\n",
    "\n",
    "    3. PUT: Replaces all current representations of the target resource with the uploaded content and we use it modify or update data.\n",
    "\n",
    "    4. DELETE: Removes data"
   ]
  }
 ],
 "metadata": {
  "kernelspec": {
   "display_name": "Python 3 (ipykernel)",
   "language": "python",
   "name": "python3"
  },
  "language_info": {
   "codemirror_mode": {
    "name": "ipython",
    "version": 3
   },
   "file_extension": ".py",
   "mimetype": "text/x-python",
   "name": "python",
   "nbconvert_exporter": "python",
   "pygments_lexer": "ipython3",
   "version": "3.10.4"
  }
 },
 "nbformat": 4,
 "nbformat_minor": 5
}
