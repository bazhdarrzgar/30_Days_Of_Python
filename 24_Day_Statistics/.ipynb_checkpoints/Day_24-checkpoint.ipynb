{
 "cells": [
  {
   "cell_type": "markdown",
   "id": "29dff4f4",
   "metadata": {},
   "source": [
    "# Importing Numpy\n",
    "\n",
    "\n",
    "```python\n",
    "\n",
    "# Syntax\n",
    "\n",
    "## installing numpy\n",
    "\n",
    "pip install numpy\n",
    "\n",
    "\n",
    "## importing numpy\n",
    "\n",
    "import numpy\n",
    "\n",
    "\n",
    "## printing version of numpy\n",
    "\n",
    "numpy.__version__\n",
    "\n",
    "\n",
    "## get information about numpy\n",
    "\n",
    "dir(numpy)\n",
    "\n",
    "```"
   ]
  },
  {
   "cell_type": "code",
   "execution_count": 1,
   "id": "00a93b6c",
   "metadata": {},
   "outputs": [
    {
     "name": "stdout",
     "output_type": "stream",
     "text": [
      "Requirement already satisfied: numpy in /home/soyansoon/.local/lib/python3.9/site-packages (1.23.2)\n",
      "Note: you may need to restart the kernel to use updated packages.\n"
     ]
    }
   ],
   "source": [
    "pip install numpy"
   ]
  },
  {
   "cell_type": "code",
   "execution_count": 2,
   "id": "67c59c13",
   "metadata": {},
   "outputs": [],
   "source": [
    "import numpy as np"
   ]
  },
  {
   "cell_type": "code",
   "execution_count": 3,
   "id": "c016d957",
   "metadata": {},
   "outputs": [
    {
     "name": "stdout",
     "output_type": "stream",
     "text": [
      "numpy: 1.23.2\n"
     ]
    }
   ],
   "source": [
    "print('numpy:', np.__version__) # numpy: 1.23.2\n",
    "\n",
    "# print(dir(np)) # ..."
   ]
  },
  {
   "cell_type": "markdown",
   "id": "3add7373",
   "metadata": {},
   "source": [
    "# Creating numpy array\n",
    "\n",
    "```python\n",
    "\n",
    "# Syntax\n",
    "\n",
    "## change list to numpy array\n",
    "\n",
    "variable_list = [value, value, value, ...] # creating list\n",
    "print(type(variable_list)) # <class 'list'> \n",
    "print(variable_list) # [value, value, value, ...]\n",
    "\n",
    "variable_numpy = numpy.array(variable_list) # converting list to numpy\n",
    "print(type(variable_list)) # <class 'numpy.ndarray'>\n",
    "print(variable_numpy) # [value value value ...]\n",
    "\n",
    "```"
   ]
  },
  {
   "cell_type": "code",
   "execution_count": 4,
   "id": "f8de9cd2",
   "metadata": {},
   "outputs": [
    {
     "name": "stdout",
     "output_type": "stream",
     "text": [
      "Type: <class 'list'>\n",
      "[1, 2, 3, 4, 5]\n",
      "[[0, 1, 2], [3, 4, 5], [6, 7, 8]]\n",
      "Type: <class 'numpy.ndarray'>\n",
      "Type: <class 'numpy.ndarray'>\n",
      "[1 2 3 4 5]\n",
      "[[0 1 2]\n",
      " [3 4 5]\n",
      " [6 7 8]]\n"
     ]
    },
    {
     "data": {
      "text/plain": [
       "'\\n[[0 1 2]\\n [3 4 5]\\n [6 7 8]]\\n'"
      ]
     },
     "execution_count": 4,
     "metadata": {},
     "output_type": "execute_result"
    }
   ],
   "source": [
    "# Creating python List\n",
    "python_list = [1, 2, 3, 4, 5]\n",
    "\n",
    "# Checking data types\n",
    "print('Type:', type(python_list))  # <class 'list'> \n",
    "\n",
    "print(python_list)  # [1, 2, 3, 4, 5]\n",
    "\n",
    "\n",
    "\n",
    "two_dimensional_list = [[0, 1, 2], [3, 4, 5], [6, 7, 8]]\n",
    "\n",
    "print(two_dimensional_list)  # [[0, 1, 2], [3, 4, 5], [6, 7, 8]]\n",
    "\n",
    "\n",
    "\n",
    "# change list to array numpy\n",
    "numpy_array_from_list_1 = np.array(python_list)\n",
    "numpy_array_from_list_2 = np.array(two_dimensional_list)\n",
    "\n",
    "print('Type:', type(numpy_array_from_list_1))   # <class 'numpy.ndarray'> # means numpy array\n",
    "print('Type:', type(numpy_array_from_list_2))   # <class 'numpy.ndarray'> # means numpy array\n",
    "\n",
    "print(numpy_array_from_list_1)  # [1 2 3 4 5]\n",
    "print(numpy_array_from_list_2)  \n",
    "\n",
    "'''\n",
    "[[0 1 2]\n",
    " [3 4 5]\n",
    " [6 7 8]]\n",
    "'''\n"
   ]
  },
  {
   "cell_type": "markdown",
   "id": "86acd456",
   "metadata": {},
   "source": [
    "# Creating float numpy arrays\n",
    "\n",
    "```python\n",
    "\n",
    "# Syntax ( change list to floating numpy array\n",
    "\n",
    "variable_list = [value, value, value, ...] # creating list\n",
    "\n",
    "variable_numpy = numpy.array(variable_list, dtype = float) # convert list to floating numpy array this is possible by specifying datatype like this   dtype = float   you can choose other datatype if you want\n",
    "\n",
    "\n",
    "print(variable_numpy) # [1. 2. 3. 4. 5.] # this dot (.) in the end means this number is float but remember when we call the (numpy) array the number after dot (.) is vanish because we don't need it\n",
    "\n",
    "```"
   ]
  },
  {
   "cell_type": "code",
   "execution_count": 5,
   "id": "eb71fc42",
   "metadata": {},
   "outputs": [
    {
     "name": "stdout",
     "output_type": "stream",
     "text": [
      "[1. 2. 3. 4. 5.]\n"
     ]
    }
   ],
   "source": [
    "# Python list\n",
    "\n",
    "python_list = [1, 2, 3, 4, 5]\n",
    "\n",
    "\n",
    "numy_array_from_list2 = np.array(python_list, dtype=float)\n",
    "print(numy_array_from_list2)  # [1. 2. 3. 4. 5.]"
   ]
  },
  {
   "cell_type": "markdown",
   "id": "66343b55",
   "metadata": {},
   "source": [
    "# Creating boolean numpy arrays\n",
    "\n",
    "```python\n",
    "\n",
    "# Syntax\n",
    "\n",
    "variable_numpy = numpy.array([0, 1, -1, 0, 0], dtype=bool) # specifying the datatype using   dtype   parameter\n",
    "\n",
    "'''\n",
    "\n",
    "0 = False\n",
    "-1 = True\n",
    "1 = True\n",
    "\n",
    "'''\n",
    "\n",
    "print(variable_numpy) # [False True True False False] # remember we specify the list of boolean as list but   numpy.array()   is change list to numpy array\n",
    "```"
   ]
  },
  {
   "cell_type": "code",
   "execution_count": 6,
   "id": "636bf3d8",
   "metadata": {},
   "outputs": [
    {
     "name": "stdout",
     "output_type": "stream",
     "text": [
      "[False  True  True False False]\n"
     ]
    }
   ],
   "source": [
    "numpy_bool_array = np.array([0, 1, -1, 0, 0], dtype=bool)\n",
    "\n",
    "print(numpy_bool_array)  # [False  True  True False False]"
   ]
  },
  {
   "cell_type": "markdown",
   "id": "860ca823",
   "metadata": {},
   "source": [
    "# Creating multidimensional array using numpy\n",
    "\n",
    "```python\n",
    "\n",
    "# Syntax\n",
    "\n",
    "variable_list = [[value, value, value, ..], \n",
    "                 [value, value, value, ..], \n",
    "                 [value, value, value, ..],\n",
    "                .....]\n",
    "\n",
    "variable_numpy = numpy.array(variable_list)\n",
    "'''\n",
    "[[value value value ...]\n",
    " [value value value ...]\n",
    " [value value value ...]\n",
    " ....]\n",
    "'''\n",
    "\n",
    "```"
   ]
  },
  {
   "cell_type": "code",
   "execution_count": 7,
   "id": "83cd6600",
   "metadata": {},
   "outputs": [
    {
     "name": "stdout",
     "output_type": "stream",
     "text": [
      "<class 'numpy.ndarray'>\n",
      "[[0 1 2]\n",
      " [3 4 5]\n",
      " [6 7 8]]\n"
     ]
    },
    {
     "data": {
      "text/plain": [
       "'\\n[[0 1 2]\\n [3 4 5]\\n [6 7 8]]\\n'"
      ]
     },
     "execution_count": 7,
     "metadata": {},
     "output_type": "execute_result"
    }
   ],
   "source": [
    "two_dimensional_list = [[0, 1, 2], [3, 4, 5], [6, 7, 8]]\n",
    "numpy_two_dimensional_list = np.array(two_dimensional_list)\n",
    "\n",
    "\n",
    "print(type(numpy_two_dimensional_list)) # <class 'numpy.ndarray'>\n",
    "\n",
    "print(numpy_two_dimensional_list)\n",
    "'''\n",
    "[[0 1 2]\n",
    " [3 4 5]\n",
    " [6 7 8]]\n",
    "'''"
   ]
  },
  {
   "cell_type": "markdown",
   "id": "660f6019",
   "metadata": {},
   "source": [
    "# Converting numpy array to list\n",
    "\n",
    "```python\n",
    "\n",
    "# Syntax\n",
    "\n",
    "\n",
    "## change the list to numpy array\n",
    "\n",
    "variable_list = [[value, value, value, ..], \n",
    "                 [value, value, value, ..], \n",
    "                 [value, value, value, ..],\n",
    "                .....]\n",
    "\n",
    "variable_numpy = numpy.array(variable_list)\n",
    "'''\n",
    "[[value value value ...]\n",
    " [value value value ...]\n",
    " [value value value ...]\n",
    " ....]\n",
    "'''\n",
    "\n",
    "\n",
    "\n",
    "## change the numpy array to list\n",
    "\n",
    "variable_list = variable_numpy.tolist()\n",
    "\n",
    "print(variable_list) \n",
    "\n",
    "'''\n",
    "[[value, value, value, ...],\n",
    " [value, value, value, ...],\n",
    " [value, value, value, ...],\n",
    " ....]\n",
    "'''\n",
    "```"
   ]
  },
  {
   "cell_type": "code",
   "execution_count": 8,
   "id": "f3531c59",
   "metadata": {},
   "outputs": [
    {
     "name": "stdout",
     "output_type": "stream",
     "text": [
      "<class 'list'>\n",
      "one dimensional array: [1, 2, 3, 4, 5]\n",
      "two dimensional array:  [[0, 1, 2], [3, 4, 5], [6, 7, 8]]\n"
     ]
    }
   ],
   "source": [
    "# We can always convert an array back to a python list using tolist().\n",
    "np_to_list = numpy_array_from_list_1.tolist()\n",
    "\n",
    "\n",
    "print(type(np_to_list)) # <class 'list'>\n",
    "\n",
    "print('one dimensional array:', np_to_list) # one dimensional array: [1, 2, 3, 4, 5]\n",
    "\n",
    "print('two dimensional array: ', numpy_two_dimensional_list.tolist()) # two dimensional array:  [[0, 1, 2], [3, 4, 5], [6, 7, 8]]"
   ]
  },
  {
   "cell_type": "markdown",
   "id": "99a5bb3b",
   "metadata": {},
   "source": [
    "# Creating numpy array from tuple\n",
    "\n",
    "```python\n",
    "\n",
    "# Syntax\n",
    "\n",
    "variable_tuple = (value, value, value, ...)\n",
    "\n",
    "print(variable_tuple) # (value, value, value, ...)\n",
    "print(type(variable_tuple) # <class 'tuple'>\n",
    "\n",
    "\n",
    "numpy_variable = numpy.array(variable_tuple)\n",
    "\n",
    "print(numpy_variable) # [value value value ...]\n",
    "print(type(variable_tuple) # <class 'numpy.ndarray'>\n",
    "\n",
    "```"
   ]
  },
  {
   "cell_type": "code",
   "execution_count": 9,
   "id": "a745fc3d",
   "metadata": {},
   "outputs": [
    {
     "name": "stdout",
     "output_type": "stream",
     "text": [
      "<class 'tuple'>\n",
      "python_tuple:  (1, 2, 3, 4, 5)\n",
      "<class 'numpy.ndarray'>\n",
      "numpy_array_from_tuple:  [1 2 3 4 5]\n"
     ]
    }
   ],
   "source": [
    "# Creating tuple in Python\n",
    "python_tuple = (1, 2, 3, 4, 5)\n",
    "\n",
    "print(type(python_tuple))  # <class 'tuple'>\n",
    "\n",
    "print('python_tuple: ', python_tuple)  # python_tuple:  (1, 2, 3, 4, 5)\n",
    "\n",
    "\n",
    "\n",
    "numpy_array_from_tuple = np.array(python_tuple)\n",
    "\n",
    "print(type(numpy_array_from_tuple))  # <class 'numpy.ndarray'>\n",
    "\n",
    "print('numpy_array_from_tuple: ', numpy_array_from_tuple) # # numpy_array_from_tuple:  [1 2 3 4 5]"
   ]
  },
  {
   "cell_type": "markdown",
   "id": "359960d3-7659-473d-a029-2a8c7aa7c027",
   "metadata": {},
   "source": [
    "# Shape of numpy array\n",
    "\n",
    "```python\n",
    "\n",
    "# Syntax\n",
    "\n",
    "## change list to numpy array\n",
    "\n",
    "numpy_variable_1 = numpy.array([vaue, value, value, value])\n",
    "numpy_variable_2 = numpy.array([[0, 1, 2], [3, 4, 5], [6, 7, 8]]\n",
    "                             \n",
    "print(numpy_variable_1) # [vaue value value value]\n",
    "print(numpy_variable_2) \n",
    "'''\n",
    "[[0 1 2]\n",
    " [3 4 5]\n",
    " [6 7 8]]\n",
    "'''\n",
    "\n",
    "\n",
    "## return the number of shape that numpy array have ( it is like we are return the length of the array numpy )\n",
    "\n",
    "numpy_variable_1.shape # (4, ) # means 4 column # it is not use index to detect the number of column\n",
    "numpy_variable_2.shape # (3, 3) # means 3 row and 3 column # it is not use index to detect the number of row and column\n",
    "\n",
    "# Note: number of row can be more and more but number of column is make problem to you if you have one row has more column to other or vice versa you have row that has less column to other, try to make all the column is the same shape\n",
    "\n",
    "```"
   ]
  },
  {
   "cell_type": "code",
   "execution_count": 10,
   "id": "84a0a849",
   "metadata": {},
   "outputs": [
    {
     "name": "stdout",
     "output_type": "stream",
     "text": [
      "[1 2 3 4 5]\n",
      "shape of nums:  (5,)\n",
      "[[0 1 2]\n",
      " [3 4 5]\n",
      " [6 7 8]]\n",
      "shape of numpy_two_dimensional_list:  (3, 3)\n",
      "(3, 4)\n",
      "(3, 2)\n",
      "(5, 2)\n"
     ]
    }
   ],
   "source": [
    "nums = np.array([1, 2, 3, 4, 5])\n",
    "\n",
    "print(nums) # [1 2 3 4 5]\n",
    "\n",
    "print('shape of nums: ', nums.shape) # shape of nums:  (5,)\n",
    "\n",
    "print(numpy_two_dimensional_list)\n",
    "'''\n",
    "[[0 1 2]\n",
    " [3 4 5]\n",
    " [6 7 8]]\n",
    "'''\n",
    "\n",
    "print('shape of numpy_two_dimensional_list: ', numpy_two_dimensional_list.shape) # shape of numpy_two_dimensional_list:  (3, 3)\n",
    "\n",
    "three_by_four_array = np.array([[0, 1, 2, 3],\n",
    "                                [4, 5, 6, 7],\n",
    "                                [8, 9, 10, 11]])\n",
    "\n",
    "# three_by_four_array = np.array([[0, 1, 2, 3], [4, 5, 6, 7], [8, 9, 10, 11, 20]]) # error\n",
    "\n",
    "print(three_by_four_array.shape) # (3, 4) # 3 row and 4 column\n",
    "\n",
    "\n",
    "two_by_three_array = np.array([[0, 1],\n",
    "                                [4, 2],\n",
    "                                [8, 9]])\n",
    "\n",
    "# two_by_three_array = np.array([[0, 1], [4, 2], [8, 9, 1]]) # error\n",
    "\n",
    "print(two_by_three_array.shape) # (3, 2) # 3 row and 2 column\n",
    "\n",
    "two_by_three_array = np.array([[0, 1],\n",
    "                                [4, 2],\n",
    "                                [8, 9],\n",
    "                                [8, 9],\n",
    "                                [8, 9]])\n",
    "\n",
    "print(two_by_three_array.shape) # (5, 2) # 3 row and 2 column"
   ]
  },
  {
   "cell_type": "markdown",
   "id": "43e04e34-a9f9-43dd-b9b8-1b0294126df5",
   "metadata": {},
   "source": [
    "# Data type of numpy array\n",
    "\n",
    "```python\n",
    "\n",
    "# Syntax\n",
    "\n",
    "\n",
    "## check the data type of int using   dtype()   function\n",
    "\n",
    "list_variable = [1, 2, 3, ...]\n",
    "\n",
    "numpy_variable = numpy.array(list_variable) \n",
    "\n",
    "print(numpy_variable) # [1, 2, 3, ...]\n",
    "\n",
    "print(numpy_variable.dtype) # int64\n",
    "\n",
    "\n",
    "\n",
    "## check the data type of float using   dtype()   function\n",
    "\n",
    "list_variable = [1, 2, 3, ...]\n",
    "\n",
    "numpy_variable = numpy.array(list_variable, dtype=float)\n",
    "\n",
    "print(numpy_variable) # [1., 2., 3., ...] \n",
    "\n",
    "print(numpy_variable.dtype) # float64\n",
    "\n",
    "\n",
    "```"
   ]
  },
  {
   "cell_type": "code",
   "execution_count": 11,
   "id": "ca7ad715-0586-404e-b370-039401b3b2b0",
   "metadata": {},
   "outputs": [
    {
     "name": "stdout",
     "output_type": "stream",
     "text": [
      "[-3 -2 -1  0  1  2  3]\n",
      "int64\n",
      "[-3. -2. -1.  0.  1.  2.  3.]\n",
      "float64\n"
     ]
    }
   ],
   "source": [
    "int_lists = [-3, -2, -1, 0, 1, 2, 3]\n",
    "\n",
    "\n",
    "int_array = np.array(int_lists)\n",
    "\n",
    "float_array = np.array(int_lists, dtype=float)\n",
    "\n",
    "\n",
    "print(int_array) # [-3 -2 -1  0  1  2  3]\n",
    "print(int_array.dtype) # int64\n",
    "\n",
    "print(float_array) # [-3. -2. -1.  0.  1.  2.  3.]\n",
    "print(float_array.dtype) # float64"
   ]
  },
  {
   "cell_type": "markdown",
   "id": "cba91129-8a85-4f6d-a558-ca6006d672ba",
   "metadata": {},
   "source": [
    "# Size of a numpy array\n",
    "\n",
    "```python\n",
    "\n",
    "# Syntax\n",
    "\n",
    "## size keyword is like you are calling the length of the array\n",
    "\n",
    "variable_numpy = numpy.array([value, value, value, value])\n",
    "\n",
    "variable_numpy.size # 4 # in one dimentional array it is calculate the number of column\n",
    "\n",
    "\n",
    "variable_numpy = numpy.array([value, value, value, value],\n",
    "                            [value, value, value, value],\n",
    "                            [value, value, value, value],\n",
    "                            [value, value, value, value],\n",
    "                            [value, value, value, value])\n",
    "\n",
    "variable_numpy.size # 5 # for more dimentionaly array it is calculate the number of row\n",
    "\n",
    "```"
   ]
  },
  {
   "cell_type": "code",
   "execution_count": 12,
   "id": "526213a1-ed6b-4c35-9716-bc3894567ba1",
   "metadata": {},
   "outputs": [
    {
     "name": "stdout",
     "output_type": "stream",
     "text": [
      "The size: 5\n",
      "The size: 9\n"
     ]
    }
   ],
   "source": [
    "numpy_array_from_list = np.array([1, 2, 3, 4, 5])\n",
    "\n",
    "two_dimensional_list = np.array([[0, 1, 2],\n",
    "                                 [3, 4, 5],\n",
    "                                 [6, 7, 8]])\n",
    "\n",
    "print('The size:', numpy_array_from_list.size)  # 5\n",
    "print('The size:', two_dimensional_list.size)  # 3"
   ]
  },
  {
   "cell_type": "markdown",
   "id": "39aadcb3-cdec-4bf8-8a5b-6b7bee8bacb1",
   "metadata": {},
   "source": [
    "# Mathematical Operation using numpy\n",
    "\n",
    "```python\n",
    "\n",
    "* Addition (+)         1 + 1\n",
    "* Subtraction (-)      1 - 1\n",
    "* Multiplication (*)   1 * 1\n",
    "* Division (/)         1 / 1\n",
    "* Modules (%)          1 % 1\n",
    "* Floor Division(//)   1 // 1\n",
    "* Exponential(**)      1^1\n",
    "\n",
    "```\n"
   ]
  },
  {
   "cell_type": "markdown",
   "id": "20e1e996-6e8b-4791-afdb-389152cf1d06",
   "metadata": {},
   "source": [
    "# Addition"
   ]
  },
  {
   "cell_type": "code",
   "execution_count": 13,
   "id": "7083129f-8f64-46f8-a8c4-66ea9df1a60c",
   "metadata": {},
   "outputs": [
    {
     "name": "stdout",
     "output_type": "stream",
     "text": [
      "[1 2 3 4 5]\n",
      "[11 12 13 14 15]\n"
     ]
    }
   ],
   "source": [
    "# Addition\n",
    "numpy_array_from_list = np.array([1, 2, 3, 4, 5])\n",
    "\n",
    "print(numpy_array_from_list) # [1 2 3 4 5]\n",
    "\n",
    "\n",
    "ten_plus_original = numpy_array_from_list + 10 # plus each column by 10\n",
    "# [1 + 10    2 + 10    3 + 10    4 + 10    5 + 10 ] = [11 12 13 14 15]\n",
    "\n",
    "print(ten_plus_original) # [11 12 13 14 15]"
   ]
  },
  {
   "cell_type": "markdown",
   "id": "19a6d079-919c-4433-b665-db7344643aa8",
   "metadata": {},
   "source": [
    "# Subtraction"
   ]
  },
  {
   "cell_type": "code",
   "execution_count": 14,
   "id": "3fd1b23b-1faf-4ce0-8aaa-1b582697facf",
   "metadata": {},
   "outputs": [
    {
     "name": "stdout",
     "output_type": "stream",
     "text": [
      "[1 2 3 4 5]\n",
      "[-9 -8 -7 -6 -5]\n"
     ]
    }
   ],
   "source": [
    "# Subtraction\n",
    "numpy_array_from_list = np.array([1, 2, 3, 4, 5])\n",
    "\n",
    "print(numpy_array_from_list) # [1 2 3 4 5]\n",
    "\n",
    "\n",
    "ten_minus_original = numpy_array_from_list - 10  # subtract each column by 10\n",
    "# [1 - 10    2 - 10    3 - 10    4 - 10    5 - 10 ] = [-9 -8 -7 -6 -5]\n",
    "\n",
    "print(ten_minus_original) # [-9 -8 -7 -6 -5]"
   ]
  },
  {
   "cell_type": "markdown",
   "id": "4441df3f-b1bf-472e-adab-5ac67ba1eb7d",
   "metadata": {},
   "source": [
    "# Multiplication"
   ]
  },
  {
   "cell_type": "code",
   "execution_count": 15,
   "id": "e35c8122-4353-4985-a42a-9ea1bfc3dd37",
   "metadata": {},
   "outputs": [
    {
     "name": "stdout",
     "output_type": "stream",
     "text": [
      "[1 2 3 4 5]\n",
      "[10 20 30 40 50]\n"
     ]
    }
   ],
   "source": [
    "# Multiplication\n",
    "numpy_array_from_list = np.array([1, 2, 3, 4, 5])\n",
    "\n",
    "print(numpy_array_from_list) # [1 2 3 4 5]\n",
    "\n",
    "\n",
    "ten_times_original = numpy_array_from_list * 10 # multiply each column by 10\n",
    "# [1 * 10    2 * 10    3 * 10    4 * 10    5 * 10 ] = [10 20 30 40 50]\n",
    "\n",
    "print(ten_times_original) # [10 20 30 40 50]"
   ]
  },
  {
   "cell_type": "markdown",
   "id": "3e894a6e-1403-4a10-a5bd-826a7b8fc3c4",
   "metadata": {},
   "source": [
    "# Division"
   ]
  },
  {
   "cell_type": "code",
   "execution_count": 16,
   "id": "a26e5979-8e96-4365-b733-8cdb8cad5ad0",
   "metadata": {},
   "outputs": [
    {
     "name": "stdout",
     "output_type": "stream",
     "text": [
      "[1 2 3 4 5]\n",
      "[0.1 0.2 0.3 0.4 0.5]\n"
     ]
    }
   ],
   "source": [
    "# Division\n",
    "numpy_array_from_list = np.array([1, 2, 3, 4, 5])\n",
    "\n",
    "print(numpy_array_from_list) # [1 2 3 4 5]\n",
    "\n",
    "\n",
    "ten_times_original = numpy_array_from_list / 10 # divide each row by 10\n",
    "# [1 / 10    2 / 10    3 / 10    4 / 10    5 / 10 ] = [0.1 0.2 0.3 0.4 0.5]\n",
    "\n",
    "print(ten_times_original) # [0.1 0.2 0.3 0.4 0.5]"
   ]
  },
  {
   "cell_type": "markdown",
   "id": "889a4e7b-815c-4672-836e-53409267bb98",
   "metadata": {},
   "source": [
    "# Modulus"
   ]
  },
  {
   "cell_type": "code",
   "execution_count": 17,
   "id": "a35de124-1af5-4743-94c4-7c8c4592c129",
   "metadata": {},
   "outputs": [
    {
     "name": "stdout",
     "output_type": "stream",
     "text": [
      "[1 2 3 4 5]\n",
      "[1 2 0 1 2]\n"
     ]
    }
   ],
   "source": [
    "# Modulus; Finding the remainder\n",
    "numpy_array_from_list = np.array([1, 2, 3, 4, 5])\n",
    "\n",
    "print(numpy_array_from_list) # [1 2 3 4 5]\n",
    "\n",
    "\n",
    "ten_times_original = numpy_array_from_list % 3 # modulate each row by 3\n",
    "# [1 % 10    2 % 10    3 % 10    4 % 10    5 % 10 ] = [1 2 0 1 2]\n",
    "\n",
    "print(ten_times_original) # [1 2 0 1 2]"
   ]
  },
  {
   "cell_type": "markdown",
   "id": "367b5009-598e-4349-97fe-b57bd5103c94",
   "metadata": {},
   "source": [
    "# Floor Division"
   ]
  },
  {
   "cell_type": "code",
   "execution_count": 18,
   "id": "fb9e86b9-18d4-44ee-bd36-ab9ec7d28e81",
   "metadata": {},
   "outputs": [
    {
     "name": "stdout",
     "output_type": "stream",
     "text": [
      "[1 2 3 4 5]\n",
      "[0 0 0 0 0]\n"
     ]
    }
   ],
   "source": [
    "# Floor division: the division result without the remainder\n",
    "numpy_array_from_list = np.array([1, 2, 3, 4, 5])\n",
    "\n",
    "print(numpy_array_from_list) # [1 2 3 4 5]\n",
    "\n",
    "\n",
    "ten_times_original = numpy_array_from_list // 10 # floor division for each column by 10\n",
    "# [1 // 10    2 // 10    3 // 10    4 // 10    5 // 10 ] = [0 0 0 0 0]\n",
    "'''\n",
    "# Example\n",
    "\n",
    "5 / 2 -> 2.5\n",
    "5 // 2 -> 2\n",
    "\n",
    "\n",
    "# for my Example\n",
    "\n",
    "1 / 10 -> 0.1\n",
    "\n",
    "1 // 10 -> 0\n",
    "\n",
    "\n",
    "2 / 10 -> 0.2\n",
    "2 // 10 -> 0 \n",
    "\n",
    "\n",
    "3 / 10 -> 0.3\n",
    "3 // 10 -> 0\n",
    "\n",
    "\n",
    "4 / 10 -> 0.4\n",
    "4 // 10 -> 0\n",
    "\n",
    "\n",
    "5 / 10 -> 0.5\n",
    "5 // 10 -> 0\n",
    "\n",
    "'''\n",
    "print(ten_times_original) # [0 0 0 0 0]"
   ]
  },
  {
   "cell_type": "markdown",
   "id": "417743bc-f7fd-44af-acb6-0ed6d2b566e2",
   "metadata": {},
   "source": [
    "# Exponential"
   ]
  },
  {
   "cell_type": "code",
   "execution_count": 19,
   "id": "bf9470e1-9fff-4bcf-b5cf-7f9421ffaeb7",
   "metadata": {},
   "outputs": [
    {
     "name": "stdout",
     "output_type": "stream",
     "text": [
      "[1 2 3 4 5]\n",
      "[ 1  4  9 16 25]\n"
     ]
    }
   ],
   "source": [
    "# Exponential is finding some number the power of another:\n",
    "numpy_array_from_list = np.array([1, 2, 3, 4, 5])\n",
    "\n",
    "print(numpy_array_from_list) # [1 2 3 4 5]\n",
    "\n",
    "\n",
    "ten_times_original = numpy_array_from_list ** 2 # exponential each column by 2\n",
    "# [1 ** 10    2 ** 10    3 ** 10    4 ** 10    5 ** 10 ] = [0 0 0 0 0]\n",
    "\n",
    "print(ten_times_original) # [ 1  4  9 16 25]"
   ]
  },
  {
   "cell_type": "markdown",
   "id": "5b37e778-a993-4f72-9360-c196384a5526",
   "metadata": {},
   "source": [
    "# Checking data types"
   ]
  },
  {
   "cell_type": "code",
   "execution_count": 20,
   "id": "3c191837-6cde-4f7f-bba3-174e73eb67dc",
   "metadata": {},
   "outputs": [
    {
     "name": "stdout",
     "output_type": "stream",
     "text": [
      "[1 2 3 4]\n",
      "[1.1 2.  3.2]\n",
      "[ True  True False  True  True  True]\n",
      "int64\n",
      "float64\n",
      "bool\n"
     ]
    }
   ],
   "source": [
    "# Int,  Float numbers\n",
    "numpy_int_arr = np.array([1, 2, 3, 4]) # change int list to int numpy array\n",
    "print(numpy_int_arr) # [1 2 3 4]\n",
    "\n",
    "numpy_float_arr = np.array([1.1, 2.0, 3.2]) # change float list to float numpy array\n",
    "print(numpy_float_arr) # [1.1 2.  3.2]\n",
    "\n",
    "numpy_bool_arr = np.array([-3, -2, 0, 1, 2, 3], dtype='bool') # change boolean list to boolean numpy array\n",
    "print(numpy_bool_arr) # [ True  True False  True  True  True]\n",
    "'''\n",
    "-3 = True # because it is minize number\n",
    "-2 = True\n",
    "\n",
    "0 = False # because it is zero\n",
    "\n",
    "1 = True # because it is positive number\n",
    "2 = True\n",
    "3 = True\n",
    "'''\n",
    "\n",
    "print(numpy_int_arr.dtype)    # int64\n",
    "print(numpy_float_arr.dtype)  # float64\n",
    "print(numpy_bool_arr.dtype)   # bool"
   ]
  },
  {
   "cell_type": "markdown",
   "id": "b36adf99-f156-4858-9907-6e91ac32a7ea",
   "metadata": {},
   "source": [
    "# Converting types\n",
    "\n",
    "```python\n",
    "\n",
    "# Syntax ( int to float )\n",
    "\n",
    "dtype = 'float'\n",
    "\n",
    "# or you can say\n",
    "\n",
    "dtype = float\n",
    "\n",
    "\n",
    "\n",
    "# Syntax ( float to int )\n",
    "\n",
    "dtype = 'int'\n",
    "\n",
    "# or you can say\n",
    "\n",
    "dtype = int\n",
    "\n",
    "\n",
    "\n",
    "# Syntax ( int to boolean )\n",
    "\n",
    "dtype = 'bool'\n",
    "\n",
    "# or you can say\n",
    "\n",
    "dtype = bool\n",
    "\n",
    "\n",
    "\n",
    "# Syntax ( int to string )\n",
    "\n",
    "dtype = 'str'\n",
    "\n",
    "# or you can say\n",
    "\n",
    "dtype = str\n",
    "\n",
    "\n",
    "\n",
    "# Syntax ( int to string using astype )\n",
    "\n",
    "list_value = [1, 2, 3, 4, ..]\n",
    "\n",
    "numpy_list_int = numpy.array(list_value) # [1 2 3 4 ..]\n",
    "\n",
    "numpy_list_int.astype(int).astype(str) # ['1' '2' '3' '4' ...]\n",
    "\n",
    "\n",
    "\n",
    "```"
   ]
  },
  {
   "cell_type": "code",
   "execution_count": 21,
   "id": "122431e7-5936-452a-948f-27dd3e20ec5f",
   "metadata": {},
   "outputs": [
    {
     "data": {
      "text/plain": [
       "array([1., 2., 3., 4.])"
      ]
     },
     "execution_count": 21,
     "metadata": {},
     "output_type": "execute_result"
    }
   ],
   "source": [
    "# Int to Float\n",
    "numpy_int_arr = np.array([1, 2, 3, 4], dtype='float')\n",
    "numpy_int_arr"
   ]
  },
  {
   "cell_type": "code",
   "execution_count": 22,
   "id": "509094ce-d150-49e8-819b-829c7e5a0e20",
   "metadata": {},
   "outputs": [
    {
     "data": {
      "text/plain": [
       "array([1, 2, 3, 4])"
      ]
     },
     "execution_count": 22,
     "metadata": {},
     "output_type": "execute_result"
    }
   ],
   "source": [
    "# Float to Int\n",
    "numpy_int_arr = np.array([1., 2., 3., 4.], dtype='int')\n",
    "numpy_int_arr"
   ]
  },
  {
   "cell_type": "code",
   "execution_count": 23,
   "id": "d657ed79-6961-4fe2-8965-d88ce4f5fb74",
   "metadata": {},
   "outputs": [
    {
     "data": {
      "text/plain": [
       "array([ True,  True, False,  True,  True,  True])"
      ]
     },
     "execution_count": 23,
     "metadata": {},
     "output_type": "execute_result"
    }
   ],
   "source": [
    "# Int ot boolean\n",
    "np.array([-3, -2, 0, 1, 2, 3], dtype='bool')"
   ]
  },
  {
   "cell_type": "code",
   "execution_count": 24,
   "id": "5c1b2aa6-8aa5-4581-9b21-c9125b53bfdb",
   "metadata": {},
   "outputs": [
    {
     "data": {
      "text/plain": [
       "array(['-3', '-2', '0', '1', '2', '3'], dtype='<U2')"
      ]
     },
     "execution_count": 24,
     "metadata": {},
     "output_type": "execute_result"
    }
   ],
   "source": [
    "# Int ot boolean\n",
    "np.array([-3, -2, 0, 1, 2, 3], dtype='str')"
   ]
  },
  {
   "cell_type": "code",
   "execution_count": 25,
   "id": "edf87728-05bd-4979-a377-370b988fd3f5",
   "metadata": {},
   "outputs": [
    {
     "name": "stdout",
     "output_type": "stream",
     "text": [
      "[1 2 3]\n",
      "['1' '2' '3']\n"
     ]
    }
   ],
   "source": [
    "list_value = [1, 2, 3]\n",
    "\n",
    "numpy_int_list = np.array(list_value)\n",
    "\n",
    "print(numpy_int_list)\n",
    "\n",
    "\n",
    "get_string = numpy_int_list.astype(int).astype(str)\n",
    "\n",
    "print(get_string)"
   ]
  },
  {
   "cell_type": "markdown",
   "id": "ac29b5cf-0880-41ed-b63d-dc0c8911db46",
   "metadata": {},
   "source": [
    "# Multi-dimensional Arrays \n",
    "\n",
    "```python\n",
    "\n",
    "# 2 Dimensional Array of numpy\n",
    "\n",
    "numpy.array([[value, value, value, ...], [value, value, value, ...]])\n",
    "\n",
    "# or you can (put sprate array inside tuple) but you can't (put all this inside tuple because numpy array just accept list to change it to numpy array)\n",
    "\n",
    "numpy.array([(value, value, value, ...), (value, value, value, ...)])\n",
    "\n",
    "\n",
    "# 3 Dimensional Array of numpy\n",
    "\n",
    "numpy.array([[value, value, value, ...], [value, value, value, ...], [value, value, value, ...]])\n",
    "\n",
    "\n",
    "# 4 Dimensional Array of numpy\n",
    "\n",
    "numpy.array([[value, value, value, ...], [value, value, value, ...], [value, value, value, ...], [value, value, value, ...]])\n",
    "\n",
    "\n",
    "\n",
    "# get the size of the array numpy or get the length of the array numpy\n",
    "\n",
    "array_numpy_variable.size\n",
    "\n",
    "\n",
    "\n",
    "# get the shape of the array numpy or get the length of row and column for array numpy\n",
    "\n",
    "array_numpy_variable.shape\n",
    "\n",
    "\n",
    "\n",
    "# get the data type of the array numpy\n",
    "\n",
    "array_numpy_variable.dtype\n",
    "\n",
    "```"
   ]
  },
  {
   "cell_type": "code",
   "execution_count": 26,
   "id": "43145d70-f9a6-4873-adc1-991f09048a0e",
   "metadata": {},
   "outputs": [
    {
     "name": "stdout",
     "output_type": "stream",
     "text": [
      "<class 'numpy.ndarray'>\n",
      "[[1 2 3]\n",
      " [4 5 6]]\n",
      "Shape:  (2, 3)\n",
      "Size: 6\n",
      "Data type: int64\n"
     ]
    }
   ],
   "source": [
    "# 2 Dimension Array of numpy\n",
    "two_dimension_array = np.array([[1, 2, 3], [4, 5, 6]])\n",
    "# two_dimension_array = np.array([(1, 2, 3), (4, 5, 6)])\n",
    "\n",
    "\n",
    "print(type(two_dimension_array)) # <class 'numpy.ndarray'>\n",
    "\n",
    "print(two_dimension_array) # \n",
    "'''\n",
    "[[1 2 3]\n",
    " [4 5 6]]\n",
    "'''\n",
    "\n",
    "print('Shape: ', two_dimension_array.shape) # Shape:  (2, 3)\n",
    "\n",
    "print('Size:', two_dimension_array.size) # Size: 6\n",
    "\n",
    "print('Data type:', two_dimension_array.dtype) # Data type: int64"
   ]
  },
  {
   "cell_type": "markdown",
   "id": "45b7af52-95bf-4fd3-8d6d-2b66fc7648b3",
   "metadata": {},
   "source": [
    "# Getting items from a numpy array\n",
    "\n",
    "```python\n",
    "\n",
    "# Syntax\n",
    "\n",
    "variable_numpy_array[index_of_row] # calling the row using index of the row\n",
    "\n",
    "\n",
    "variable_numpy_array[:, index_of_column] # we use this symbol (:) in first parameter to indicate that i don't want call the row just call the column, and this is done by specify index of this column that you wnat in next parameter \n",
    "\n",
    "\n",
    "\n",
    "## Example\n",
    "\n",
    "variable_numpy_array = numpy.array([[value1, value2, value3], [value4, value5, value6]])\n",
    "\n",
    "variable_numpy_array[0] # [value1 value2 value3] # calling first row using index of the row\n",
    "\n",
    "variable_numpy_array[1] # [value4 value5 value6] # calling second row using index of the row\n",
    "\n",
    "\n",
    "\n",
    "variable_numpy_array[:, 0] # [value1 value4] # calling first column using index of the column in next parameter after specify that i don't call row by using this symbol : in first parameter\n",
    "\n",
    "variable_numpy_array[:, 1] # [value2 value5] # calling second column using index of the column in next parameter after specify that i don't call row by using this symbol : in first parameter\n",
    "\n",
    "variable_numpy_array[:, 2] # [value3 value6] # calling second column using index of the column in next parameter after specify that i don't call row by using this symbol : in first parameter\n",
    "\n",
    "\n",
    "```"
   ]
  },
  {
   "cell_type": "code",
   "execution_count": 27,
   "id": "6b0ad637-23fb-478c-94d1-c236ac54619c",
   "metadata": {},
   "outputs": [
    {
     "name": "stdout",
     "output_type": "stream",
     "text": [
      "First row: [1 2 3]\n",
      "Second row: [4 5 6]\n",
      "Third row:  [7 8 9]\n"
     ]
    }
   ],
   "source": [
    "# 3 Dimension Array\n",
    "three_dimension_array = np.array([[1, 2, 3], [4, 5, 6], [7, 8, 9]])\n",
    "\n",
    "first_row = three_dimension_array[0]\n",
    "second_row = three_dimension_array[1]\n",
    "third_row = three_dimension_array[2]\n",
    "\n",
    "print('First row:', first_row)   # First row: [1 2 3]\n",
    "print('Second row:', second_row) # Second row: [4 5 6]\n",
    "print('Third row: ', third_row)  # Third row:  [7 8 9]"
   ]
  },
  {
   "cell_type": "code",
   "execution_count": 28,
   "id": "95a6c079-1094-4c5d-a636-2753794dc0cc",
   "metadata": {},
   "outputs": [
    {
     "name": "stdout",
     "output_type": "stream",
     "text": [
      "First column: [1 4 7]\n",
      "Second column: [2 5 8]\n",
      "Third column:  [3 6 9]\n",
      "[[1 2 3]\n",
      " [4 5 6]]\n"
     ]
    },
    {
     "data": {
      "text/plain": [
       "'\\n[[1 2 3]\\n [4 5 6]\\n [7 8 9]]\\n'"
      ]
     },
     "execution_count": 28,
     "metadata": {},
     "output_type": "execute_result"
    }
   ],
   "source": [
    "first_column = three_dimension_array[:, 0]\n",
    "second_column = three_dimension_array[:, 1]\n",
    "third_column = three_dimension_array[:, 2]  \n",
    "\n",
    "print('First column:', first_column)   # First column: [1 4 7]\n",
    "print('Second column:', second_column) # Second column: [2 5 8]\n",
    "print('Third column: ', third_column)  # Third column:  [3 6 9]\n",
    "print(two_dimension_array)\n",
    "'''\n",
    "[[1 2 3]\n",
    " [4 5 6]\n",
    " [7 8 9]]\n",
    "'''"
   ]
  },
  {
   "cell_type": "markdown",
   "id": "fc700926-b935-4985-a08a-2e28312269f6",
   "metadata": {},
   "source": [
    "# Slicing Numpy array\n",
    "\n",
    "```python\n",
    "\n",
    "# Syntax\n",
    "\n",
    "## specify the shape of array that you want call it ( ( number of row using index for left and use length for right to represet number of row ) and ( column is use length to represent number of column ) ) \n",
    "### we use right of length row for calling value\n",
    "### we use left of index row for representing the target\n",
    "\n",
    "      1     2     3\n",
    "0 [[value value value]  1\n",
    "1  [value value value]] 2\n",
    "\n",
    "variable_numpy_array[start_row_index:end_row_length, start_row_index:end_col_length] \n",
    "\n",
    "      1     2     3\n",
    "0 [[value value value]  1\n",
    "1  [value value value]  2\n",
    "2  [value value value]] 3\n",
    "\n",
    "variable_numpy_array[start_row_index:end_row_length, start_row_index:end_col_length]\n",
    "\n",
    "...\n",
    "...\n",
    "\n",
    "\n",
    "\n",
    "```"
   ]
  },
  {
   "cell_type": "code",
   "execution_count": 29,
   "id": "7af94dd4-294a-44d1-9559-b5028ff4e272",
   "metadata": {},
   "outputs": [
    {
     "name": "stdout",
     "output_type": "stream",
     "text": [
      "[[1 2]\n",
      " [4 5]]\n",
      "[[1 2 3]\n",
      " [4 5 6]\n",
      " [7 8 9]]\n",
      "\n",
      " [[1]]\n",
      "\n",
      " [[1 2]\n",
      " [4 5]]\n",
      "\n",
      " [[1 2 3]\n",
      " [4 5 6]\n",
      " [7 8 9]]\n",
      "\n",
      " [[1]]\n",
      "\n",
      " [[1 2]\n",
      " [4 5]]\n",
      "\n",
      " [[1 2 3]\n",
      " [4 5 6]]\n"
     ]
    },
    {
     "data": {
      "text/plain": [
       "'\\n [[1 2 3]\\n [4 5 6]]\\n'"
      ]
     },
     "execution_count": 29,
     "metadata": {},
     "output_type": "execute_result"
    }
   ],
   "source": [
    "three_dimension_array = np.array([[1, 2, 3], [4, 5, 6], [7, 8, 9]])\n",
    "\n",
    "'''\n",
    "    1 2 3\n",
    "0 [[1 2 3]  1\n",
    "1  [4 5 6]  2\n",
    "2  [7 8 9]] 3\n",
    "'''\n",
    "\n",
    "first_two_rows_and_columns = three_dimension_array[0:2, 0:2] \n",
    "\n",
    "print(first_two_rows_and_columns)\n",
    "'''\n",
    "[[1 2]\n",
    " [4 5]]\n",
    "'''\n",
    "\n",
    "\n",
    "first_three_rows_and_columns = three_dimension_array[0:3, 0:3] \n",
    "\n",
    "print(first_three_rows_and_columns)\n",
    "'''\n",
    "[[1 2 3]\n",
    " [4 5 6]\n",
    " [7 8 9]]\n",
    "'''\n",
    "\n",
    "\n",
    "\n",
    "## More Example\n",
    "\n",
    "'''\n",
    "    1 2 3\n",
    "0 [[1 2 3]  1\n",
    "1  [4 5 6]  2\n",
    "2  [7 8 9]] 3\n",
    "'''\n",
    "\n",
    "variable_array_numpy = np.array([[1, 2, 3], [4, 5, 6], [7, 8, 9]])\n",
    "\n",
    "# array numpy from row 0 to column 1\n",
    "done = variable_array_numpy[0:1, 0:1] \n",
    "print('\\n', done)\n",
    "'''\n",
    " [[1]]\n",
    "'''\n",
    "\n",
    "\n",
    "# array numpy from row 0 to column 2\n",
    "done = variable_array_numpy[0:2, 0:2] \n",
    "print('\\n', done)\n",
    "'''\n",
    " [[1 2]\n",
    " [4 5]]\n",
    "'''\n",
    "\n",
    "\n",
    "# array numpy from row 0 to column 3\n",
    "done = variable_array_numpy[0:3, 0:3] \n",
    "print('\\n', done)\n",
    "'''\n",
    " [[1 2 3]\n",
    " [4 5 6]\n",
    " [7 8 9]]\n",
    "'''\n",
    "\n",
    "\n",
    "\n",
    "\n",
    "## More Example\n",
    "\n",
    "two_dimension_array = np.array([[1, 2, 3], [4, 5, 6]])\n",
    "\n",
    "'''\n",
    "    1 2 3\n",
    "0 [[1 2 3] 1\n",
    "1  [4 5 6] 2\n",
    "'''\n",
    "\n",
    "done = two_dimension_array[0:1, 0:1] \n",
    "\n",
    "print('\\n', done)\n",
    "'''\n",
    " [[1]]\n",
    "'''\n",
    "\n",
    "done = two_dimension_array[0:2, 0:2] \n",
    "\n",
    "print('\\n', done)\n",
    "'''\n",
    " [[1 2]\n",
    " [4 5]]\n",
    "'''\n",
    "\n",
    "\n",
    "done = two_dimension_array[0:3, 0:3] \n",
    "\n",
    "print('\\n', done)\n",
    "'''\n",
    " [[1 2 3]\n",
    " [4 5 6]]\n",
    "'''\n"
   ]
  },
  {
   "cell_type": "code",
   "execution_count": 30,
   "id": "353c000a-894d-461c-a942-1a8676c6a5a0",
   "metadata": {},
   "outputs": [
    {
     "name": "stdout",
     "output_type": "stream",
     "text": [
      "[[1 2 3]\n",
      " [4 5 6]\n",
      " [7 8 9]]\n"
     ]
    },
    {
     "data": {
      "text/plain": [
       "'\\n[[1 2 3]\\n [4 5 6]\\n [7 8 9]]\\n'"
      ]
     },
     "execution_count": 30,
     "metadata": {},
     "output_type": "execute_result"
    }
   ],
   "source": [
    "three_dimension_array = np.array([[1, 2, 3], [4, 5, 6], [7, 8, 9]])\n",
    "\n",
    "# all_value = three_dimension_array[::] # ths symbol  ::  is automatic detect the ( first row and end column ) this is use for reversing if you use -1 for reverse all the array with it\n",
    "all_value = three_dimension_array[:] # ths symbol  :  is automatic detect the ( first row and end column )\n",
    "\n",
    "print(all_value)\n",
    "'''\n",
    "[[1 2 3]\n",
    " [4 5 6]\n",
    " [7 8 9]]\n",
    "'''"
   ]
  },
  {
   "cell_type": "code",
   "execution_count": 31,
   "id": "b39234b0-8ed7-45e3-a251-c4cac500fd96",
   "metadata": {},
   "outputs": [
    {
     "name": "stdout",
     "output_type": "stream",
     "text": [
      "\n",
      " []\n"
     ]
    },
    {
     "data": {
      "text/plain": [
       "'\\n[]\\n'"
      ]
     },
     "execution_count": 31,
     "metadata": {},
     "output_type": "execute_result"
    }
   ],
   "source": [
    "# Reverse the row and column positions\n",
    "two_dimension_array = np.array([[1, 2, 3], [4, 5, 6], [7, 8, 9]])\n",
    "\n",
    "reverse_array_numpy = two_dimension_array[::-1, ::-1] # :: use for reverse but if you specify the minize number with it\n",
    "'''\n",
    ":: -1, :: -1   means all the array in reverse from [0:3, 0:3]\n",
    ":: -2, :: -2   means from [0:2, 0:2] reverse it\n",
    "\n",
    ":: -1          means all the array in reverse from [0:3, 0:3] this is different reverse\n",
    ":: -2          means from [0:2, 0:2] reverse it this is different reverse\n",
    "'''\n",
    "\n",
    "# print(reverse_array_numpy)\n",
    "'''\n",
    "[[9 8 7]\n",
    " [6 5 4]\n",
    " [3 2 1]]\n",
    "'''\n",
    "\n",
    "\n",
    "\n",
    "reverse_array_numpy = two_dimension_array[::-2, ::-2] # :: use for reverse but if you specify the minize number with it\n",
    "\n",
    "# print('\\n', reverse_array_numpy)\n",
    "'''\n",
    "[[9 7]\n",
    " [3 1]]\n",
    "'''\n",
    "\n",
    "\n",
    "\n",
    "reverse_array_numpy = two_dimension_array[::-3, ::-3] # :: use for reverse but if you specify the minize number with it\n",
    "\n",
    "# print('\\n', reverse_array_numpy)\n",
    "'''\n",
    "[[9]]\n",
    "'''\n",
    "\n",
    "\n",
    "\n",
    "reverse_array_numpy = two_dimension_array[::-3] # :: use for reverse but if you specify the minize number with it\n",
    "\n",
    "# print('\\n', reverse_array_numpy)\n",
    "'''\n",
    "[[7 8 9]]\n",
    "'''\n",
    "\n",
    "\n",
    "\n",
    "reverse_array_numpy = two_dimension_array[::-2] # :: use for reverse but if you specify the minize number with it\n",
    "\n",
    "# print(reverse_array_numpy)\n",
    "'''\n",
    "[[7 8 9]\n",
    " [1 2 3]]\n",
    "'''\n",
    "\n",
    "\n",
    "\n",
    "reverse_array_numpy = two_dimension_array[::-1] # :: use for reverse but if you specify the minize number with it\n",
    "\n",
    "# print(reverse_array_numpy)\n",
    "'''\n",
    "[[7 8 9]\n",
    " [4 5 6]\n",
    " [1 2 3]]\n",
    "'''\n",
    "\n",
    "\n",
    "\n",
    "\n",
    "reverse_array_numpy = two_dimension_array[:, :] # automatic detect the row and the column\n",
    "# reverse_array_numpy = two_dimension_array[:] # this is also do the same workd\n",
    "# reverse_array_numpy = two_dimension_array[:, :, :] # error # you know why\n",
    "\n",
    "# print('\\n', reverse_array_numpy)\n",
    "'''\n",
    "[[1 2 3]\n",
    " [4 5 6]\n",
    " [7 8 9]]\n",
    "'''\n",
    "\n",
    "\n",
    "\n",
    "reverse_array_numpy = two_dimension_array[:-1, :-1] # [:-1, :-1] = [0:2, 0:2]\n",
    "\n",
    "# print('\\n', reverse_array_numpy)\n",
    "'''\n",
    "[[1 2]\n",
    " [4 5]]\n",
    "'''\n",
    "\n",
    "\n",
    "\n",
    "reverse_array_numpy = two_dimension_array[:-1] # [:-1] = [0:2, 0:3] \n",
    "\n",
    "# print('\\n', reverse_array_numpy)\n",
    "'''\n",
    " [[1 2 3]\n",
    " [4 5 6]]\n",
    "'''\n",
    "\n",
    "\n",
    "reverse_array_numpy = two_dimension_array[:-2, :-2] # [:-2, :-2] = [0:1, 0:1]\n",
    "\n",
    "# print('\\n', reverse_array_numpy)\n",
    "'''\n",
    "[[1]]\n",
    "'''\n",
    "\n",
    "\n",
    "\n",
    "reverse_array_numpy = two_dimension_array[:-2] # [:-2] = [0:1, 0:3]\n",
    "\n",
    "# print('\\n', reverse_array_numpy)\n",
    "'''\n",
    " [[1 2 3]]\n",
    "'''\n",
    "\n",
    "\n",
    "reverse_array_numpy = two_dimension_array[:-3, :-3] # [:-3, :-3] = [???:???, ???:???]\n",
    "\n",
    "# print('\\n', reverse_array_numpy)\n",
    "'''\n",
    "[]\n",
    "'''\n",
    "\n",
    "\n",
    "\n",
    "reverse_array_numpy = two_dimension_array[:-3] # [:-3] = [???:???, ???:???]\n",
    "\n",
    "print('\\n', reverse_array_numpy)\n",
    "'''\n",
    "[]\n",
    "'''\n"
   ]
  },
  {
   "cell_type": "markdown",
   "id": "3fd6e622-5287-4b94-ae78-8257ecb7b962",
   "metadata": {},
   "source": [
    "# How to represent missing values ?"
   ]
  },
  {
   "cell_type": "code",
   "execution_count": 32,
   "id": "2837417a-8bf0-4c1c-a9cc-c0486bc29ec6",
   "metadata": {},
   "outputs": [
    {
     "name": "stdout",
     "output_type": "stream",
     "text": [
      "[[1 2 3]\n",
      " [4 5 6]\n",
      " [7 8 9]]\n",
      "\n",
      " [[ 1  2  3]\n",
      " [ 4 55 44]\n",
      " [ 7  8  9]]\n"
     ]
    },
    {
     "data": {
      "text/plain": [
       "'\\n [[ 1  2  3]\\n [ 4 55 44]\\n [ 7  8  9]]\\n'"
      ]
     },
     "execution_count": 32,
     "metadata": {},
     "output_type": "execute_result"
    }
   ],
   "source": [
    "three_dimension_array = np.array([[1, 2, 3], [4, 5, 6], [7, 8, 9]])\n",
    "\n",
    "print(three_dimension_array)\n",
    "'''\n",
    "[[1 2 3]\n",
    " [4 5 6]\n",
    " [7 8 9]]\n",
    "'''\n",
    "\n",
    "'''\n",
    "  0 1 2\n",
    "[[1 2 3]  0\n",
    " [4 5 6]  1\n",
    " [7 8 9]] 2\n",
    "'''\n",
    "\n",
    "three_dimension_array[1, 1] = 55 # [row 1, column 1]\n",
    "three_dimension_array[1, 2] = 44 # [row 1, column 2]\n",
    "\n",
    "print('\\n', three_dimension_array)\n",
    "'''\n",
    " [[ 1  2  3]\n",
    " [ 4 55 44]\n",
    " [ 7  8  9]]\n",
    "'''"
   ]
  },
  {
   "cell_type": "code",
   "execution_count": 33,
   "id": "84c51e43-c6f3-47a6-a6a7-e8efbd363a7e",
   "metadata": {},
   "outputs": [
    {
     "data": {
      "text/plain": [
       "'\\n[[0 0 0]\\n [0 0 0]]\\n'"
      ]
     },
     "execution_count": 33,
     "metadata": {},
     "output_type": "execute_result"
    }
   ],
   "source": [
    "# Numpy Zeroes\n",
    "# numpy.zeros(shape, dtype=float, order='C')\n",
    "## Note: shape(row, column) both of this use length to represent the number of column and row \n",
    "## Note: order{‘C’, ‘F’}, optional, default: ‘C’ Whether to store multi-dimensional data in row-major (C-style) or column-major (Fortran-style) order in memory.\n",
    "numpy_zeroes = np.zeros((3, 3), dtype=int, order='C')\n",
    "\n",
    "# print(numpy_zeroes)\n",
    "'''\n",
    "[[0 0 0]\n",
    " [0 0 0]\n",
    " [0 0 0]]\n",
    "'''\n",
    "\n",
    "\n",
    "numpy_zeroes = np.zeros((2, 2), dtype=int, order='C')\n",
    "\n",
    "# print(numpy_zeroes)\n",
    "'''\n",
    "[[0 0]\n",
    " [0 0]]\n",
    "'''\n",
    "\n",
    "\n",
    "numpy_zeroes = np.zeros((1, 1), dtype=int, order='C')\n",
    "\n",
    "# print(numpy_zeroes)\n",
    "'''\n",
    "[[0]]\n",
    "'''\n",
    "\n",
    "\n",
    "numpy_zeroes = np.zeros((1, 3), dtype=int, order='C')\n",
    "\n",
    "# print(numpy_zeroes)\n",
    "'''\n",
    "[[0 0 0]]\n",
    "'''\n",
    "\n",
    "numpy_zeroes = np.zeros((2, 3), dtype=int, order='C')\n",
    "\n",
    "# print(numpy_zeroes)\n",
    "'''\n",
    "[[0 0 0]\n",
    " [0 0 0]]\n",
    "'''"
   ]
  },
  {
   "cell_type": "code",
   "execution_count": 34,
   "id": "3aad2200-c8c2-4836-8382-28659d1ae45a",
   "metadata": {},
   "outputs": [
    {
     "name": "stdout",
     "output_type": "stream",
     "text": [
      "[[1 1 1]\n",
      " [1 1 1]\n",
      " [1 1 1]]\n",
      "\n",
      " [[2 2 2]\n",
      " [2 2 2]\n",
      " [2 2 2]]\n"
     ]
    },
    {
     "data": {
      "text/plain": [
       "'\\n[[2 2 2]\\n [2 2 2]\\n [2 2 2]]\\n'"
      ]
     },
     "execution_count": 34,
     "metadata": {},
     "output_type": "execute_result"
    }
   ],
   "source": [
    "# Numpy Ones\n",
    "numpy_ones = np.ones((3, 3), dtype=int, order='C')\n",
    "\n",
    "print(numpy_ones)\n",
    "'''\n",
    "[[1 1 1]\n",
    " [1 1 1]\n",
    " [1 1 1]]\n",
    "'''\n",
    "\n",
    "\n",
    "\n",
    "twoes = numpy_ones * 2\n",
    "\n",
    "print('\\n', twoes)\n",
    "'''\n",
    "[[2 2 2]\n",
    " [2 2 2]\n",
    " [2 2 2]]\n",
    "'''"
   ]
  },
  {
   "cell_type": "markdown",
   "id": "81541875-3b6d-4780-9a7a-c76ea61714c2",
   "metadata": {},
   "source": [
    "### Reshape\n",
    "\n",
    "```python\n",
    "\n",
    "## reshape() function we use this function to change the shape of the numpy array\n",
    "\n",
    "# Syntax\n",
    "\n",
    "variable_numpy_array.reshape(row, column)\n",
    "\n",
    "```\n"
   ]
  },
  {
   "cell_type": "code",
   "execution_count": 35,
   "id": "41ec1295-9630-42b3-a87e-511f7b615b67",
   "metadata": {},
   "outputs": [
    {
     "name": "stdout",
     "output_type": "stream",
     "text": [
      "[[1 2 3]\n",
      " [4 5 6]]\n",
      "[[1 2]\n",
      " [3 4]\n",
      " [5 6]]\n"
     ]
    },
    {
     "data": {
      "text/plain": [
       "'\\n[[1 2]\\n [3 4]\\n [5 6]]\\n'"
      ]
     },
     "execution_count": 35,
     "metadata": {},
     "output_type": "execute_result"
    }
   ],
   "source": [
    "# Reshape\n",
    "# numpy.reshape(), numpy.flatten()\n",
    "first_shape  = np.array([(1,2,3), (4,5,6)])\n",
    "\n",
    "print(first_shape)\n",
    "'''\n",
    "[[1 2 3]\n",
    " [4 5 6]]\n",
    "'''\n",
    "\n",
    "\n",
    "reshaped = first_shape.reshape(3,2) # 3 row and 2 column\n",
    "\n",
    "print(reshaped)\n",
    "'''\n",
    "[[1 2]\n",
    " [3 4]\n",
    " [5 6]]\n",
    "'''"
   ]
  },
  {
   "cell_type": "code",
   "execution_count": 36,
   "id": "571c59f1-0f74-4df7-81c6-872a81bd0d59",
   "metadata": {},
   "outputs": [
    {
     "name": "stdout",
     "output_type": "stream",
     "text": [
      "[1 2 3 4 5 6]\n",
      "[1 2 3 4 5 6]\n"
     ]
    }
   ],
   "source": [
    "# flatten() function will change the array numpy to one dimentional array like flatten\n",
    "flattened = reshaped.flatten()\n",
    "\n",
    "print(flattened) # [1 2 3 4 5 6]\n",
    "\n",
    "\n",
    "flattened = first_shape.flatten()\n",
    "\n",
    "print(flattened) # [1 2 3 4 5 6]"
   ]
  },
  {
   "cell_type": "code",
   "execution_count": 37,
   "id": "8bcf0ebc-17c5-4daa-9143-66b96d325759",
   "metadata": {},
   "outputs": [
    {
     "name": "stdout",
     "output_type": "stream",
     "text": [
      "[5 7 9]\n",
      "Horizontal Append: [1 2 3 4 5 6]\n"
     ]
    }
   ],
   "source": [
    "## Horitzontal Stack\n",
    "np_list_one = np.array([1,2,3])\n",
    "np_list_two = np.array([4,5,6])\n",
    "\n",
    "print(np_list_one + np_list_two)\n",
    "\n",
    "print('Horizontal Append:', np.hstack((np_list_one, np_list_two)))"
   ]
  },
  {
   "cell_type": "code",
   "execution_count": 38,
   "id": "cbd280b0-9370-4c9d-a4b5-efd79c3ad755",
   "metadata": {},
   "outputs": [
    {
     "name": "stdout",
     "output_type": "stream",
     "text": [
      "0.2349975142401346\n"
     ]
    }
   ],
   "source": [
    "# Generating Random Numbers using   random  package numpy with    random()   function random package\n",
    "# Generate a random float number between 0.000... to 0.999...\n",
    "\n",
    "random_float = np.random.random()\n",
    "\n",
    "print(random_float) # 0...."
   ]
  },
  {
   "cell_type": "code",
   "execution_count": 39,
   "id": "61ef51e8-3f33-4935-8d5b-73a87d177154",
   "metadata": {},
   "outputs": [
    {
     "name": "stdout",
     "output_type": "stream",
     "text": [
      "[0.19854595 0.94748647 0.21609147 0.41687826 0.25074362 0.66806879\n",
      " 0.72172946 0.32286025 0.94652404 0.19730509]\n"
     ]
    }
   ],
   "source": [
    "# Generate a random float number with specifying the number of random value that you want get to you\n",
    "# this will generate 10 random number\n",
    "# all value is return like array numpy\n",
    "random_floats = np.random.random(10)\n",
    "\n",
    "# all value is returned like numpy array\n",
    "print(random_floats) # [0.69704587 0.36590489 0.74557318 0.08504025 0.13938551]"
   ]
  },
  {
   "cell_type": "code",
   "execution_count": 40,
   "id": "c3c11013-6a07-40dd-972b-298e1cf45bae",
   "metadata": {},
   "outputs": [
    {
     "name": "stdout",
     "output_type": "stream",
     "text": [
      "3\n"
     ]
    }
   ],
   "source": [
    "# Generating a random integers between 0 and 10 using   randint()   function for random package numpy\n",
    "random_int = np.random.randint(0, 11)\n",
    "\n",
    "print(random_int) "
   ]
  },
  {
   "cell_type": "code",
   "execution_count": 41,
   "id": "15542436-0d5e-4226-b9db-e04f968c8c02",
   "metadata": {},
   "outputs": [
    {
     "name": "stdout",
     "output_type": "stream",
     "text": [
      "[5 5 6 5]\n"
     ]
    }
   ],
   "source": [
    "# Generating a random integers between 2 and 10 using   randint()   function for random package numpy\n",
    "# in third parameter we can see that the size of the random is 4 means 4 number will be generate \n",
    "# all value is return like array numpy\n",
    "random_int = np.random.randint(2, 10, size=4)\n",
    "\n",
    "# all value is return like array numpy\n",
    "print(random_int)"
   ]
  },
  {
   "cell_type": "code",
   "execution_count": 42,
   "id": "d1741727-81fa-4b4c-8c14-cec0ffc3afcf",
   "metadata": {},
   "outputs": [
    {
     "name": "stdout",
     "output_type": "stream",
     "text": [
      "[[6 6 3]\n",
      " [4 9 2]\n",
      " [4 5 4]]\n"
     ]
    }
   ],
   "source": [
    "# Generating a random integers between 0 and 10 using   randint()   function for random package numpy\n",
    "# the size of the random number in this case is numpy array 3 by 3\n",
    "# all value is return inside numpy array\n",
    "random_int = np.random.randint(2, 10, size=(3, 3))\n",
    "\n",
    "# all value is returned inside numpy array\n",
    "print(random_int)"
   ]
  },
  {
   "cell_type": "code",
   "execution_count": 43,
   "id": "30a8aaca-ecf2-4aff-9902-728c17355277",
   "metadata": {},
   "outputs": [
    {
     "name": "stdout",
     "output_type": "stream",
     "text": [
      "[31  9 43 23]\n"
     ]
    }
   ],
   "source": [
    "# Generating a random integers between 0 and 100\n",
    "# the number of random number is generage is 4 \n",
    "# all random number will be return like numpy array\n",
    "random_int = np.random.randint(0,100, size=4)\n",
    "\n",
    "print(random_int)"
   ]
  },
  {
   "cell_type": "code",
   "execution_count": 44,
   "id": "5fe03404-754a-4db4-bbae-3c2f53e0d9a3",
   "metadata": {},
   "outputs": [],
   "source": [
    "# random_int = np.random.randint(0,-100, size=(3,3)) # error # you can't generate negative number using   randint()   function"
   ]
  },
  {
   "cell_type": "markdown",
   "id": "8217e796-bb4f-466a-97d0-485996c5c42e",
   "metadata": {},
   "source": [
    "# Generationg random numbers"
   ]
  },
  {
   "attachments": {
    "75f22d46-eb67-4176-bc8a-e5aee8c2efad.png": {
     "image/png": "[encoded data removed]"
    }
   },
   "cell_type": "markdown",
   "id": "db6a519d-ceec-422b-b400-f5b57ecfa847",
   "metadata": {},
   "source": [
    "![download.png](attachment:75f22d46-eb67-4176-bc8a-e5aee8c2efad.png)"
   ]
  },
  {
   "cell_type": "code",
   "execution_count": 45,
   "id": "94e30193-dc07-47e2-b7ef-da6587149a57",
   "metadata": {},
   "outputs": [
    {
     "name": "stdout",
     "output_type": "stream",
     "text": [
      "[-0.20802424  3.257433   -1.08229031 -6.63812712 -2.50324832  1.2014029\n",
      "  7.27401055  0.68925048 -0.62671293 -1.18591852 -2.99101829 -0.61669319\n",
      " -0.4925286  -0.1855895   2.04710054  7.04597572 -4.73719135 -5.17590583\n",
      " -0.96346882  4.78118803  5.67043109  0.83508674 -2.19572874 -0.51348517]\n"
     ]
    }
   ],
   "source": [
    "# np.random.normal(loc=.., scale=.., size=...)\n",
    "normal_array = np.random.normal(0, 3, size = 24)\n",
    "\n",
    "print(normal_array)"
   ]
  },
  {
   "cell_type": "code",
   "execution_count": 46,
   "id": "5ec6d23c-b391-400f-b8e5-fcc33cbb8b1f",
   "metadata": {},
   "outputs": [
    {
     "name": "stdout",
     "output_type": "stream",
     "text": [
      "3.4764725472860794\n"
     ]
    }
   ],
   "source": [
    "# np.random.normal(loc=.., scale=.., size=...)\n",
    "normal_array = np.random.normal(0, 3, size = None)\n",
    "\n",
    "print(normal_array)"
   ]
  },
  {
   "cell_type": "code",
   "execution_count": 47,
   "id": "36bb8296-b0d6-428d-9cfe-6d44fd9689f6",
   "metadata": {},
   "outputs": [
    {
     "name": "stdout",
     "output_type": "stream",
     "text": [
      "[ 46.07629752  55.80448563  81.17594187  91.14009789  88.94259139\n",
      "  87.01235676  66.104266    82.7165903  101.14697158  93.84319428\n",
      "  55.13532065  93.62027268  78.45219663  62.90851339  75.81367835\n",
      "  67.98077828  84.21092119  66.48906835  92.95402406  76.05557726\n",
      "  74.94941495  81.9816657  105.24641309  82.85479298  68.01101272\n",
      "  80.54520435  82.64235732  97.14451466  86.0749642   98.69245685\n",
      "  85.66028492  91.17472111  65.81065108  93.24996549 103.88430587\n",
      "  88.68192255  90.18705446  92.90662727  87.37254859  78.86650335\n",
      "  78.73655674  96.68593322 106.13438049 116.01829572  54.06373372\n",
      " 109.19019821  66.18904361  82.78009025  54.45433275  67.10600316\n",
      "  97.92946789  76.43309235  58.24781334  84.13066459  47.06617014\n",
      "  89.9943214   96.41106917  66.73476673  83.70590659  74.90285608\n",
      " 106.81081167  82.93426432  74.79650823  72.68058849  91.09404837\n",
      "  75.38707931  82.66510113  77.07762944  92.34001925  77.49542404\n",
      "  83.14211894  47.39056547 116.82385233  59.79703174  76.93851799\n",
      "  89.05312977  88.01198359  70.35805546  60.78858355  99.65118433]\n"
     ]
    }
   ],
   "source": [
    "# np.random.normal(loc=.., scale=1.., size=...)\n",
    "# normal_array = np.random.normal(79, 15, 80) # you can also just type the number in third parameter without using size keyword to specify this number that you want generate it\n",
    "normal_array = np.random.normal(79, 15, size = 80)\n",
    "\n",
    "print(normal_array)"
   ]
  },
  {
   "cell_type": "markdown",
   "id": "2e059148-2511-4115-9193-c5ed6dc7a45b",
   "metadata": {},
   "source": [
    "# Numpy and Statistics\n"
   ]
  },
  {
   "cell_type": "code",
   "execution_count": 61,
   "id": "e4098ec7-d520-4e59-889f-2d3df38a8a17",
   "metadata": {},
   "outputs": [
    {
     "data": {
      "text/plain": [
       "(array([3., 0., 0., 0., 0., 2., 2., 0., 1., 1., 1., 1., 0., 1., 5., 2., 0.,\n",
       "        1., 1., 0., 4., 5., 2., 2., 2., 6., 5., 1., 2., 2., 3., 5., 1., 5.,\n",
       "        0., 2., 2., 2., 1., 0., 1., 1., 2., 0., 1., 0., 0., 0., 0., 2.]),\n",
       " array([ 46.07629752,  47.49124861,  48.90619971,  50.32115081,\n",
       "         51.7361019 ,  53.151053  ,  54.5660041 ,  55.98095519,\n",
       "         57.39590629,  58.81085738,  60.22580848,  61.64075958,\n",
       "         63.05571067,  64.47066177,  65.88561287,  67.30056396,\n",
       "         68.71551506,  70.13046615,  71.54541725,  72.96036835,\n",
       "         74.37531944,  75.79027054,  77.20522164,  78.62017273,\n",
       "         80.03512383,  81.45007492,  82.86502602,  84.27997712,\n",
       "         85.69492821,  87.10987931,  88.52483041,  89.9397815 ,\n",
       "         91.3547326 ,  92.7696837 ,  94.18463479,  95.59958589,\n",
       "         97.01453698,  98.42948808,  99.84443918, 101.25939027,\n",
       "        102.67434137, 104.08929247, 105.50424356, 106.91919466,\n",
       "        108.33414575, 109.74909685, 111.16404795, 112.57899904,\n",
       "        113.99395014, 115.40890124, 116.82385233]),\n",
       " <BarContainer object of 50 artists>)"
      ]
     },
     "execution_count": 61,
     "metadata": {},
     "output_type": "execute_result"
    },
    {
     "data": {
      "image/png": "[encoded data removed]",
      "text/plain": [
       "<Figure size 640x480 with 1 Axes>"
      ]
     },
     "metadata": {},
     "output_type": "display_data"
    }
   ],
   "source": [
    "'''\n",
    "# https://matplotlib.org/stable/api/_as_gen/matplotlib.pyplot.hist.html\n",
    "\n",
    "matplotlib.pyplot.hist(x, bins=None, range=None, density=False, weights=None, \n",
    "                        cumulative=False, bottom=None, histtype='bar', align='mid', orientation='vertical', \n",
    "                        rwidth=None, log=False, color=None, label=None, stacked=False, *, data=None, **kwargs)\n",
    "                        \n",
    "# color: color or array-like of colors or None this \"color is for chart\".\n",
    "\n",
    "# bins: int or sequence or str, default: rcParams[\"hist.bins\"] (default: 10)\n",
    "\n",
    "    If bins is an integer, it \"defines the number of equal-width bins in the range\".\n",
    "    If bins is a sequence, it \"defines the bin edges, including the left edge of the \n",
    "    first bin and the right edge of the last bin\"; in this case, bins may be unequally \n",
    "    spaced. All but the last (righthand-most) bin is half-open. In other words, if bins is:\n",
    "    [1, 2, 3, 4]\n",
    "\n",
    "'''\n",
    "# matplotlib = mathmatical plot library\n",
    "# pyplot = python plot\n",
    "import matplotlib.pyplot as plt\n",
    "\n",
    "plt.hist(normal_array, color=None, bins=50)"
   ]
  },
  {
   "cell_type": "markdown",
   "id": "1a3e0dcc-01c3-446b-9264-6b8d72e7066e",
   "metadata": {},
   "source": [
    "### Matrix in numpy"
   ]
  },
  {
   "cell_type": "code",
   "execution_count": 62,
   "id": "eccf4010-da88-485b-befb-919b6d0264f8",
   "metadata": {},
   "outputs": [
    {
     "name": "stdout",
     "output_type": "stream",
     "text": [
      "[[1. 1. 1. 1.]\n",
      " [1. 1. 1. 1.]\n",
      " [1. 1. 1. 1.]\n",
      " [1. 1. 1. 1.]]\n"
     ]
    }
   ],
   "source": [
    "'''\n",
    "# Syntax\n",
    "\n",
    "numpy.matrix(numpy.ones(row, column), dtype=....)\n",
    "\n",
    "'''\n",
    "\n",
    "four_by_four_matrix = np.matrix(np.ones((4,4), dtype=float))\n",
    "\n",
    "print(four_by_four_matrix)\n",
    "'''\n",
    "[[1. 1. 1. 1.]\n",
    " [1. 1. 1. 1.]\n",
    " [1. 1. 1. 1.]\n",
    " [1. 1. 1. 1.]]\n",
    "'''"
   ]
  },
  {
   "cell_type": "code",
   "execution_count": 92,
   "id": "4984fc22-826f-4224-85aa-14c6e165ea8e",
   "metadata": {},
   "outputs": [
    {
     "name": "stdout",
     "output_type": "stream",
     "text": [
      "[[ 2.  2.  5.  2.]\n",
      " [ 2.  2.  5.  2.]\n",
      " [ 2.  2.  5. 25.]\n",
      " [25. 25.  5. 25.]]\n"
     ]
    },
    {
     "data": {
      "text/plain": [
       "'\\n[[1. 1. 5. 1.]\\n [1. 1. 5. 1.]\\n [2. 2. 5. 2.]\\n [1. 1. 5. 1.]]\\n'"
      ]
     },
     "execution_count": 92,
     "metadata": {},
     "output_type": "execute_result"
    }
   ],
   "source": [
    "'''\n",
    "# Syntax\n",
    "\n",
    "numpy.asarray(arr, dtype=None, order=None, *, like=None)\n",
    "\n",
    "\n",
    "## set the specific row in the array to this value that you like\n",
    "\n",
    "numpy.asarray(arr)[row] = value\n",
    "\n",
    "\n",
    "## set the specific column in the array to this value that you like\n",
    "\n",
    "numpy.asarray(arr)[:, column] = value\n",
    "\n",
    "'''\n",
    "\n",
    "np.asarray(four_by_four_matrix)[2] = 2\n",
    "\n",
    "print(four_by_four_matrix)\n",
    "'''\n",
    "[[1. 1. 1. 1.]\n",
    " [1. 1. 1. 1.]\n",
    " [2. 2. 2. 2.]\n",
    " [1. 1. 1. 1.]]\n",
    "'''\n",
    "\n",
    "np.asarray(four_by_four_matrix)[:, 2] = 5\n",
    "\n",
    "print(four_by_four_matrix)\n",
    "\n",
    "'''\n",
    "[[1. 1. 5. 1.]\n",
    " [1. 1. 5. 1.]\n",
    " [2. 2. 5. 2.]\n",
    " [1. 1. 5. 1.]]\n",
    "'''\n",
    "\n",
    "\n",
    "## Note: numpy.asarray()   funciton is save the matrix change \n"
   ]
  },
  {
   "cell_type": "code",
   "execution_count": 72,
   "id": "339d10bb-82e7-49d8-9573-5eb95d2f869f",
   "metadata": {},
   "outputs": [
    {
     "name": "stdout",
     "output_type": "stream",
     "text": [
      "[1 2]\n"
     ]
    }
   ],
   "source": [
    "# just specifying the array for   numpy.asarray()   function\n",
    "normal_array = np.asarray([1, 2])\n",
    "\n",
    "print(normal_array) # [1 2]"
   ]
  },
  {
   "cell_type": "markdown",
   "id": "369f1274-bd25-466e-9f64-c0c5a45c1619",
   "metadata": {},
   "source": [
    "### Numpy numpy.arange()"
   ]
  },
  {
   "cell_type": "code",
   "execution_count": 94,
   "id": "9a1d854f-8605-43ce-827d-45b4364cc4fa",
   "metadata": {},
   "outputs": [
    {
     "name": "stdout",
     "output_type": "stream",
     "text": [
      "range(0, 11, 2)\n"
     ]
    }
   ],
   "source": [
    "'''\n",
    "# creating list using range(starting, stop, step)\n",
    "# Note: end value or stop array is not part of the range value\n",
    "\n",
    "'''\n",
    "\n",
    "lst = range(0, 11, 2)\n",
    "\n",
    "# range is not open like that, you should open with for loop \n",
    "print(lst)"
   ]
  },
  {
   "cell_type": "code",
   "execution_count": 95,
   "id": "ab21883e-275d-4d61-a71b-9330edf61966",
   "metadata": {},
   "outputs": [
    {
     "name": "stdout",
     "output_type": "stream",
     "text": [
      "0\n",
      "2\n",
      "4\n",
      "6\n",
      "8\n",
      "10\n"
     ]
    }
   ],
   "source": [
    "# put each value of the range (lst) variable to the variable (lt) of the for loop\n",
    "for lt in lst:\n",
    "    print(l)"
   ]
  },
  {
   "cell_type": "code",
   "execution_count": 96,
   "id": "4392e500-2b3a-4247-a9b9-e129b0c419b2",
   "metadata": {},
   "outputs": [
    {
     "name": "stdout",
     "output_type": "stream",
     "text": [
      "[ 0  1  2  3  4  5  6  7  8  9 10 11 12 13 14 15 16 17 18 19]\n"
     ]
    }
   ],
   "source": [
    "'''\n",
    "## arange is similar to range \n",
    "\n",
    "# Syntax\n",
    "\n",
    "numpy.arange(start, stop, step)\n",
    "\n",
    "## meaning\n",
    "\n",
    "arange = array rnage\n",
    "\n",
    "## Note: end value or stop value is not part of the array range\n",
    "\n",
    "'''\n",
    "\n",
    "whole_numbers = np.arange(0, 20, 1)\n",
    "\n",
    "print(whole_numbers)"
   ]
  },
  {
   "cell_type": "code",
   "execution_count": 97,
   "id": "f1b84b02-9fa7-4dfd-b719-a7c8e9a7874a",
   "metadata": {},
   "outputs": [
    {
     "name": "stdout",
     "output_type": "stream",
     "text": [
      "[ 1  2  3  4  5  6  7  8  9 10 11 12 13 14 15 16 17 18 19]\n"
     ]
    }
   ],
   "source": [
    "natural_numbers = np.arange(1, 20, 1)\n",
    "\n",
    "print(natural_numbers) # [ 1  2  3  4  5  6  7  8  9 10 11 12 13 14 15 16 17 18 19]"
   ]
  },
  {
   "cell_type": "code",
   "execution_count": 98,
   "id": "dccb7f94-3b6b-4d4c-abaf-0c04f0b41f1d",
   "metadata": {},
   "outputs": [
    {
     "name": "stdout",
     "output_type": "stream",
     "text": [
      "[ 1  3  5  7  9 11 13 15 17 19]\n"
     ]
    }
   ],
   "source": [
    "odd_numbers = np.arange(1, 20, 2)\n",
    "\n",
    "print(odd_numbers) # [ 1  3  5  7  9 11 13 15 17 19]"
   ]
  },
  {
   "cell_type": "code",
   "execution_count": 99,
   "id": "f8e4281b-dda9-4d85-b041-1f1be76609e8",
   "metadata": {},
   "outputs": [
    {
     "name": "stdout",
     "output_type": "stream",
     "text": [
      "[ 2  4  6  8 10 12 14 16 18]\n"
     ]
    }
   ],
   "source": [
    "even_numbers = np.arange(2, 20, 2)\n",
    "\n",
    "print(even_numbers) # [ 2  4  6  8 10 12 14 16 18]"
   ]
  },
  {
   "cell_type": "markdown",
   "id": "099e420f-5a93-4e35-8a3b-8cbd4ef183c3",
   "metadata": {},
   "source": [
    "### Creating sequence of numbers using linspace"
   ]
  },
  {
   "cell_type": "code",
   "execution_count": 123,
   "id": "fde3aaab-21b3-43f4-a224-4922e1992673",
   "metadata": {},
   "outputs": [
    {
     "name": "stdout",
     "output_type": "stream",
     "text": [
      "[1.         1.44444444 1.88888889 2.33333333 2.77777778 3.22222222\n",
      " 3.66666667 4.11111111 4.55555556 5.        ]\n",
      "[ 1.  2.  3.  4.  5.  6.  7.  8.  9. 10.]\n",
      "[1.         1.88888889 2.77777778 3.66666667 4.55555556 5.44444444\n",
      " 6.33333333 7.22222222 8.11111111 9.        ]\n"
     ]
    },
    {
     "data": {
      "text/plain": [
       "'\\n1.         1.88888889 2.77777778 3.66666667 4.55555556 5.44444444\\n 6.33333333 7.22222222 8.11111111 9.        ]\\n'"
      ]
     },
     "execution_count": 123,
     "metadata": {},
     "output_type": "execute_result"
    }
   ],
   "source": [
    "'''\n",
    "# linspace = line space\n",
    "\n",
    "# Syntax\n",
    "\n",
    "numpy.linspace(start, stop, number of value (num), end point (endponit))\n",
    "\n",
    "### start: is start value in range\n",
    "### end: is end value in range ( is in the range )\n",
    "### num: number of value that is made by   linespace()   function\n",
    "### endpoint: if it is True then we don't have point after dot (.) if start and end value is match the (num), if it is False then we have one number of point after dot (.)\n",
    "\n",
    "\n",
    "## Note:  linspace()   function is return the value like array numpy\n",
    "## Note: first value and end value is not have point after dot (.)\n",
    "## Note: if the value is match the number then we don't have the point after dot (.)\n",
    "\n",
    "'''\n",
    "\n",
    "numpy_line_space = np.linspace(1.0, 5.0, num=10)\n",
    "\n",
    "print(numpy_line_space)\n",
    "'''\n",
    "[1.         1.44444444 1.88888889 2.33333333 2.77777778 3.22222222\n",
    " 3.66666667 4.11111111 4.55555556 5.        ]\n",
    "'''\n",
    "\n",
    "\n",
    "numpy_line_space = np.linspace(1.0, 10.0, num=10)\n",
    "\n",
    "print(numpy_line_space) # [ 1.  2.  3.  4.  5.  6.  7.  8.  9. 10.]\n",
    "\n",
    "\n",
    "\n",
    "numpy_line_space = np.linspace(1.0, 9.0, num=10)\n",
    "\n",
    "print(numpy_line_space)\n",
    "'''\n",
    "1.         1.88888889 2.77777778 3.66666667 4.55555556 5.44444444\n",
    " 6.33333333 7.22222222 8.11111111 9.        ]\n",
    "'''"
   ]
  },
  {
   "cell_type": "code",
   "execution_count": 128,
   "id": "fec763f1-28f2-4998-94db-49f375678b7b",
   "metadata": {},
   "outputs": [
    {
     "name": "stdout",
     "output_type": "stream",
     "text": [
      "[1.  1.8 2.6 3.4 4.2]\n",
      "[1. 2. 3. 4. 5.]\n",
      "[1.  1.4 1.8 2.2 2.6 3.  3.4 3.8 4.2 4.6]\n",
      "[1.         1.44444444 1.88888889 2.33333333 2.77777778 3.22222222\n",
      " 3.66666667 4.11111111 4.55555556 5.        ]\n"
     ]
    },
    {
     "data": {
      "text/plain": [
       "'\\n[1.         1.44444444 1.88888889 2.33333333 2.77777778 3.22222222\\n 3.66666667 4.11111111 4.55555556 5.        ]\\n'"
      ]
     },
     "execution_count": 128,
     "metadata": {},
     "output_type": "execute_result"
    }
   ],
   "source": [
    "# not to include the last value in the interval\n",
    "\n",
    "numpy_line_space = np.linspace(1.0, 5.0, num=5, endpoint=False)\n",
    "\n",
    "print(numpy_line_space) # [1.  1.8 2.6 3.4 4.2]\n",
    "\n",
    "\n",
    "\n",
    "numpy_line_space = np.linspace(1.0, 5.0, num=5, endpoint=True)\n",
    "\n",
    "print(numpy_line_space) # [1. 2. 3. 4. 5.]\n",
    "\n",
    "\n",
    "\n",
    "numpy_line_space = np.linspace(1.0, 5.0, num=10, endpoint=False)\n",
    "\n",
    "print(numpy_line_space) # [1.  1.4 1.8 2.2 2.6 3.  3.4 3.8 4.2 4.6]\n",
    "\n",
    "\n",
    "\n",
    "numpy_line_space = np.linspace(1.0, 5.0, num=10, endpoint=True)\n",
    "\n",
    "print(numpy_line_space) \n",
    "'''\n",
    "[1.         1.44444444 1.88888889 2.33333333 2.77777778 3.22222222\n",
    " 3.66666667 4.11111111 4.55555556 5.        ]\n",
    "'''"
   ]
  },
  {
   "cell_type": "code",
   "execution_count": 127,
   "id": "46699256-8fc3-435c-955a-7b71089cec3a",
   "metadata": {},
   "outputs": [
    {
     "data": {
      "text/plain": [
       "array([  100.        ,   464.15888336,  2154.43469003, 10000.        ])"
      ]
     },
     "execution_count": 127,
     "metadata": {},
     "output_type": "execute_result"
    }
   ],
   "source": [
    "'''\n",
    "## logspace()  function is like   linspace()   function but   logspace()   function return value like list and   linspace()   function is return number like array numpy\n",
    "\n",
    "# Syntax:\n",
    "\n",
    "numpy.logspace(start, stop, num, endpoint)\n",
    "\n",
    "'''\n",
    "\n",
    "log_space = np.logspace(2, 4.0, num=4)\n",
    "\n",
    "print(log_space)"
   ]
  },
  {
   "cell_type": "code",
   "execution_count": 133,
   "id": "fc36e8bd-27c2-45c3-92b3-4aab52e8e32f",
   "metadata": {},
   "outputs": [
    {
     "name": "stdout",
     "output_type": "stream",
     "text": [
      "[1.+0.j 2.+0.j 3.+0.j]\n"
     ]
    }
   ],
   "source": [
    "'''\n",
    "# make data type numpy array as complex\n",
    "\n",
    "numpy.array(array..., dtype = numpy.complex128) # 128 means 128 bit\n",
    "\n",
    "## numpy.complex128 # complex 128 bit\n",
    "## numpy.complex64  # complex 64 bit\n",
    "## numpy.complex32  # complex 32 bit\n",
    "\n",
    "'''\n",
    "\n",
    "x = np.array([1,2,3], dtype=np.complex64)\n",
    "\n",
    "print(x) # [1.+0.j 2.+0.j 3.+0.j]"
   ]
  },
  {
   "cell_type": "code",
   "execution_count": 131,
   "id": "600b2dda-5ea7-483f-9fe5-fda8d6d163a3",
   "metadata": {},
   "outputs": [
    {
     "data": {
      "text/plain": [
       "16"
      ]
     },
     "execution_count": 131,
     "metadata": {},
     "output_type": "execute_result"
    }
   ],
   "source": [
    "# to check the size of an array\n",
    "\n",
    "x.itemsize"
   ]
  },
  {
   "cell_type": "code",
   "execution_count": 134,
   "id": "64001f36-38bc-4710-9813-8b596845288e",
   "metadata": {},
   "outputs": [
    {
     "name": "stdout",
     "output_type": "stream",
     "text": [
      "[[1 2 3]\n",
      " [4 5 6]]\n"
     ]
    }
   ],
   "source": [
    "np_list = np.array([(1,2,3), (4,5,6)])\n",
    "\n",
    "print(np_list)"
   ]
  },
  {
   "cell_type": "code",
   "execution_count": 136,
   "id": "475bc084-d6b9-40a1-b2f6-445c3090c6db",
   "metadata": {},
   "outputs": [
    {
     "name": "stdout",
     "output_type": "stream",
     "text": [
      "First row:  [1 2 3]\n",
      "Second row:  [4 5 6]\n"
     ]
    }
   ],
   "source": [
    "'''\n",
    "# calling row and column in array numpy\n",
    "\n",
    "array_numpy[row]\n",
    "\n",
    "array_numpy[:, column]\n",
    "\n",
    "'''\n",
    "\n",
    "print('First row: ', np_list[0])  # First row:  [1 2 3]\n",
    "print('Second row: ', np_list[1]) # Second row:  [4 5 6]"
   ]
  },
  {
   "cell_type": "code",
   "execution_count": 135,
   "id": "dfa9626c-cf2f-4a2f-a477-91b254cee443",
   "metadata": {},
   "outputs": [
    {
     "name": "stdout",
     "output_type": "stream",
     "text": [
      "First column:  [1 4]\n",
      "Second column:  [2 5]\n",
      "Third column:  [3 6]\n"
     ]
    }
   ],
   "source": [
    "print('First column: ', np_list[:, 0])  # First column:  [1 4]\n",
    "print('Second column: ', np_list[:, 1]) # Second column:  [2 5]\n",
    "print('Third column: ', np_list[:, 2])  # Third column:  [3 6]"
   ]
  },
  {
   "cell_type": "code",
   "execution_count": null,
   "id": "c2754aee-4c0c-463f-8608-2663e3ac21e0",
   "metadata": {},
   "outputs": [],
   "source": [
    "### NumPy Statistical Functions with Example\n",
    "\n",
    "```python\n",
    "\n",
    "* Numpy Functions\n",
    "    \n",
    "    Min numpy.min() # numpy.min(a, axis=None)\n",
    "    Max numpy.max() # numpy.maximum(arr1, arr2, /, out=None, *, where=True, casting=’same_kind’, order=’K’, dtype=None, ufunc ‘maximum’)\n",
    "    Mean numpy.mean() # numpy.mean(a, axis=None, dtype=None, out=None, keepdims=<no value>, *, where=<no value>)\n",
    "    Median numpy.median() # numpy.median(a, axis=None, out=None, overwrite_input=False, keepdims=False)\n",
    "    Varience numpy.var() # numpy.var(a, axis=None, dtype=None, out=None, ddof=0, keepdims=<no value>, *, where=<no value>)\n",
    "    Percentile numpy.percentile()   # numpy.percentile(a, q, axis=None, out=None, overwrite_input=False, method='linear', keepdims=False, *, interpolation=None)\n",
    "    Standard deviation numpy.std() # numpy.std(a, axis=None, dtype=None, out=None, ddof=0, keepdims=<no value>, *, where=<no value>)\n",
    "\n",
    "```"
   ]
  },
  {
   "cell_type": "code",
   "execution_count": 148,
   "id": "c62c0357-fb5c-40c3-8375-b2dbb545381d",
   "metadata": {},
   "outputs": [
    {
     "name": "stdout",
     "output_type": "stream",
     "text": [
      "[5.9028587  5.00618562 5.76893372 5.13900043 4.15500661 4.84708301\n",
      " 5.10361626 4.59587039 4.90363397 5.23308407 5.53536211 5.08217244\n",
      " 5.18038928 4.81675742 5.3991254  4.99571909 4.4757015  5.43015912\n",
      " 4.77860386 4.71629385 5.62477997 3.63521046 4.77561445 3.79299696\n",
      " 4.87038637 4.19922249 4.16044343 5.16907296 5.27159566 4.2146165\n",
      " 5.17123476 4.97535149 4.92108413 5.17605673 4.68221218 4.20471294\n",
      " 4.99337756 4.85866362 5.70416769 5.20333053 5.51709864 4.43763719\n",
      " 4.21169256 5.14930008 5.11087124 4.57236829 5.06055504 5.03234318\n",
      " 4.70712267 4.6425487  5.07895007 4.54470252 6.47218644 4.40648369\n",
      " 4.73047199 4.47843568 5.70802057 5.30230286 5.77050826 5.28187094\n",
      " 4.61146267 4.39713119 5.06330293 5.42320281 5.45662823 5.24697231\n",
      " 4.68297056 5.03729019 4.69544158 4.69080198 5.03684764 4.81250111\n",
      " 4.87021947 4.70384817 5.13804999 4.43976842 5.12787214 5.01141925\n",
      " 5.6027152  4.99582666 4.61158765 5.35262857 4.66789889 5.39625155\n",
      " 5.84492557 4.90531959 4.54371    4.96559677 5.26784244 4.89669934\n",
      " 4.39316929 4.82873612 3.7633851  5.73135479 4.97773648 4.08149333\n",
      " 4.98296839 5.25001435 4.75648009 5.77350084]\n",
      "min:  3.6352104642143583\n",
      "max:  6.472186442920135\n",
      "mean:  4.949207300301136\n",
      "sd:  0.4912232660389591\n"
     ]
    },
    {
     "data": {
      "text/plain": [
       "3.0"
      ]
     },
     "execution_count": 148,
     "metadata": {},
     "output_type": "execute_result"
    }
   ],
   "source": [
    "np_normal_dis = np.random.normal(5, 0.5, 100)\n",
    "\n",
    "print(np_normal_dis)\n",
    "\n",
    "\n",
    "## min, max, mean, median, sd\n",
    "print('min: ', np_normal_dis.min())\n",
    "print('max: ', np_normal_dis.max())\n",
    "print('mean: ',np_normal_dis.mean())\n",
    "# print('median: ', np_normal_dis.median())  # because median is work in one dimentional array # 'numpy.ndarray' object has no attribute 'median'\n",
    "print('sd: ', np_normal_dis.std()) # numpy.std(a, axis=None, dtype=None, out=None, ddof=0, keepdims=<no value>, *, where=<no value>)[source]\n",
    "\n",
    "\n",
    "\n",
    "# one dimentional array\n",
    "arr = np.array([1, 2, 3, 4, 5])\n",
    "\n",
    "np.median(arr)"
   ]
  },
  {
   "cell_type": "code",
   "execution_count": 153,
   "id": "09acce21-a1df-40c4-b44d-f87194f7e6f0",
   "metadata": {},
   "outputs": [
    {
     "name": "stdout",
     "output_type": "stream",
     "text": [
      "[[1 2 3]\n",
      " [4 5 6]]\n",
      "=== Row ==\n",
      "Row with minimum:  [1 2 3]\n",
      "Row with maximum:  [4 5 6]\n",
      "=== Column ==\n",
      "Column with minimum:  [1 4]\n",
      "Column with maximum:  [3 6]\n"
     ]
    }
   ],
   "source": [
    "two_dimension_array = np.array([[1, 2, 3], [4, 5, 6]])\n",
    "\n",
    "print(two_dimension_array)\n",
    "'''\n",
    "    0 1 2\n",
    "0 [[1 2 3]\n",
    "1  [4 5 6]]\n",
    "'''\n",
    "\n",
    "\n",
    "print('=== Row ==')\n",
    "# axis = 0 # this is for x axis in potan\n",
    "# axis = 1 # this is for y axis in potan\n",
    "print('Row with minimum: ', np.amin(two_dimension_array, axis=0)) # Column with minimum:  [1 2 3] # find minimum row in the array numpy\n",
    "print('Row with maximum: ', np.amax(two_dimension_array, axis=0)) # Column with maximum:  [4 5 6] # find maximum row in the array numpy\n",
    "print('=== Column ==')\n",
    "print('Column with minimum: ', np.amin(two_dimension_array, axis=1)) # Row with minimum:  [1 4] # find maximum column in the array numpy\n",
    "print('Column with maximum: ', np.amax(two_dimension_array, axis=1)) # Row with maximum:  [3 6] # find minimum column in the array numpy"
   ]
  },
  {
   "cell_type": "markdown",
   "id": "df03ed79-1636-441c-8bc1-52ced2b5ca8c",
   "metadata": {},
   "source": [
    "### How to create repeating sequences ?"
   ]
  },
  {
   "cell_type": "code",
   "execution_count": null,
   "id": "110ae0f6-598f-4ba0-b629-f3f6cd0fe905",
   "metadata": {},
   "outputs": [],
   "source": [
    "a = [1,2,3]\n",
    "\n",
    "# Repeat whole of 'a' two times\n",
    "print('Tile:   ', np.tile(a, 2))\n",
    "\n",
    "# Repeat each element of 'a' two times\n",
    "print('Repeat: ', np.repeat(a, 2))"
   ]
  },
  {
   "cell_type": "markdown",
   "id": "9db73f42-d20e-4b0e-acaa-b9d08946629a",
   "metadata": {},
   "source": [
    "### How to generate random numbers ?"
   ]
  },
  {
   "cell_type": "code",
   "execution_count": 385,
   "id": "e974a77b-54b9-430e-bf76-d24a9faf1737",
   "metadata": {},
   "outputs": [
    {
     "name": "stdout",
     "output_type": "stream",
     "text": [
      "0.8391230373551344\n"
     ]
    }
   ],
   "source": [
    "# One random number between [0,1)\n",
    "one_random_num = np.random.random()\n",
    "one_random_in = np.random\n",
    "print(one_random_num)"
   ]
  },
  {
   "cell_type": "code",
   "execution_count": 386,
   "id": "497f88c9-9f27-45fc-9e15-ebde3df6ecdd",
   "metadata": {},
   "outputs": [
    {
     "name": "stdout",
     "output_type": "stream",
     "text": [
      "[[0.75661469 0.40336486 0.03644918]\n",
      " [0.29488737 0.88244495 0.51891397]]\n"
     ]
    }
   ],
   "source": [
    "# Random numbers between [0,1) of shape 2,3\n",
    "r = np.random.random(size=[2,3])\n",
    "print(r)"
   ]
  },
  {
   "cell_type": "code",
   "execution_count": 387,
   "id": "01edcb70-77de-4b37-a281-3b34f605b1de",
   "metadata": {},
   "outputs": [
    {
     "name": "stdout",
     "output_type": "stream",
     "text": [
      "['e' 'e' 'o' 'i' 'i' 'e' 'a' 'a' 'o' 'a']\n"
     ]
    }
   ],
   "source": [
    "print(np.random.choice(['a', 'e', 'i', 'o', 'u'], size=10))"
   ]
  },
  {
   "cell_type": "code",
   "execution_count": 388,
   "id": "b08183be-bac7-41d9-bcb5-deccae272199",
   "metadata": {},
   "outputs": [
    {
     "data": {
      "text/plain": [
       "array([[0.24741418, 0.93752641],\n",
       "       [0.67184602, 0.34258795]])"
      ]
     },
     "execution_count": 388,
     "metadata": {},
     "output_type": "execute_result"
    }
   ],
   "source": [
    "## Random numbers between [0, 1] of shape 2, 2\n",
    "rand = np.random.rand(2,2)\n",
    "rand"
   ]
  },
  {
   "cell_type": "code",
   "execution_count": 158,
   "id": "433141d4-9bb2-4295-ba71-5696adf1210a",
   "metadata": {},
   "outputs": [
    {
     "name": "stdout",
     "output_type": "stream",
     "text": [
      "[[2 6 5]\n",
      " [0 9 3]\n",
      " [3 8 9]\n",
      " [0 8 9]\n",
      " [8 8 2]]\n"
     ]
    }
   ],
   "source": [
    "# Random integers between [0, 10) of shape (5, 3) or in another word size [5, 3] means 5 row and 3 column\n",
    "rand_int = np.random.randint(0, 10, size=[5,3])\n",
    "\n",
    "print(rand_int)\n",
    "'''\n",
    "[[2 6 5]\n",
    " [0 9 3]\n",
    " [3 8 9]\n",
    " [0 8 9]\n",
    " [8 8 2]]\n",
    "'''"
   ]
  },
  {
   "cell_type": "markdown",
   "id": "3fe9f168-6634-4b28-8ca6-f2f1f9ec3cde",
   "metadata": {},
   "source": [
    "# stats package in scipy module \n",
    "\n",
    "```python\n",
    "\n",
    "## Example\n",
    "\n",
    "a = np.array([[6, 8, 3, 0],\n",
    "              [3, 2, 1, 7],\n",
    "              [8, 1, 8, 4],\n",
    "              [5, 3, 0, 5],\n",
    "              [4, 7, 5, 9]])\n",
    "\n",
    "from scipy import stats\n",
    "\n",
    "stats.mode(a, keepdims=True) # ModeResult(mode=array([[3, 1, 0, 0]]), count=array([[1, 1, 1, 1]]))\n",
    "\n",
    "\n",
    "\n",
    "## To get mode of whole array, specify axis=None:\n",
    "\n",
    "stats.mode(a, axis=None, keepdims=True) # ModeResult(mode=array([3]), count=array([3]))\n",
    "\n",
    "stats.mode(a, axis=None, keepdims=False) # ModeResult(mode=3, count=3)\n",
    "\n",
    "```"
   ]
  },
  {
   "cell_type": "code",
   "execution_count": 157,
   "id": "354434aa-43fa-4426-9821-a74e425e2c4e",
   "metadata": {},
   "outputs": [
    {
     "name": "stdout",
     "output_type": "stream",
     "text": [
      "[5.30133117 4.90733902 4.5714349  5.12401075 4.00912938 4.90819912\n",
      " 5.53839305 6.08995491 5.7706291  6.41308945 4.42051661 5.96975388\n",
      " 5.95558406 5.32516026 5.03382018 4.71618004 4.80425313 5.09974844\n",
      " 4.52681878 4.16808916 5.48844092 4.38362263 4.33929796 4.85970304\n",
      " 4.95485696 5.09724492 5.8297875  5.3368402  5.58687519 5.76030582\n",
      " 5.19766163 3.87371527 5.72493534 4.9219455  4.92119239 5.67114278\n",
      " 4.26469218 5.078631   5.64602986 5.62015857 4.42413    5.67980551\n",
      " 4.41736271 4.61984068 5.24919535 4.0419908  4.13663676 4.85831169\n",
      " 5.95001648 5.43593897 4.18804188 4.75279925 4.31819919 5.32088197\n",
      " 5.07093264 5.3047841  5.10625546 4.94194665 5.50283872 4.644785\n",
      " 4.87676515 5.07285803 6.23432266 5.36828149 4.28703577 5.51029205\n",
      " 4.16002095 5.39144107 5.52326474 5.665153   4.9173331  5.30902426\n",
      " 5.51844723 4.08469054 4.84306317 4.89173701 5.15192916 4.6543359\n",
      " 5.76070333 5.29106914 4.70825571 5.27215337 4.95910882 4.97857821\n",
      " 5.4702176  4.31297364 4.72356413 5.17413936 4.94412343 4.71118741\n",
      " 5.1580229  4.4148945  4.80141413 4.71941881 4.4838716  4.4958615\n",
      " 5.46323835 5.226653   5.27954849 4.69785496 4.87423582 5.08554477\n",
      " 4.64591942 4.2350413  5.73083893 5.27499798 4.97793202 4.38995342\n",
      " 5.25243922 4.70897003 4.23911495 5.32210292 5.297408   5.53464308\n",
      " 4.84109249 5.00306295 5.26774748 5.04602059 5.04969184 5.74879241\n",
      " 6.04173186 4.44643303 4.01168624 6.09522248 5.13635841 4.99560904\n",
      " 4.0764059  4.81463376 4.60285939 4.43428371 5.31193244 4.86099367\n",
      " 4.96827545 4.98486688 4.59793774 4.04959588 5.3160019  5.36903764\n",
      " 4.21465696 4.64347315 4.34727718 4.90729218 6.08338717 6.05920673\n",
      " 4.80449441 3.71596366 5.55089802 4.48977048 5.55310036 5.0206127\n",
      " 4.8184823  4.23858174 5.20472071 4.85470351 5.02698925 5.58146792\n",
      " 4.98325911 6.17918357 4.28950035 4.51028763 5.057462   4.84824053\n",
      " 5.25854115 4.80356104 4.82058979 5.44236876 5.28672155 4.47934515\n",
      " 4.41788739 4.94660564 4.51736068 4.21438023 5.19753437 4.63152732\n",
      " 5.19971353 4.49611009 4.73708312 5.44600752 5.26465288 4.88830709\n",
      " 4.40226442 5.59237155 4.21994102 5.52600509 4.69495997 5.22757561\n",
      " 4.24038024 5.34335138 4.87288777 4.71449901 3.72124121 5.15174813\n",
      " 4.5750943  4.65519762 5.05057321 6.33714015 4.87707864 4.86275042\n",
      " 4.98270692 5.75129082 4.51678154 5.09746483 4.98533584 4.84646636\n",
      " 5.18843051 4.88199186 3.99116209 4.26677472 4.70045335 4.78599596\n",
      " 5.75592982 5.81378592 5.47952637 4.77364032 4.59714492 4.82094991\n",
      " 4.44236379 3.73656836 5.5578177  5.43534996 4.70842075 4.92058258\n",
      " 5.29945596 5.16151493 5.61976889 5.67158083 5.01153964 4.37035072\n",
      " 4.31543404 5.54461224 6.23504373 4.71921683 5.4877     4.42969868\n",
      " 4.58073562 5.12620052 5.77171086 4.01134049 4.80996259 5.25118128\n",
      " 5.45418876 4.58321172 4.87830058 5.24137608 5.13213597 4.5906535\n",
      " 5.37842507 4.65508474 5.90036329 4.75603213 5.39993985 4.37297916\n",
      " 5.83415988 5.69307242 5.44381701 5.15623834 5.59117977 4.47792254\n",
      " 4.7058221  4.47218869 5.29973438 4.16697717 4.785933   5.40147006\n",
      " 5.60082879 5.91209525 5.13937714 6.10612653 6.19058763 4.81773964\n",
      " 5.18538074 5.72023642 3.96225518 5.11884223 4.68647792 4.44946703\n",
      " 4.51534293 5.12878638 5.2005114  5.15820489 4.63169912 5.19803856\n",
      " 5.46761927 5.00979124 4.67526901 4.70345053 5.59195205 4.35041979\n",
      " 4.36335533 5.18498819 5.08862299 4.57102108 4.99958402 4.3418297\n",
      " 5.01135169 5.55886348 4.95597654 4.65699491 4.40073568 4.12439412\n",
      " 4.71166359 4.51845827 5.17906164 4.60613925 5.14947112 4.39907099\n",
      " 4.94354692 5.84739068 5.34597253 5.27356649 5.52811512 4.96640117\n",
      " 4.54117138 5.29728463 5.42122155 5.32848567 5.60986658 5.11251799\n",
      " 5.55762097 4.80476195 5.81167462 4.72180831 4.81907016 5.82259459\n",
      " 5.75099084 5.08218488 6.03500249 4.58584066 4.3991608  4.89285414\n",
      " 5.1707358  4.9737017  5.73420845 4.57100066 3.86175765 5.73206009\n",
      " 4.92733422 5.2291101  4.06014982 4.79334769 3.88434464 5.90233269\n",
      " 5.79654963 6.39055403 4.77050573 5.34363926 4.48920266 5.2672735\n",
      " 5.26396516 4.60057102 4.7915267  4.98502923 4.88173745 6.64771846\n",
      " 4.37130018 3.77271236 4.28477479 4.66839497 5.42300562 4.82497554\n",
      " 4.65152853 4.79195796 4.72467344 5.33440825 4.894238   5.62316215\n",
      " 4.40310573 4.68073256 5.38675774 3.82162721 5.52057484 5.29079779\n",
      " 4.99666745 5.25031802 3.92483543 3.77831489 5.18248796 4.72240435\n",
      " 5.28600442 5.65155111 5.10247589 5.68689678 4.54711877 4.84443817\n",
      " 4.81292778 4.61910003 4.8821115  4.07389647 4.44032136 4.74939079\n",
      " 4.5708365  4.3855648  5.43729621 4.93386245 5.35593516 5.36447003\n",
      " 5.32683091 4.67574647 5.1988439  5.11071232 4.89462677 4.27902589\n",
      " 4.9478038  4.90395023 5.8584488  5.46727768 4.94880131 5.98517223\n",
      " 4.56749739 4.64627855 5.47237659 4.38595273 4.94755139 5.8599959\n",
      " 4.76232921 5.40641409 5.17839132 4.38548775 5.01363623 5.10736279\n",
      " 4.36746339 5.23220045 4.99971359 4.73735579 4.1569149  4.7923751\n",
      " 5.10735645 5.45270618 4.60473084 5.87917431 5.60756137 5.58520101\n",
      " 4.4547416  4.20537965 5.96906867 5.40533544 4.64655236 5.99366279\n",
      " 4.41784049 4.44144611 4.77909971 5.81011748 4.44217885 4.65078287\n",
      " 4.91956091 5.33083151 5.05700724 5.22555744 4.32490153 5.5332781\n",
      " 4.45175974 4.97219167 5.13122467 5.40033327 5.33515276 5.63233617\n",
      " 4.92885748 5.74295714 5.24328648 4.60011948 4.4879365  4.55378721\n",
      " 5.24958777 4.82316468 3.89536383 4.96918162 5.36734784 5.11170058\n",
      " 4.26393842 5.25302633 5.15341205 4.42356204 5.27675747 5.06087637\n",
      " 5.24139453 4.38375238 5.45804534 4.22413789 5.25172806 5.01681524\n",
      " 5.80754493 4.6350387  5.28724516 4.31463112 5.33732349 4.96654859\n",
      " 4.62565299 4.9767573  5.28015559 5.35098172 5.23998167 5.81433797\n",
      " 5.08412409 4.81246642 4.77958689 5.22225635 4.98641231 4.74872057\n",
      " 4.60206529 4.644786   4.49197976 5.14524565 4.90701228 5.12886479\n",
      " 4.8483471  4.47185815 5.18829367 4.98195301 4.41185553 5.64347249\n",
      " 4.38730922 4.92776552 5.31472261 5.44711591 5.63538456 4.50502197\n",
      " 5.36545171 5.77051849 5.38728877 5.1591255  4.97946827 5.96642634\n",
      " 5.3117826  4.70936501 5.25769159 5.24614772 5.01089842 4.31366881\n",
      " 4.72842183 4.99596554 5.02604581 5.05729629 5.26115246 4.99791835\n",
      " 4.97699186 4.70881259 5.21004874 5.3878551  5.13378503 4.77139\n",
      " 4.9825874  5.83760392 5.32389959 4.62923041 4.96971423 5.0724733\n",
      " 4.75579819 5.50748276 4.79111176 5.18807727 4.87364755 5.3787696\n",
      " 5.44955378 4.42288978 5.03306714 5.0367737  5.97583711 4.5698483\n",
      " 5.09018587 4.36902001 4.29083692 3.68114577 5.34205964 3.68929169\n",
      " 4.84974029 4.70592473 5.23703236 4.52501623 4.82431606 5.11797369\n",
      " 4.84985561 5.21402983 4.50745726 4.40546576 5.18815638 4.7937632\n",
      " 4.65344103 4.95316203 4.98153519 4.70069578 5.72450809 4.79410707\n",
      " 5.58544989 4.71250779 5.40929525 6.06535227 5.35150398 5.1740639\n",
      " 5.20604921 5.17097339 4.84889391 5.42331214 5.19324047 4.41192103\n",
      " 5.53214105 5.49459274 4.16423764 5.51177894 5.07822784 4.39282062\n",
      " 4.35665612 3.74717853 5.64883684 5.77304267 4.70525745 4.92853151\n",
      " 4.82806133 5.34000268 4.65076807 4.54728712 5.40724054 5.21539574\n",
      " 4.99840864 4.97244323 5.32833911 4.18779425 5.30427509 6.36691597\n",
      " 4.19432997 5.25245693 5.28911503 5.09843272 5.12539212 5.43311167\n",
      " 4.69951449 5.81646447 5.81841434 5.66089335 4.61567409 5.9103366\n",
      " 4.91516896 5.40274839 4.98300942 5.19058193 5.13236944 5.67252629\n",
      " 6.25262653 5.03749726 5.40804607 5.08751001 4.07596871 5.35316257\n",
      " 5.88899902 5.39163038 4.31801719 5.76749093 4.6487679  3.66298141\n",
      " 4.19956601 6.89494214 4.57711061 5.1555654  5.47215919 5.15288073\n",
      " 4.26448939 4.97917932 4.62717125 5.17829511 4.77483069 4.74941895\n",
      " 6.38909109 5.32752926 4.73154414 4.75086023 4.61446916 4.75076439\n",
      " 4.82274183 5.3368149  4.6559826  5.13884377 4.77946105 4.99285526\n",
      " 4.56300027 3.58325654 5.16900195 5.17879798 5.17891511 6.36391409\n",
      " 4.48187837 5.49331231 4.93101979 4.36784167 4.97435719 4.89354035\n",
      " 4.91610223 4.53253872 4.81297271 4.90042275 5.9748268  5.42898007\n",
      " 4.82779463 4.37887362 5.12507508 5.08596053 4.28416931 4.93160686\n",
      " 4.33451229 4.90926813 5.11095372 4.82107647 5.15694523 4.52193498\n",
      " 4.72196969 4.55782277 4.8001718  5.16378884 4.89606896 4.92435931\n",
      " 4.91558588 5.63370038 4.06920513 5.55630972 5.06025353 4.4013177\n",
      " 4.3519243  5.40773106 5.56681713 5.3101875  5.90896754 4.43070108\n",
      " 5.36224883 6.09831466 4.92286003 4.54094592 4.3869373  5.05466783\n",
      " 4.59638843 5.09816994 4.29921902 5.02433907 4.8162939  4.8636594\n",
      " 4.56683085 4.95575338 5.18450352 5.42823153 4.90955092 4.65634576\n",
      " 4.92947423 4.99422546 4.36422172 4.34143169 5.00096595 4.52113005\n",
      " 4.92123483 5.8364018  5.28909221 4.1871675  5.89244484 4.3923168\n",
      " 5.01064427 5.99872225 4.60631317 5.23429008 4.56187265 4.53784766\n",
      " 5.44213675 4.67342195 4.78910739 4.90660216 5.05396819 4.61281745\n",
      " 4.71825085 5.49538377 5.35848108 4.93964402 5.14674476 4.20618295\n",
      " 5.13443425 5.06543145 4.47271289 5.11621434 6.04814157 4.31040165\n",
      " 5.66599064 4.36884644 4.42329814 4.27298098 5.22290073 4.54388892\n",
      " 4.26561366 5.50289238 4.75742569 4.60974787 5.62720513 4.48325401\n",
      " 3.78668517 4.75186401 5.74719387 4.89227831 4.00588659 5.20294898\n",
      " 5.20218803 4.97389369 4.50326719 4.34239456 4.48612168 4.85547063\n",
      " 5.66074939 5.5014617  5.37147377 5.31680147 5.09586593 5.45940636\n",
      " 5.4599581  4.98444462 4.77610868 6.36953827 5.1990654  5.3163987\n",
      " 5.56769606 5.60890134 4.4921917  4.48350043 5.0325668  4.61956307\n",
      " 5.12254727 5.41676749 5.51098156 4.29139782 5.0566741  4.66002508\n",
      " 4.60670879 5.25061031 5.09069498 5.12993111 4.73396736 5.16156929\n",
      " 4.70015557 4.61053275 5.26454134 5.58841037 5.83162115 5.43484433\n",
      " 4.95802304 4.47610039 4.80254578 5.27678205 5.62054041 4.22207583\n",
      " 5.13419874 5.00965392 5.52212352 5.90555871 4.82716676 5.16841174\n",
      " 4.26318425 3.72904866 4.53363884 5.29568421 5.48725041 4.86182548\n",
      " 5.17114639 4.80418629 5.68185721 4.26243161 4.80313337 4.94865586\n",
      " 5.56785036 5.62258292 4.39990639 6.41146645 4.84846411 5.30082438\n",
      " 4.71074984 4.77153142 4.77146995 5.59946997 4.7759806  5.50574602\n",
      " 4.40062226 4.77698317 5.3237103  4.41000583 4.84198608 4.38983822\n",
      " 5.25801151 4.72363668 3.93605171 4.42019053 4.63257397 4.98003028\n",
      " 5.014949   4.97304062 4.56763009 4.59725623 4.12204415 5.34459113\n",
      " 5.17317018 4.58130529 4.21608142 3.95587499 5.31290991 5.62545363\n",
      " 5.03238921 5.6425704  5.12245973 5.1610102  4.91327331 5.05731162\n",
      " 5.22075624 4.39236912 6.02544779 5.2779354  5.38854157 4.68786451\n",
      " 4.68625642 4.76389141 5.23300923 4.38684284 5.2633173  4.84508613\n",
      " 4.75208741 4.85515313 5.00970271 4.93833006 5.18915673 5.42256409\n",
      " 4.36338986 4.96850539 5.21846198 5.3735664  4.96716716 4.39279781\n",
      " 5.11409507 4.01028445 4.3730996  5.26202237 5.12977029 4.97485625\n",
      " 4.50344868 4.68251795 5.6070363  4.58343312 5.25869628 5.28371832\n",
      " 5.20790714 4.61388167 4.54926824 5.22560822 4.66925767 4.90461168\n",
      " 5.40641669 5.15873612 4.40849271 5.75634632 4.81158657 5.64586176\n",
      " 4.36020277 5.17391645 5.26276877 4.85772482 5.36063878 4.43872509\n",
      " 4.1401379  5.76973814 5.53645922 5.52792718 5.75554537 4.79078346\n",
      " 4.56448918 4.42225796 4.80255895 4.64910353 5.75403702 5.13744086\n",
      " 5.53676817 4.23851153 5.23901296 4.81293796 5.3893591  4.96070012\n",
      " 4.86046394 4.4924644  4.1426031  4.59329127 5.24918288 5.20833131\n",
      " 5.27334072 5.48694081 6.68233175 5.3545721  5.66631339 3.9141762\n",
      " 5.0244314  4.9993286  5.52348701 5.45171378 5.34175552 5.37838892\n",
      " 4.36338324 4.49258284 5.00842401 5.01369981 5.69351613 5.07379443\n",
      " 4.34968579 4.49056183 5.51649559 4.52867142]\n",
      "min:  3.583256540822272\n",
      "max:  6.894942137006382\n",
      "mean:  4.995044732602329\n",
      "median:  4.983134266355309\n",
      "mode:  ModeResult(mode=array([3.58325654]), count=array([1]))\n",
      "sd:  0.5173200137820422\n"
     ]
    },
    {
     "name": "stderr",
     "output_type": "stream",
     "text": [
      "/tmp/ipykernel_12662/699222722.py:12: FutureWarning: Unlike other reduction functions (e.g. `skew`, `kurtosis`), the default behavior of `mode` typically preserves the axis it acts along. In SciPy 1.11.0, this behavior will change: the default value of `keepdims` will become False, the `axis` over which the statistic is taken will be eliminated, and the value None will no longer be accepted. Set `keepdims` to True or False to avoid this warning.\n",
      "  print('mode: ', stats.mode(np_normal_dis))\n"
     ]
    }
   ],
   "source": [
    "from scipy import stats\n",
    "\n",
    "# numpy.random.normal()   funciton is for normal random number with point number\n",
    "np_normal_dis = np.random.normal(5, 0.5, 1000) # mean, standard deviation, number of samples\n",
    "\n",
    "print(np_normal_dis)\n",
    "\n",
    "## min, max, mean, median, sd\n",
    "print('min: ', np.min(np_normal_dis))        # min:  3.5694412694827373 # minimum number in array numpy\n",
    "print('max: ', np.max(np_normal_dis))        # max:  6.380160100083689  # maximum number in array numpy\n",
    "print('mean: ', np.mean(np_normal_dis))      # mean:  4.987798471961265\n",
    "print('median: ', np.median(np_normal_dis))  # median:  4.970525012243737\n",
    "print('mode: ', stats.mode(np_normal_dis))   #  ModeResult(mode=array([3.58325654]), count=array([1]))\n",
    "# print('mode: ', np.mode(np_normal_dis)) # module 'numpy' has no attribute 'mode'\n",
    "print('sd: ', np.std(np_normal_dis))         # sd:  0.49535950115437044\n",
    "min:  3.5694412694827373\n",
    "max:  6.380160100083689\n",
    "mean:  4.987798471961265\n",
    "median:  4.970525012243737\n",
    "sd:  0.49535950115437044"
   ]
  },
  {
   "cell_type": "code",
   "execution_count": 394,
   "id": "551629da-0fd8-4763-86b3-5af21ded8c79",
   "metadata": {},
   "outputs": [
    {
     "data": {
      "image/png": "[encoded data removed]",
      "text/plain": [
       "<Figure size 640x480 with 1 Axes>"
      ]
     },
     "metadata": {},
     "output_type": "display_data"
    }
   ],
   "source": [
    "plt.hist(np_normal_dis, color=\"grey\", bins=21)\n",
    "plt.show()"
   ]
  },
  {
   "cell_type": "markdown",
   "id": "c85d7527-f7b9-44b3-b70e-3e47c6961b41",
   "metadata": {},
   "source": [
    "# Dot Product\n",
    "\n",
    "```python\n",
    "\n",
    "## dot() function is use for diveded each column with each other and in the end it will plus each one with other one\n",
    "\n",
    "# Syntax\n",
    "\n",
    "x = np.array([value1, value2, value3])\n",
    "y = np.array([value4, value5, value6])\n",
    "\n",
    "# value1 * value4 + value2 * value5 + value3 * value6 = .. \n",
    "numpy.dot(x, y, out=None)\n",
    "\n",
    "```"
   ]
  },
  {
   "cell_type": "markdown",
   "id": "975b21da-5fbf-4fe1-9ed7-e440da0d0db0",
   "metadata": {},
   "source": [
    "### Linear Algebra\n",
    "\n",
    "1. Dot Product"
   ]
  },
  {
   "cell_type": "code",
   "execution_count": 160,
   "id": "8f38d1f5-709c-4286-a0f1-dd285d0b2009",
   "metadata": {},
   "outputs": [
    {
     "data": {
      "text/plain": [
       "23"
      ]
     },
     "execution_count": 160,
     "metadata": {},
     "output_type": "execute_result"
    }
   ],
   "source": [
    "## Linear algebra\n",
    "### Dot product: product of two arrays\n",
    "\n",
    "f = np.array([1,2,3])\n",
    "g = np.array([4,5,3])\n",
    "\n",
    "\n",
    "\n",
    "### 1*4 + 2*5 + 3*3 = 23\n",
    "np.dot(f, g)  # 23"
   ]
  },
  {
   "cell_type": "markdown",
   "id": "4a0eb519-fe5a-419e-ad77-ae1fc410fd75",
   "metadata": {},
   "source": [
    "### NumPy Matrix Multiplication with np.matmul()"
   ]
  },
  {
   "cell_type": "code",
   "execution_count": 398,
   "id": "05f57f84-8b43-473b-94af-2f20690eb3fe",
   "metadata": {},
   "outputs": [
    {
     "data": {
      "text/plain": [
       "array([[19, 22],\n",
       "       [43, 50]])"
      ]
     },
     "execution_count": 398,
     "metadata": {},
     "output_type": "execute_result"
    }
   ],
   "source": [
    "### Matmul: matruc product of two arrays\n",
    "h = [[1,2],[3,4]]\n",
    "i = [[5,6],[7,8]]\n",
    "### 1*5+2*7 = 19\n",
    "np.matmul(h, i)"
   ]
  },
  {
   "cell_type": "code",
   "execution_count": 399,
   "id": "bc830d39-89e7-4047-ab03-7ea4c6c284bc",
   "metadata": {},
   "outputs": [
    {
     "data": {
      "text/plain": [
       "-2.000000000000005"
      ]
     },
     "execution_count": 399,
     "metadata": {},
     "output_type": "execute_result"
    }
   ],
   "source": [
    "## Determinant 2*2 matrix\n",
    "### 5*8-7*6np.linalg.det(i)\n",
    "np.linalg.det(i)"
   ]
  },
  {
   "cell_type": "code",
   "execution_count": 171,
   "id": "d119e272-6e3c-4f52-8f5f-096753a927a4",
   "metadata": {},
   "outputs": [
    {
     "name": "stdout",
     "output_type": "stream",
     "text": [
      "[[0. 2. 0. 2. 0. 2. 0. 2.]\n",
      " [1. 0. 1. 0. 1. 0. 1. 0.]\n",
      " [0. 2. 0. 2. 0. 2. 0. 2.]\n",
      " [1. 0. 1. 0. 1. 0. 1. 0.]\n",
      " [0. 2. 0. 2. 0. 2. 0. 2.]\n",
      " [1. 0. 1. 0. 1. 0. 1. 0.]\n",
      " [0. 2. 0. 2. 0. 2. 0. 2.]\n",
      " [1. 0. 1. 0. 1. 0. 1. 0.]]\n"
     ]
    },
    {
     "data": {
      "text/plain": [
       "'\\n[[0. 2. 0. 2. 0. 2. 0. 2.]\\n [1. 0. 1. 0. 1. 0. 1. 0.]\\n [0. 2. 0. 2. 0. 2. 0. 2.]\\n [1. 0. 1. 0. 1. 0. 1. 0.]\\n [0. 2. 0. 2. 0. 2. 0. 2.]\\n [1. 0. 1. 0. 1. 0. 1. 0.]\\n [0. 2. 0. 2. 0. 2. 0. 2.]\\n [1. 0. 1. 0. 1. 0. 1. 0.]]\\n'"
      ]
     },
     "execution_count": 171,
     "metadata": {},
     "output_type": "execute_result"
    }
   ],
   "source": [
    "# create   numpy.zeroes()   with shape (8,8) or in another word ((8, 8)) remember you should have double bracket for    numpy.zeroes()   function if you specify the shape\n",
    "Z = np.zeros((8, 8))\n",
    "\n",
    "# print(Z)\n",
    "\n",
    "''''\n",
    "## row1 = start row\n",
    "## row2 = end row\n",
    "\n",
    "## column1 = start column\n",
    "## column1 = end column\n",
    "\n",
    "numpy_array(row1::row2, column1::column2)\n",
    "\n",
    "# row1 is dead\n",
    "# row2 is life\n",
    "\n",
    "# column1 is dead\n",
    "# column2 is life\n",
    "\n",
    "           column1 column2 \n",
    "row1 row2 [[0. 0. 0. 0. 0. 0. 0. 0.]\n",
    "          [0. 0. 0. 0. 0. 0. 0. 0.]\n",
    "          [0. 0. 0. 0. 0. 0. 0. 0.]\n",
    "          [0. 0. 0. 0. 0. 0. 0. 0.]\n",
    "          [0. 0. 0. 0. 0. 0. 0. 0.]\n",
    "          [0. 0. 0. 0. 0. 0. 0. 0.]\n",
    "          [0. 0. 0. 0. 0. 0. 0. 0.]\n",
    "          [0. 0. 0. 0. 0. 0. 0. 0.]]\n",
    "\n",
    "\n",
    "## Note:\n",
    "\n",
    "numpy_array(::row2, ::column2)\n",
    "\n",
    "* ::row2 # means first start in row2 and after that come to me\n",
    "* ::column2 # means first start in column2 and after that come to me\n",
    "\n",
    "\n",
    "numpy_array(row1::, column1::)\n",
    "\n",
    "* row1:: # means first start in row1 and after that come to me\n",
    "* column1:: # means first start in column1 and after that come to me\n",
    "\n",
    "'''\n",
    "\n",
    "Z[1::2, ::2] = 1\n",
    "\n",
    "'''\n",
    "# 1 column is dead # i use (1) as deafult for nothing number but you can take any number you like\n",
    "# 2 column is life\n",
    "\n",
    "# 1 row is dead\n",
    "# 2 row is life\n",
    "\n",
    "\n",
    "    2  1  2  1  2  1  2  1\n",
    "1 [[0. 0. 0. 0. 0. 0. 0. 0.]\n",
    "2  [1. 0. 1. 0. 1. 0. 1. 0.]\n",
    "1  [0. 0. 0. 0. 0. 0. 0. 0.]\n",
    "2  [1. 0. 1. 0. 1. 0. 1. 0.]\n",
    "1  [0. 0. 0. 0. 0. 0. 0. 0.]\n",
    "2  [1. 0. 1. 0. 1. 0. 1. 0.]\n",
    "1  [0. 0. 0. 0. 0. 0. 0. 0.]\n",
    "2  [1. 0. 1. 0. 1. 0. 1. 0.]]\n",
    "\n",
    "'''\n",
    "\n",
    "\n",
    "Z[::2, 1::2] = 2 # \n",
    "'''\n",
    "# 1 row is dead # i use (1) as deafult for nothing number but you can take any number you like\n",
    "# 2 row is life\n",
    "\n",
    "# 1 column is dead\n",
    "# 2 column is life\n",
    "\n",
    "    1  2  1  2  1  2  1  2\n",
    "2 [[0. 2. 0. 2. 0. 2. 0. 2.]\n",
    "1  [0. 0. 0. 0. 0. 0. 0. 0.]\n",
    "2  [0. 2. 0. 2. 0. 2. 0. 2.]\n",
    "1  [0. 0. 0. 0. 0. 0. 0. 0.]\n",
    "2  [0. 2. 0. 2. 0. 2. 0. 2.]\n",
    "1  [0. 0. 0. 0. 0. 0. 0. 0.]\n",
    "2  [0. 2. 0. 2. 0. 2. 0. 2.]\n",
    "1  [0. 0. 0. 0. 0. 0. 0. 0.]]\n",
    "\n",
    "'''\n",
    "\n",
    "\n",
    "print(Z)\n",
    "'''\n",
    "[[0. 2. 0. 2. 0. 2. 0. 2.]\n",
    " [1. 0. 1. 0. 1. 0. 1. 0.]\n",
    " [0. 2. 0. 2. 0. 2. 0. 2.]\n",
    " [1. 0. 1. 0. 1. 0. 1. 0.]\n",
    " [0. 2. 0. 2. 0. 2. 0. 2.]\n",
    " [1. 0. 1. 0. 1. 0. 1. 0.]\n",
    " [0. 2. 0. 2. 0. 2. 0. 2.]\n",
    " [1. 0. 1. 0. 1. 0. 1. 0.]]\n",
    "'''"
   ]
  },
  {
   "cell_type": "code",
   "execution_count": 173,
   "id": "368e5e08-cb85-4f5a-90f5-2009847e141a",
   "metadata": {},
   "outputs": [
    {
     "name": "stdout",
     "output_type": "stream",
     "text": [
      "[2, 3, 4, 5, 6, 7, 8, 9, 10, 11, 12]\n"
     ]
    }
   ],
   "source": [
    "# range(0, 11) # means from 0 to 11 but not 11\n",
    "# w + 2 for w in range(0, 11) # means w is part of range(0, 11) or in another word every number is go to the w using for each and after that we plus each value by 2\n",
    "# [ w + 2 for w in range(0, 11)] # means in the end call all value as (list)\n",
    "new_list = [ w + 2 for w in range(0, 11)]\n",
    "\n",
    "print(new_list) # [2, 3, 4, 5, 6, 7, 8, 9, 10, 11, 12]"
   ]
  },
  {
   "cell_type": "code",
   "execution_count": 176,
   "id": "b3d02067-a877-4f0f-8293-cd43d761d0a2",
   "metadata": {},
   "outputs": [
    {
     "name": "stdout",
     "output_type": "stream",
     "text": [
      "[ 2  3  4  5  6  7  8  9 10 11 12]\n"
     ]
    }
   ],
   "source": [
    "# range(0, 11) # means create range of list from 0 to 11 \n",
    "# numpy.array(range(0, 11)) # means change this list to array numpy\n",
    "np_arr = np.array(range(0, 11))\n",
    "\n",
    "numpy_array_plus = np_arr + 2 # plus each vlaue in numpy array by (2) using plus (+) sign\n",
    "\n",
    "\n",
    "print(numpy_array_plus) # [ 2  3  4  5  6  7  8  9 10 11 12]"
   ]
  },
  {
   "cell_type": "code",
   "execution_count": 175,
   "id": "8c668a19-409d-468b-be26-cda58581c87b",
   "metadata": {},
   "outputs": [
    {
     "name": "stdout",
     "output_type": "stream",
     "text": [
      "[ 7  9 11 13 15]\n"
     ]
    }
   ],
   "source": [
    "# numpy.array([1,2,3,4,5]) # change this list to numpy array\n",
    "temp = np.array([1,2,3,4,5])\n",
    "\n",
    "pressure = temp * 2 + 5\n",
    "\n",
    "print(pressure)"
   ]
  },
  {
   "cell_type": "code",
   "execution_count": 178,
   "id": "5659cd6e-e21f-40eb-8a1a-8f1069929ad0",
   "metadata": {},
   "outputs": [
    {
     "data": {
      "image/png": "[encoded data removed]",
      "text/plain": [
       "<Figure size 640x480 with 1 Axes>"
      ]
     },
     "metadata": {},
     "output_type": "display_data"
    }
   ],
   "source": [
    "plt.plot(temp,pressure) # create plot diagram using   plot()   function with plot module\n",
    "plt.xlabel('Temperature in oC') # buttom text using   xlabel()   function with plot module\n",
    "plt.ylabel('Pressure in atm') # left text using   ylabel()   function with plot module\n",
    "plt.title('Temperature vs Pressure') # title text using   title()   function with plot module\n",
    "plt.xticks(np.arange(0, 6, step=0.5)) # for x axis we are ranged array numpy from 0 to 6 and each step is come with 0.5 # and we put this number to the chart using   xticks()   function with plot module\n",
    "plt.show() # in the end show as the plot diagram using   show()   function with plot module"
   ]
  },
  {
   "cell_type": "code",
   "execution_count": 187,
   "id": "b0094959-1cb8-44b6-9264-e76f634afe1a",
   "metadata": {},
   "outputs": [
    {
     "name": "stderr",
     "output_type": "stream",
     "text": [
      "/tmp/ipykernel_12662/2008636569.py:8: UserWarning: \n",
      "\n",
      "`distplot` is a deprecated function and will be removed in seaborn v0.14.0.\n",
      "\n",
      "Please adapt your code to use either `displot` (a figure-level function with\n",
      "similar flexibility) or `histplot` (an axes-level function for histograms).\n",
      "\n",
      "For a guide to updating your code to use the new functions, please see\n",
      "https://gist.github.com/mwaskom/de44147ed2974457ad6372750bbe5751\n",
      "\n",
      "  ax = sns.distplot(x) #\n"
     ]
    },
    {
     "data": {
      "image/png": "[encoded data removed]",
      "text/plain": [
       "<Figure size 640x480 with 1 Axes>"
      ]
     },
     "metadata": {},
     "output_type": "display_data"
    }
   ],
   "source": [
    "import seaborn as sns\n",
    "\n",
    "mu = 28\n",
    "sigma = 15\n",
    "samples = 100000\n",
    "\n",
    "x = np.random.normal(mu, sigma, samples) # creating normal random number in numpy module )\n",
    "ax = sns.distplot(x) # displaying this random number in plot diagram \n",
    "ax.set(xlabel=\"x\", ylabel='y') # take name for x axis using (xlabe) parameter and y axis using (ylabel) parameter using   set()   funciton\n",
    "\n",
    "plt.show() # in the end show plot diagram"
   ]
  }
 ],
 "metadata": {
  "kernelspec": {
   "display_name": "Python 3 (ipykernel)",
   "language": "python",
   "name": "python3"
  },
  "language_info": {
   "codemirror_mode": {
    "name": "ipython",
    "version": 3
   },
   "file_extension": ".py",
   "mimetype": "text/x-python",
   "name": "python",
   "nbconvert_exporter": "python",
   "pygments_lexer": "ipython3",
   "version": "3.9.12"
  },
  "vscode": {
   "interpreter": {
    "hash": "aee8b7b246df8f9039afb4144a1f6fd8d2ca17a180786b69acc140d282b71a49"
   }
  }
 },
 "nbformat": 4,
 "nbformat_minor": 5
}
